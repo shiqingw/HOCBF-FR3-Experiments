{
 "cells": [
  {
   "cell_type": "code",
   "execution_count": 34,
   "metadata": {},
   "outputs": [
    {
     "name": "stdout",
     "output_type": "stream",
     "text": [
      "Interface Running...\n"
     ]
    }
   ],
   "source": [
    "import sys \n",
    "from FR3Py.robot.interface import FR3Real\n",
    "robot = FR3Real(robot_id='fr3')"
   ]
  },
  {
   "cell_type": "code",
   "execution_count": 35,
   "metadata": {},
   "outputs": [
    {
     "data": {
      "text/plain": [
       "{'q': array([ 7.57132296e-04, -7.84388364e-01,  3.87324241e-03, -2.40504641e+00,\n",
       "        -1.38597921e-03,  1.57104123e+00,  7.86667680e-01]),\n",
       " 'dq': array([-0.00116993, -0.0002909 , -0.00040437, -0.00012203,  0.00020795,\n",
       "         0.00017607,  0.00054925]),\n",
       " 'T': array([-0.06021428, -4.34961081, -0.9263519 , 23.3774147 ,  1.08232343,\n",
       "         2.09470344, -0.10297176])}"
      ]
     },
     "execution_count": 35,
     "metadata": {},
     "output_type": "execute_result"
    }
   ],
   "source": [
    "robot.getStates()"
   ]
  },
  {
   "cell_type": "code",
   "execution_count": 36,
   "metadata": {},
   "outputs": [],
   "source": [
    "import numpy as np\n",
    "from FR3Py.robot.model_collision_avoidance import PinocchioModel\n",
    "import time\n",
    "\n",
    "pin_robot = PinocchioModel()\n",
    "joint_lb = np.array([-2.3093, -1.5133, -2.4937, -2.7478, -2.48, 0.8521, -2.6895])\n",
    "joint_ub = np.array([2.3093, 1.5133, 2.4937, -0.4461, 2.48, 4.2094, 2.6895])\n",
    "n_joints = 7\n",
    "q_bar = 0.5*(joint_ub + joint_lb)\n",
    "P_EE_desired = np.array([0.42, 0.50, 0.0])\n",
    "R_EE_desired = np.array([[1, 0, 0],\n",
    "                        [0, -1, 0],\n",
    "                        [0, 0, -1]])\n",
    "P_EE_initial = np.array([0.30, 0.0, 0.47])"
   ]
  },
  {
   "cell_type": "markdown",
   "metadata": {},
   "source": [
    "### Inverse dynamic control (initial pose to pre-cleaning pose)"
   ]
  },
  {
   "cell_type": "code",
   "execution_count": 37,
   "metadata": {},
   "outputs": [],
   "source": [
    "from cores.utils.trajectory_utils import TrapezoidalTrajectory\n",
    "\n",
    "via_points = np.array([P_EE_initial, P_EE_desired])\n",
    "target_time = np.array([0, 10])\n",
    "traj = TrapezoidalTrajectory(via_points, target_time, T_antp=0.2, Ts=0.01)"
   ]
  },
  {
   "cell_type": "code",
   "execution_count": 38,
   "metadata": {},
   "outputs": [],
   "source": [
    "from cores.utils.control_utils import get_torque_to_track_traj_const_ori\n",
    "\n",
    "T = 12\n",
    "\n",
    "Kp_task = np.diag([40,40,40,100,100,100])\n",
    "Kd_task = np.diag([40,40,40,100,100,100])\n",
    "\n",
    "Kp_joint = np.diag([0.1, 0.1, 0.1, 0.1, 0.1, 0.1, 0.1])*10\n",
    "Kd_joint = np.diag([0.5, 0.5, 0.5, 0.5, 0.5, 0.5, 0.5])*10\n",
    "\n",
    "delta = 0.1\n",
    "\n",
    "t_start = time.time()\n",
    "while time.time() - t_start < T:\n",
    "    t = time.time() - t_start\n",
    "    traj_pos, traj_vel, traj_acc = traj.get_traj_and_ders(t)\n",
    "\n",
    "    q = 0.025*np.ones(9)\n",
    "    dq = np.zeros(9)\n",
    "    robot_info = robot.getStates()\n",
    "    q[0:n_joints] = robot_info['q']\n",
    "    dq[0:n_joints] = robot_info['dq']\n",
    "\n",
    "    pin_info = pin_robot.getInfo(q, dq)\n",
    "    q = q[0:n_joints]\n",
    "    dq = dq[0:n_joints]\n",
    "    P_EE = pin_info[\"P_EE\"]\n",
    "    R_EE = pin_info[\"R_EE\"]\n",
    "    J_EE = pin_info[\"J_EE\"][:,0:n_joints] # shape (6,7)\n",
    "    dJdq_EE = pin_info[\"dJdq_EE\"] # shape (6,)\n",
    "    v_EE = J_EE @ dq # shape (6,)\n",
    "    M = pin_info[\"M\"][0:n_joints,0:n_joints] + delta*np.eye(n_joints) # shape (7,7)\n",
    "    # Minv = pin_info[\"Minv\"][0:n_joints,0:n_joints]   # shape (7,7)\n",
    "    Minv = np.linalg.inv(M)\n",
    "    nle = pin_info[\"nle\"][0:n_joints]  # shape (7,)\n",
    "    G = pin_info[\"G\"][0:n_joints]  # shape (7,)\n",
    "\n",
    "    S, u_task = get_torque_to_track_traj_const_ori(traj_pos, traj_vel, traj_acc, R_EE_desired, Kp_task, Kd_task, Minv, J_EE, dJdq_EE, dq, P_EE, R_EE)\n",
    "\n",
    "    # Secondary objective: encourage the joints to remain close to the initial configuration\n",
    "    W = np.diag(1.0/(joint_ub-joint_lb))\n",
    "    eq = W @ (q - q_bar)\n",
    "    deq = W @ dq\n",
    "    u_joint = M @ (- Kd_joint @ deq - Kp_joint @ eq) \n",
    "\n",
    "    # Compute the input torque\n",
    "    Spinv = S.T @ np.linalg.pinv(S @ S.T + 0.01* np.eye(S.shape[0]))\n",
    "    u_nominal =  Spinv @ u_task + (np.eye(len(q)) - Spinv @ S) @ u_joint\n",
    "    u = np.clip(u_nominal, -20, 20)\n",
    "    robot.setCommands(u)\n",
    "\n",
    "robot.setCommands(np.zeros_like(u))\n"
   ]
  },
  {
   "cell_type": "markdown",
   "metadata": {},
   "source": [
    "### (Optional) Press against the surface while maintaining only orientation"
   ]
  },
  {
   "cell_type": "code",
   "execution_count": 21,
   "metadata": {},
   "outputs": [
    {
     "ename": "KeyboardInterrupt",
     "evalue": "",
     "output_type": "error",
     "traceback": [
      "\u001b[0;31m---------------------------------------------------------------------------\u001b[0m",
      "\u001b[0;31mKeyboardInterrupt\u001b[0m                         Traceback (most recent call last)",
      "Cell \u001b[0;32mIn[21], line 51\u001b[0m\n\u001b[1;32m     49\u001b[0m u_nominal \u001b[38;5;241m=\u001b[39m  Spinv \u001b[38;5;241m@\u001b[39m u_task \u001b[38;5;241m+\u001b[39m (np\u001b[38;5;241m.\u001b[39meye(\u001b[38;5;28mlen\u001b[39m(q)) \u001b[38;5;241m-\u001b[39m Spinv \u001b[38;5;241m@\u001b[39m S) \u001b[38;5;241m@\u001b[39m u_joint \u001b[38;5;241m+\u001b[39m u_press\n\u001b[1;32m     50\u001b[0m u \u001b[38;5;241m=\u001b[39m np\u001b[38;5;241m.\u001b[39mclip(u_nominal, \u001b[38;5;241m-\u001b[39m\u001b[38;5;241m20\u001b[39m, \u001b[38;5;241m20\u001b[39m)\n\u001b[0;32m---> 51\u001b[0m \u001b[43mrobot\u001b[49m\u001b[38;5;241;43m.\u001b[39;49m\u001b[43msetCommands\u001b[49m\u001b[43m(\u001b[49m\u001b[43mu\u001b[49m\u001b[43m)\u001b[49m\n",
      "File \u001b[0;32m/FR3Py/FR3Py/robot/interface.py:98\u001b[0m, in \u001b[0;36mFR3Real.setCommands\u001b[0;34m(self, cmd)\u001b[0m\n\u001b[1;32m     96\u001b[0m \u001b[38;5;28;01massert\u001b[39;00m cmd\u001b[38;5;241m.\u001b[39mshape \u001b[38;5;241m==\u001b[39m (\u001b[38;5;241m7\u001b[39m,), \u001b[38;5;124m\"\u001b[39m\u001b[38;5;124mCommand shape must be (7,)\u001b[39m\u001b[38;5;124m\"\u001b[39m\n\u001b[1;32m     97\u001b[0m \u001b[38;5;28mself\u001b[39m\u001b[38;5;241m.\u001b[39mcommand_msg\u001b[38;5;241m.\u001b[39mtimestamp \u001b[38;5;241m=\u001b[39m \u001b[38;5;28mint\u001b[39m(\u001b[38;5;28mself\u001b[39m\u001b[38;5;241m.\u001b[39mtrigger_timestamp \u001b[38;5;241m*\u001b[39m \u001b[38;5;241m1000000\u001b[39m)\n\u001b[0;32m---> 98\u001b[0m \u001b[38;5;28mself\u001b[39m\u001b[38;5;241m.\u001b[39mcommand_msg\u001b[38;5;241m.\u001b[39mcmd \u001b[38;5;241m=\u001b[39m \u001b[43mcmd\u001b[49m\u001b[38;5;241;43m.\u001b[39;49m\u001b[43mtolist\u001b[49m\u001b[43m(\u001b[49m\u001b[43m)\u001b[49m\u001b[38;5;241m+\u001b[39m [\u001b[38;5;241m0\u001b[39m, \u001b[38;5;241m0\u001b[39m]\n\u001b[1;32m     99\u001b[0m \u001b[38;5;28mself\u001b[39m\u001b[38;5;241m.\u001b[39mlc\u001b[38;5;241m.\u001b[39mpublish(\u001b[38;5;28mself\u001b[39m\u001b[38;5;241m.\u001b[39mcommand_topic_name, \u001b[38;5;28mself\u001b[39m\u001b[38;5;241m.\u001b[39mcommand_msg\u001b[38;5;241m.\u001b[39mencode())\n\u001b[1;32m    100\u001b[0m \u001b[38;5;28mself\u001b[39m\u001b[38;5;241m.\u001b[39mcmd_log \u001b[38;5;241m=\u001b[39m cmd\n",
      "\u001b[0;31mKeyboardInterrupt\u001b[0m: "
     ]
    }
   ],
   "source": [
    "from cores.utils.control_utils import get_torque_to_track_const_ori\n",
    "\n",
    "T = 1000\n",
    "\n",
    "Kp_task = np.diag([100,100,100])\n",
    "Kd_task = np.diag([100,100,100])\n",
    "\n",
    "Kd_joint = np.diag([0.5, 0.5, 0.5, 0.5, 0.5, 0.5, 0.5])*10\n",
    "F_ext = np.array([0, 0, -15, 0, 0, 0])\n",
    "\n",
    "delta = 0.1\n",
    "\n",
    "t_start = time.time()\n",
    "while time.time() - t_start < T:\n",
    "    t = time.time() - t_start\n",
    "    \n",
    "    q = 0.025*np.ones(9)\n",
    "    dq = np.zeros(9)\n",
    "    robot_info = robot.getStates()\n",
    "    q[0:n_joints] = robot_info['q']\n",
    "    dq[0:n_joints] = robot_info['dq']\n",
    "\n",
    "    pin_info = pin_robot.getInfo(q, dq)\n",
    "    q = q[0:n_joints]\n",
    "    dq = dq[0:n_joints]\n",
    "    P_EE = pin_info[\"P_EE\"]\n",
    "    R_EE = pin_info[\"R_EE\"]\n",
    "    J_EE = pin_info[\"J_EE\"][:,0:n_joints] # shape (6,7)\n",
    "    dJdq_EE = pin_info[\"dJdq_EE\"] # shape (6,)\n",
    "    v_EE = J_EE @ dq # shape (6,)\n",
    "    M = pin_info[\"M\"][0:n_joints,0:n_joints] + delta*np.eye(n_joints) # shape (7,7)\n",
    "    # Minv = pin_info[\"Minv\"][0:n_joints,0:n_joints]   # shape (7,7)\n",
    "    Minv = np.linalg.inv(M)\n",
    "    nle = pin_info[\"nle\"][0:n_joints]  # shape (7,)\n",
    "    G = pin_info[\"G\"][0:n_joints]  # shape (7,)\n",
    "\n",
    "    S, u_task = get_torque_to_track_const_ori(R_EE_desired, Kp_task, Kd_task, Minv, J_EE, dJdq_EE, dq, R_EE)\n",
    "\n",
    "    # Second objective: apply a force on the z axis to press the end-effector against the table\n",
    "    u_press = J_EE.T @ F_ext\n",
    "\n",
    "    # Third objective: encourage the joints to have zero velocity\n",
    "    W = np.diag(1.0/(joint_ub-joint_lb))\n",
    "    deq = W @ dq\n",
    "    u_joint = M @ (-Kd_joint @ deq) \n",
    "\n",
    "    # Compute the input torque\n",
    "    Spinv = S.T @ np.linalg.pinv(S @ S.T + 0.01* np.eye(S.shape[0]))\n",
    "    u_nominal =  Spinv @ u_task + (np.eye(len(q)) - Spinv @ S) @ u_joint + u_press\n",
    "    u = np.clip(u_nominal, -20, 20)\n",
    "    robot.setCommands(u)\n",
    "\n",
    "robot.setCommands(np.zeros_like(u))"
   ]
  },
  {
   "cell_type": "markdown",
   "metadata": {},
   "source": [
    "### Press against the surface while tracking a circular trajectory"
   ]
  },
  {
   "cell_type": "code",
   "execution_count": 39,
   "metadata": {},
   "outputs": [],
   "source": [
    "from cores.utils.trajectory_utils import CircularTrajectory\n",
    "duration = 100\n",
    "P_start_point = P_EE_desired # np.array([0.42, 0.50, 0.00])\n",
    "P_center = np.array([0.30, 0.50, 0.00])\n",
    "nominal_linear_vel = 0.1\n",
    "R_b_to_w = np.eye(3)\n",
    "traj = CircularTrajectory(P_center, P_start_point, nominal_linear_vel, R_b_to_w, duration)\n"
   ]
  },
  {
   "cell_type": "code",
   "execution_count": 45,
   "metadata": {},
   "outputs": [],
   "source": [
    "T = 60\n",
    "\n",
    "Kp_task = np.diag([40,40,40,100,100,100])\n",
    "Kd_task = np.diag([40,40,40,100,100,100])\n",
    "\n",
    "Kp_joint = np.diag([0.1, 0.1, 0.1, 0.1, 0.1, 0.1, 0.1])*200\n",
    "Kd_joint = np.diag([0.5, 0.5, 0.5, 0.5, 0.5, 0.5, 0.5])*160\n",
    "\n",
    "F_ext = np.array([0, 0, -10, 0, 0, 0])\n",
    "\n",
    "delta = 0.1\n",
    "\n",
    "t_start = time.time()\n",
    "while time.time() - t_start < T:\n",
    "    t = time.time() - t_start\n",
    "    traj_pos, traj_vel, traj_acc = traj.get_traj_and_ders(t)\n",
    "\n",
    "    q = 0.025*np.ones(9)\n",
    "    dq = np.zeros(9)\n",
    "    robot_info = robot.getStates()\n",
    "    q[0:n_joints] = robot_info['q']\n",
    "    dq[0:n_joints] = robot_info['dq']\n",
    "\n",
    "    pin_info = pin_robot.getInfo(q, dq)\n",
    "    q = q[0:n_joints]\n",
    "    dq = dq[0:n_joints]\n",
    "    P_EE = pin_info[\"P_EE\"]\n",
    "    R_EE = pin_info[\"R_EE\"]\n",
    "    J_EE = pin_info[\"J_EE\"][:,0:n_joints] # shape (6,7)\n",
    "    dJdq_EE = pin_info[\"dJdq_EE\"] # shape (6,)\n",
    "    v_EE = J_EE @ dq # shape (6,)\n",
    "    M = pin_info[\"M\"][0:n_joints,0:n_joints] + delta*np.eye(n_joints) # shape (7,7)\n",
    "    # Minv = pin_info[\"Minv\"][0:n_joints,0:n_joints]   # shape (7,7)\n",
    "    Minv = np.linalg.inv(M)\n",
    "    nle = pin_info[\"nle\"][0:n_joints]  # shape (7,)\n",
    "    G = pin_info[\"G\"][0:n_joints]  # shape (7,)\n",
    "\n",
    "    S, u_task = get_torque_to_track_traj_const_ori(traj_pos, traj_vel, traj_acc, R_EE_desired, Kp_task, Kd_task, Minv, J_EE, dJdq_EE, dq, P_EE, R_EE)\n",
    "\n",
    "    # Second objective: apply a force on the z axis to press the end-effector against the table\n",
    "    u_press = J_EE.T @ F_ext\n",
    "\n",
    "    # Third objective: encourage the joints to remain close to the initial configuration\n",
    "    W = np.diag(1.0/(joint_ub-joint_lb))\n",
    "    eq = W @ (q - q_bar)\n",
    "    deq = W @ dq\n",
    "    u_joint = M @ (- Kd_joint @ deq - Kp_joint @ eq) \n",
    "\n",
    "    # Compute the input torque\n",
    "    Spinv = S.T @ np.linalg.pinv(S @ S.T + 0.01* np.eye(S.shape[0]))\n",
    "    u_nominal =  Spinv @ u_task + (np.eye(len(q)) - Spinv @ S) @ u_joint + u_press\n",
    "    u = np.clip(u_nominal, -20, 20)\n",
    "    robot.setCommands(u)\n",
    "\n",
    "robot.setCommands(np.zeros_like(u))"
   ]
  }
 ],
 "metadata": {
  "kernelspec": {
   "display_name": "base",
   "language": "python",
   "name": "python3"
  },
  "language_info": {
   "codemirror_mode": {
    "name": "ipython",
    "version": 3
   },
   "file_extension": ".py",
   "mimetype": "text/x-python",
   "name": "python",
   "nbconvert_exporter": "python",
   "pygments_lexer": "ipython3",
   "version": "3.11.0"
  }
 },
 "nbformat": 4,
 "nbformat_minor": 2
}
