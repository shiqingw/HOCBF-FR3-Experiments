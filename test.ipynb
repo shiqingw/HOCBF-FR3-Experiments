{
 "cells": [
  {
   "cell_type": "code",
   "execution_count": 1,
   "metadata": {},
   "outputs": [
    {
     "name": "stdout",
     "output_type": "stream",
     "text": [
      "Interface Running...\n"
     ]
    }
   ],
   "source": [
    "import sys \n",
    "from FR3Py.robot.interface import FR3Real\n",
    "robot = FR3Real(robot_id='fr3')"
   ]
  },
  {
   "cell_type": "code",
   "execution_count": 15,
   "metadata": {},
   "outputs": [
    {
     "data": {
      "text/plain": [
       "{'q': array([ 1.8466009 ,  0.90860445, -0.815622  , -1.95736279,  1.0293229 ,\n",
       "         2.40330383,  1.25407804]),\n",
       " 'dq': array([ 0.00081562,  0.00058247,  0.00251157, -0.00068401,  0.00012018,\n",
       "        -0.00037878,  0.0004964 ]),\n",
       " 'T': array([  0.11434627, -37.77398682, -17.52150536,  13.33224964,\n",
       "          0.55681074,   2.19449592,  -0.04346249])}"
      ]
     },
     "execution_count": 15,
     "metadata": {},
     "output_type": "execute_result"
    }
   ],
   "source": [
    "robot.getStates()"
   ]
  },
  {
   "cell_type": "code",
   "execution_count": 3,
   "metadata": {},
   "outputs": [],
   "source": [
    "import numpy as np\n",
    "from FR3Py.robot.model_collision_avoidance import PinocchioModel\n",
    "pin_robot = PinocchioModel()\n",
    "joint_lb = np.array([-2.3093, -1.5133, -2.4937, -2.7478, -2.48, 0.8521, -2.6895])\n",
    "joint_ub = np.array([2.3093, 1.5133, 2.4937, -0.4461, 2.48, 4.2094, 2.6895])\n",
    "q_nominal = np.array([0.7237753, 0.80070632, 0.14942601, -1.71996101, -0.16544614,\n",
    "         2.48563189,  1.75224705, 0.025, 0.025])\n",
    "pin_info = pin_robot.getInfo(q_nominal, np.zeros_like(q_nominal))\n",
    "P_EE_desired = pin_info['P_EE']\n",
    "R_EE_desired = np.array([[1, 0, 0],\n",
    "                        [0, -1, 0],\n",
    "                        [0, 0, -1]])\n"
   ]
  },
  {
   "cell_type": "code",
   "execution_count": 4,
   "metadata": {},
   "outputs": [],
   "source": [
    "q_initial = np.array([ 1.99664562e-04, -7.83964837e-01,  3.22413486e-03, -2.38147407e+00,\n",
    "        -7.03871748e-04,  1.57095859e+00,  7.86564759e-01, 0.025, 0.025])\n",
    "pin_info = pin_robot.getInfo(q_initial, np.zeros_like(q_initial))\n",
    "P_EE_initial = pin_info['P_EE']"
   ]
  },
  {
   "cell_type": "code",
   "execution_count": 13,
   "metadata": {},
   "outputs": [
    {
     "ename": "KeyboardInterrupt",
     "evalue": "",
     "output_type": "error",
     "traceback": [
      "\u001b[0;31m---------------------------------------------------------------------------\u001b[0m",
      "\u001b[0;31mKeyboardInterrupt\u001b[0m                         Traceback (most recent call last)",
      "Cell \u001b[0;32mIn[13], line 31\u001b[0m\n\u001b[1;32m     28\u001b[0m q[\u001b[38;5;241m0\u001b[39m:n_joints] \u001b[38;5;241m=\u001b[39m robot_info[\u001b[38;5;124m'\u001b[39m\u001b[38;5;124mq\u001b[39m\u001b[38;5;124m'\u001b[39m]\n\u001b[1;32m     29\u001b[0m dq[\u001b[38;5;241m0\u001b[39m:n_joints] \u001b[38;5;241m=\u001b[39m robot_info[\u001b[38;5;124m'\u001b[39m\u001b[38;5;124mdq\u001b[39m\u001b[38;5;124m'\u001b[39m]\n\u001b[0;32m---> 31\u001b[0m pin_info \u001b[38;5;241m=\u001b[39m \u001b[43mpin_robot\u001b[49m\u001b[38;5;241;43m.\u001b[39;49m\u001b[43mgetInfo\u001b[49m\u001b[43m(\u001b[49m\u001b[43mq\u001b[49m\u001b[43m,\u001b[49m\u001b[43m \u001b[49m\u001b[43mdq\u001b[49m\u001b[43m)\u001b[49m\n\u001b[1;32m     32\u001b[0m q \u001b[38;5;241m=\u001b[39m q[\u001b[38;5;241m0\u001b[39m:n_joints]\n\u001b[1;32m     33\u001b[0m dq \u001b[38;5;241m=\u001b[39m dq[\u001b[38;5;241m0\u001b[39m:n_joints]\n",
      "File \u001b[0;32m/FR3Py/FR3Py/robot/model_collision_avoidance.py:144\u001b[0m, in \u001b[0;36mPinocchioModel.getInfo\u001b[0;34m(self, q, dq)\u001b[0m\n\u001b[1;32m    135\u001b[0m     (   info[\u001b[38;5;124mf\u001b[39m\u001b[38;5;124m\"\u001b[39m\u001b[38;5;124mP_\u001b[39m\u001b[38;5;132;01m{\u001b[39;00mframe_name\u001b[38;5;132;01m}\u001b[39;00m\u001b[38;5;124m\"\u001b[39m],\n\u001b[1;32m    136\u001b[0m         info[\u001b[38;5;124mf\u001b[39m\u001b[38;5;124m\"\u001b[39m\u001b[38;5;124mR_\u001b[39m\u001b[38;5;132;01m{\u001b[39;00mframe_name\u001b[38;5;132;01m}\u001b[39;00m\u001b[38;5;124m\"\u001b[39m],\n\u001b[1;32m    137\u001b[0m         info[\u001b[38;5;124mf\u001b[39m\u001b[38;5;124m\"\u001b[39m\u001b[38;5;124mquat_\u001b[39m\u001b[38;5;132;01m{\u001b[39;00mframe_name\u001b[38;5;132;01m}\u001b[39;00m\u001b[38;5;124m\"\u001b[39m],\n\u001b[1;32m    138\u001b[0m     ) \u001b[38;5;241m=\u001b[39m \u001b[38;5;28mself\u001b[39m\u001b[38;5;241m.\u001b[39mcompute_crude_location(\n\u001b[1;32m    139\u001b[0m         \u001b[38;5;28mself\u001b[39m\u001b[38;5;241m.\u001b[39mbase_R_offset, \u001b[38;5;28mself\u001b[39m\u001b[38;5;241m.\u001b[39mbase_p_offset, frame_id\n\u001b[1;32m    140\u001b[0m     )\n\u001b[1;32m    142\u001b[0m     \u001b[38;5;66;03m# Advanced calculation\u001b[39;00m\n\u001b[1;32m    143\u001b[0m     \u001b[38;5;66;03m# dJdq = dJ/dt * dq, shape (6,)\u001b[39;00m\n\u001b[0;32m--> 144\u001b[0m     info[\u001b[38;5;124mf\u001b[39m\u001b[38;5;124m\"\u001b[39m\u001b[38;5;124mdJdq_\u001b[39m\u001b[38;5;132;01m{\u001b[39;00mframe_name\u001b[38;5;132;01m}\u001b[39;00m\u001b[38;5;124m\"\u001b[39m] \u001b[38;5;241m=\u001b[39m np\u001b[38;5;241m.\u001b[39marray(pin\u001b[38;5;241m.\u001b[39mgetFrameClassicalAcceleration(\n\u001b[1;32m    145\u001b[0m         \u001b[38;5;28mself\u001b[39m\u001b[38;5;241m.\u001b[39mrobot\u001b[38;5;241m.\u001b[39mmodel, \u001b[38;5;28mself\u001b[39m\u001b[38;5;241m.\u001b[39mrobot\u001b[38;5;241m.\u001b[39mdata, frame_id, \u001b[38;5;28mself\u001b[39m\u001b[38;5;241m.\u001b[39mjacobian_frame\n\u001b[1;32m    146\u001b[0m     ))\n\u001b[1;32m    148\u001b[0m \u001b[38;5;66;03m# Get dynamics\u001b[39;00m\n\u001b[1;32m    149\u001b[0m info[\u001b[38;5;124m\"\u001b[39m\u001b[38;5;124mM\u001b[39m\u001b[38;5;124m\"\u001b[39m] \u001b[38;5;241m=\u001b[39m \u001b[38;5;28mself\u001b[39m\u001b[38;5;241m.\u001b[39mrobot\u001b[38;5;241m.\u001b[39mmass(q)\n",
      "\u001b[0;31mKeyboardInterrupt\u001b[0m: "
     ]
    }
   ],
   "source": [
    "import time\n",
    "from cores.utils.control_utils import get_torque_to_track_traj_const_ori\n",
    "\n",
    "T = 10\n",
    "n_joints = 7\n",
    "q_bar = 0.5*(joint_ub + joint_lb)\n",
    "# Kp = np.diag([20,20,20,100,100,100])\n",
    "# Kd = np.diag([20,20,20,100,100,100])\n",
    "\n",
    "Kp_task = np.diag([2,2,2,10,10,10])*10\n",
    "Kd_task = np.diag([2,2,2,10,10,10])*10\n",
    "\n",
    "Kp_joint = np.diag([0.1, 0.1, 0.1, 0.1, 0.1, 0.1, 0.1])\n",
    "Kd_joint = np.diag([0.5, 0.5, 0.5, 0.5, 0.5, 0.5, 0.5])\n",
    "\n",
    "t_start = time.time()\n",
    "while time.time() - t_start < T:\n",
    "    t = time.time() - t_start\n",
    "    traj_pos = P_EE_initial + (P_EE_desired - P_EE_initial)*t/T\n",
    "    traj_vel = (P_EE_desired - P_EE_initial)/T\n",
    "    traj_acc = np.zeros(3)\n",
    "\n",
    "    q = 0.025*np.ones(9)\n",
    "    dq = np.zeros(9)\n",
    "    robot_info = robot.getStates()\n",
    "    q[0:n_joints] = robot_info['q']\n",
    "    dq[0:n_joints] = robot_info['dq']\n",
    "\n",
    "    pin_info = pin_robot.getInfo(q, dq)\n",
    "    q = q[0:n_joints]\n",
    "    dq = dq[0:n_joints]\n",
    "    P_EE = pin_info[\"P_EE\"]\n",
    "    R_EE = pin_info[\"R_EE\"]\n",
    "    J_EE = pin_info[\"J_EE\"][:,0:n_joints] # shape (6,7)\n",
    "    dJdq_EE = pin_info[\"dJdq_EE\"] # shape (6,)\n",
    "    v_EE = J_EE @ dq # shape (6,)\n",
    "    Minv = pin_info[\"Minv\"][0:n_joints,0:n_joints]  # shape (7,7)\n",
    "    M = pin_info[\"M\"][0:n_joints,0:n_joints]  # shape (7,7)\n",
    "\n",
    "    S, u_task = get_torque_to_track_traj_const_ori(traj_pos, traj_vel, traj_acc, R_EE_desired, Kp_task, Kd_task, Minv, J_EE, dJdq_EE, dq, P_EE, R_EE)\n",
    "\n",
    "    # Secondary objective: encourage the joints to remain close to the initial configuration\n",
    "    W = np.diag(1.0/(joint_ub-joint_lb))\n",
    "    eq = W @ (q - q_bar)\n",
    "    deq = W @ dq\n",
    "    u_joint = M @ (- Kd_joint @ deq - Kp_joint @ eq) \n",
    "\n",
    "    # Compute the input torque\n",
    "    Spinv = S.T @ np.linalg.pinv(S @ S.T + 0.01* np.eye(S.shape[0]))\n",
    "    u_nominal =  Spinv @ u_task + (np.eye(len(q)) - Spinv @ S) @ u_joint\n",
    "    robot.setCommands(u_nominal)\n",
    "\n",
    "\n",
    "\n",
    "\n"
   ]
  }
 ],
 "metadata": {
  "kernelspec": {
   "display_name": "base",
   "language": "python",
   "name": "python3"
  },
  "language_info": {
   "codemirror_mode": {
    "name": "ipython",
    "version": 3
   },
   "file_extension": ".py",
   "mimetype": "text/x-python",
   "name": "python",
   "nbconvert_exporter": "python",
   "pygments_lexer": "ipython3",
   "version": "3.11.0"
  }
 },
 "nbformat": 4,
 "nbformat_minor": 2
}
