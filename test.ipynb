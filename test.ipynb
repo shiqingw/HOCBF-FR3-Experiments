{
 "cells": [
  {
   "cell_type": "code",
   "execution_count": 75,
   "metadata": {},
   "outputs": [
    {
     "name": "stdout",
     "output_type": "stream",
     "text": [
      "Interface Running...\n"
     ]
    }
   ],
   "source": [
    "import sys \n",
    "from FR3Py.robot.interface import FR3Real\n",
    "robot = FR3Real(robot_id='fr3')"
   ]
  },
  {
   "cell_type": "code",
   "execution_count": 76,
   "metadata": {},
   "outputs": [
    {
     "data": {
      "text/plain": [
       "{'q': array([-1.30746028e-04, -7.84261289e-01,  3.31916483e-03, -2.40457787e+00,\n",
       "        -1.24985089e-03,  1.57096515e+00,  7.86413598e-01]),\n",
       " 'dq': array([ 0.00015521, -0.00107692, -0.00046396, -0.00033343,  0.00052828,\n",
       "        -0.00088578, -0.00040021]),\n",
       " 'T': array([ 0.03896785, -4.32183981, -0.90254819, 23.27426529,  1.11436689,\n",
       "         2.14139533, -0.09015438])}"
      ]
     },
     "execution_count": 76,
     "metadata": {},
     "output_type": "execute_result"
    }
   ],
   "source": [
    "robot.getStates()"
   ]
  },
  {
   "cell_type": "code",
   "execution_count": 77,
   "metadata": {},
   "outputs": [],
   "source": [
    "import numpy as np\n",
    "from FR3Py.robot.model_collision_avoidance import PinocchioModel\n",
    "import time\n",
    "\n",
    "pin_robot = PinocchioModel()\n",
    "joint_lb = np.array([-2.3093, -1.5133, -2.4937, -2.7478, -2.48, 0.8521, -2.6895])\n",
    "joint_ub = np.array([2.3093, 1.5133, 2.4937, -0.4461, 2.48, 4.2094, 2.6895])\n",
    "n_joints = 7\n",
    "q_bar = 0.5*(joint_ub + joint_lb)\n",
    "P_EE_desired = np.array([0.42, 0.50, 0.00])\n",
    "R_EE_desired = np.array([[1, 0, 0],\n",
    "                        [0, -1, 0],\n",
    "                        [0, 0, -1]])\n",
    "P_EE_initial = np.array([0.30, 0.0, 0.47])"
   ]
  },
  {
   "cell_type": "markdown",
   "metadata": {},
   "source": [
    "### Inverse dynamic control (initial pose to pre-cleaning pose)"
   ]
  },
  {
   "cell_type": "code",
   "execution_count": 78,
   "metadata": {},
   "outputs": [],
   "source": [
    "from cores.utils.trajectory_utils import TrapezoidalTrajectory\n",
    "\n",
    "via_points = np.array([P_EE_initial, P_EE_desired])\n",
    "target_time = np.array([0, 10])\n",
    "traj = TrapezoidalTrajectory(via_points, target_time, T_antp=0.2, Ts=0.01)"
   ]
  },
  {
   "cell_type": "code",
   "execution_count": 79,
   "metadata": {},
   "outputs": [],
   "source": [
    "from cores.utils.control_utils import get_torque_to_track_traj_const_ori\n",
    "\n",
    "T = 12\n",
    "\n",
    "Kp_task = np.diag([40,40,40,100,100,100])\n",
    "Kd_task = np.diag([40,40,40,100,100,100])\n",
    "\n",
    "Kp_joint = np.diag([0.1, 0.1, 0.1, 0.1, 0.1, 0.1, 0.1])*10\n",
    "Kd_joint = np.diag([0.5, 0.5, 0.5, 0.5, 0.5, 0.5, 0.5])*10\n",
    "\n",
    "delta = 0.1\n",
    "\n",
    "t_start = time.time()\n",
    "while time.time() - t_start < T:\n",
    "    t = time.time() - t_start\n",
    "    traj_pos, traj_vel, traj_acc = traj.get_traj_and_ders(t)\n",
    "\n",
    "    q = 0.025*np.ones(9)\n",
    "    dq = np.zeros(9)\n",
    "    robot_info = robot.getStates()\n",
    "    q[0:n_joints] = robot_info['q']\n",
    "    dq[0:n_joints] = robot_info['dq']\n",
    "\n",
    "    pin_info = pin_robot.getInfo(q, dq)\n",
    "    q = q[0:n_joints]\n",
    "    dq = dq[0:n_joints]\n",
    "    P_EE = pin_info[\"P_EE\"]\n",
    "    R_EE = pin_info[\"R_EE\"]\n",
    "    J_EE = pin_info[\"J_EE\"][:,0:n_joints] # shape (6,7)\n",
    "    dJdq_EE = pin_info[\"dJdq_EE\"] # shape (6,)\n",
    "    v_EE = J_EE @ dq # shape (6,)\n",
    "    M = pin_info[\"M\"][0:n_joints,0:n_joints] + delta*np.eye(n_joints) # shape (7,7)\n",
    "    # Minv = pin_info[\"Minv\"][0:n_joints,0:n_joints]   # shape (7,7)\n",
    "    Minv = np.linalg.inv(M)\n",
    "    nle = pin_info[\"nle\"][0:n_joints]  # shape (7,)\n",
    "    G = pin_info[\"G\"][0:n_joints]  # shape (7,)\n",
    "\n",
    "    S, u_task = get_torque_to_track_traj_const_ori(traj_pos, traj_vel, traj_acc, R_EE_desired, Kp_task, Kd_task, Minv, J_EE, dJdq_EE, dq, P_EE, R_EE)\n",
    "\n",
    "    # Secondary objective: encourage the joints to remain close to the initial configuration\n",
    "    W = np.diag(1.0/(joint_ub-joint_lb))\n",
    "    eq = W @ (q - q_bar)\n",
    "    deq = W @ dq\n",
    "    u_joint = M @ (- Kd_joint @ deq - Kp_joint @ eq) \n",
    "\n",
    "    # Compute the input torque\n",
    "    Spinv = S.T @ np.linalg.pinv(S @ S.T + 0.01* np.eye(S.shape[0]))\n",
    "    u_nominal =  Spinv @ u_task + (np.eye(len(q)) - Spinv @ S) @ u_joint\n",
    "    u = np.clip(u_nominal, -20, 20)\n",
    "    robot.setCommands(u)\n",
    "\n",
    "robot.setCommands(np.zeros_like(u))\n"
   ]
  },
  {
   "cell_type": "markdown",
   "metadata": {},
   "source": [
    "### (Optional) Press against the surface while maintaining only orientation"
   ]
  },
  {
   "cell_type": "code",
   "execution_count": 38,
   "metadata": {},
   "outputs": [
    {
     "ename": "KeyboardInterrupt",
     "evalue": "",
     "output_type": "error",
     "traceback": [
      "\u001b[0;31m---------------------------------------------------------------------------\u001b[0m",
      "\u001b[0;31mKeyboardInterrupt\u001b[0m                         Traceback (most recent call last)",
      "Cell \u001b[0;32mIn[38], line 24\u001b[0m\n\u001b[1;32m     21\u001b[0m q[\u001b[38;5;241m0\u001b[39m:n_joints] \u001b[38;5;241m=\u001b[39m robot_info[\u001b[38;5;124m'\u001b[39m\u001b[38;5;124mq\u001b[39m\u001b[38;5;124m'\u001b[39m]\n\u001b[1;32m     22\u001b[0m dq[\u001b[38;5;241m0\u001b[39m:n_joints] \u001b[38;5;241m=\u001b[39m robot_info[\u001b[38;5;124m'\u001b[39m\u001b[38;5;124mdq\u001b[39m\u001b[38;5;124m'\u001b[39m]\n\u001b[0;32m---> 24\u001b[0m pin_info \u001b[38;5;241m=\u001b[39m \u001b[43mpin_robot\u001b[49m\u001b[38;5;241;43m.\u001b[39;49m\u001b[43mgetInfo\u001b[49m\u001b[43m(\u001b[49m\u001b[43mq\u001b[49m\u001b[43m,\u001b[49m\u001b[43m \u001b[49m\u001b[43mdq\u001b[49m\u001b[43m)\u001b[49m\n\u001b[1;32m     25\u001b[0m q \u001b[38;5;241m=\u001b[39m q[\u001b[38;5;241m0\u001b[39m:n_joints]\n\u001b[1;32m     26\u001b[0m dq \u001b[38;5;241m=\u001b[39m dq[\u001b[38;5;241m0\u001b[39m:n_joints]\n",
      "File \u001b[0;32m/FR3Py/FR3Py/robot/model_collision_avoidance.py:138\u001b[0m, in \u001b[0;36mPinocchioModel.getInfo\u001b[0;34m(self, q, dq)\u001b[0m\n\u001b[1;32m    132\u001b[0m info[\u001b[38;5;124mf\u001b[39m\u001b[38;5;124m\"\u001b[39m\u001b[38;5;124mJ_\u001b[39m\u001b[38;5;132;01m{\u001b[39;00mframe_name\u001b[38;5;132;01m}\u001b[39;00m\u001b[38;5;124m\"\u001b[39m] \u001b[38;5;241m=\u001b[39m \u001b[38;5;28mself\u001b[39m\u001b[38;5;241m.\u001b[39mrobot\u001b[38;5;241m.\u001b[39mgetFrameJacobian(frame_id, \u001b[38;5;28mself\u001b[39m\u001b[38;5;241m.\u001b[39mjacobian_frame)\n\u001b[1;32m    134\u001b[0m \u001b[38;5;66;03m# Frame position and orientation\u001b[39;00m\n\u001b[1;32m    135\u001b[0m (   info[\u001b[38;5;124mf\u001b[39m\u001b[38;5;124m\"\u001b[39m\u001b[38;5;124mP_\u001b[39m\u001b[38;5;132;01m{\u001b[39;00mframe_name\u001b[38;5;132;01m}\u001b[39;00m\u001b[38;5;124m\"\u001b[39m],\n\u001b[1;32m    136\u001b[0m     info[\u001b[38;5;124mf\u001b[39m\u001b[38;5;124m\"\u001b[39m\u001b[38;5;124mR_\u001b[39m\u001b[38;5;132;01m{\u001b[39;00mframe_name\u001b[38;5;132;01m}\u001b[39;00m\u001b[38;5;124m\"\u001b[39m],\n\u001b[1;32m    137\u001b[0m     info[\u001b[38;5;124mf\u001b[39m\u001b[38;5;124m\"\u001b[39m\u001b[38;5;124mquat_\u001b[39m\u001b[38;5;132;01m{\u001b[39;00mframe_name\u001b[38;5;132;01m}\u001b[39;00m\u001b[38;5;124m\"\u001b[39m],\n\u001b[0;32m--> 138\u001b[0m ) \u001b[38;5;241m=\u001b[39m \u001b[38;5;28;43mself\u001b[39;49m\u001b[38;5;241;43m.\u001b[39;49m\u001b[43mcompute_crude_location\u001b[49m\u001b[43m(\u001b[49m\n\u001b[1;32m    139\u001b[0m \u001b[43m    \u001b[49m\u001b[38;5;28;43mself\u001b[39;49m\u001b[38;5;241;43m.\u001b[39;49m\u001b[43mbase_R_offset\u001b[49m\u001b[43m,\u001b[49m\u001b[43m \u001b[49m\u001b[38;5;28;43mself\u001b[39;49m\u001b[38;5;241;43m.\u001b[39;49m\u001b[43mbase_p_offset\u001b[49m\u001b[43m,\u001b[49m\u001b[43m \u001b[49m\u001b[43mframe_id\u001b[49m\n\u001b[1;32m    140\u001b[0m \u001b[43m\u001b[49m\u001b[43m)\u001b[49m\n\u001b[1;32m    142\u001b[0m \u001b[38;5;66;03m# Advanced calculation\u001b[39;00m\n\u001b[1;32m    143\u001b[0m \u001b[38;5;66;03m# dJdq = dJ/dt * dq, shape (6,)\u001b[39;00m\n\u001b[1;32m    144\u001b[0m info[\u001b[38;5;124mf\u001b[39m\u001b[38;5;124m\"\u001b[39m\u001b[38;5;124mdJdq_\u001b[39m\u001b[38;5;132;01m{\u001b[39;00mframe_name\u001b[38;5;132;01m}\u001b[39;00m\u001b[38;5;124m\"\u001b[39m] \u001b[38;5;241m=\u001b[39m np\u001b[38;5;241m.\u001b[39marray(pin\u001b[38;5;241m.\u001b[39mgetFrameClassicalAcceleration(\n\u001b[1;32m    145\u001b[0m     \u001b[38;5;28mself\u001b[39m\u001b[38;5;241m.\u001b[39mrobot\u001b[38;5;241m.\u001b[39mmodel, \u001b[38;5;28mself\u001b[39m\u001b[38;5;241m.\u001b[39mrobot\u001b[38;5;241m.\u001b[39mdata, frame_id, \u001b[38;5;28mself\u001b[39m\u001b[38;5;241m.\u001b[39mjacobian_frame\n\u001b[1;32m    146\u001b[0m ))\n",
      "File \u001b[0;32m/FR3Py/FR3Py/robot/model_collision_avoidance.py:89\u001b[0m, in \u001b[0;36mPinocchioModel.compute_crude_location\u001b[0;34m(self, base_R_offset, base_p_offset, frame_id)\u001b[0m\n\u001b[1;32m     86\u001b[0m _Rot \u001b[38;5;241m=\u001b[39m \u001b[38;5;28mself\u001b[39m\u001b[38;5;241m.\u001b[39mrobot\u001b[38;5;241m.\u001b[39mdata\u001b[38;5;241m.\u001b[39moMf[frame_id]\u001b[38;5;241m.\u001b[39mrotation\n\u001b[1;32m     88\u001b[0m \u001b[38;5;66;03m# compute link transformation matrix\u001b[39;00m\n\u001b[0;32m---> 89\u001b[0m _T \u001b[38;5;241m=\u001b[39m \u001b[43mnp\u001b[49m\u001b[38;5;241;43m.\u001b[39;49m\u001b[43mhstack\u001b[49m\u001b[43m(\u001b[49m\u001b[43m(\u001b[49m\u001b[43m_Rot\u001b[49m\u001b[43m,\u001b[49m\u001b[43m \u001b[49m\u001b[43m_p\u001b[49m\u001b[43m[\u001b[49m\u001b[43m:\u001b[49m\u001b[43m,\u001b[49m\u001b[43m \u001b[49m\u001b[43mnp\u001b[49m\u001b[38;5;241;43m.\u001b[39;49m\u001b[43mnewaxis\u001b[49m\u001b[43m]\u001b[49m\u001b[43m)\u001b[49m\u001b[43m)\u001b[49m\n\u001b[1;32m     90\u001b[0m T \u001b[38;5;241m=\u001b[39m np\u001b[38;5;241m.\u001b[39mvstack((_T, np\u001b[38;5;241m.\u001b[39marray([[\u001b[38;5;241m0.0\u001b[39m, \u001b[38;5;241m0.0\u001b[39m, \u001b[38;5;241m0.0\u001b[39m, \u001b[38;5;241m1.0\u001b[39m]])))\n\u001b[1;32m     92\u001b[0m \u001b[38;5;66;03m# compute link offset transformation matrix\u001b[39;00m\n",
      "File \u001b[0;32m<__array_function__ internals>:200\u001b[0m, in \u001b[0;36mhstack\u001b[0;34m(*args, **kwargs)\u001b[0m\n",
      "File \u001b[0;32m/opt/conda/lib/python3.11/site-packages/numpy/core/shape_base.py:370\u001b[0m, in \u001b[0;36mhstack\u001b[0;34m(tup, dtype, casting)\u001b[0m\n\u001b[1;32m    368\u001b[0m     \u001b[38;5;28;01mreturn\u001b[39;00m _nx\u001b[38;5;241m.\u001b[39mconcatenate(arrs, \u001b[38;5;241m0\u001b[39m, dtype\u001b[38;5;241m=\u001b[39mdtype, casting\u001b[38;5;241m=\u001b[39mcasting)\n\u001b[1;32m    369\u001b[0m \u001b[38;5;28;01melse\u001b[39;00m:\n\u001b[0;32m--> 370\u001b[0m     \u001b[38;5;28;01mreturn\u001b[39;00m \u001b[43m_nx\u001b[49m\u001b[38;5;241;43m.\u001b[39;49m\u001b[43mconcatenate\u001b[49m\u001b[43m(\u001b[49m\u001b[43marrs\u001b[49m\u001b[43m,\u001b[49m\u001b[43m \u001b[49m\u001b[38;5;241;43m1\u001b[39;49m\u001b[43m,\u001b[49m\u001b[43m \u001b[49m\u001b[43mdtype\u001b[49m\u001b[38;5;241;43m=\u001b[39;49m\u001b[43mdtype\u001b[49m\u001b[43m,\u001b[49m\u001b[43m \u001b[49m\u001b[43mcasting\u001b[49m\u001b[38;5;241;43m=\u001b[39;49m\u001b[43mcasting\u001b[49m\u001b[43m)\u001b[49m\n",
      "File \u001b[0;32m<__array_function__ internals>:200\u001b[0m, in \u001b[0;36mconcatenate\u001b[0;34m(*args, **kwargs)\u001b[0m\n",
      "\u001b[0;31mKeyboardInterrupt\u001b[0m: "
     ]
    }
   ],
   "source": [
    "from cores.utils.control_utils import get_torque_to_track_const_ori\n",
    "\n",
    "T = 1000\n",
    "\n",
    "Kp_task = np.diag([0,0,100])\n",
    "Kd_task = np.diag([0,0,100])\n",
    "\n",
    "Kd_joint = np.diag([0.5, 0.5, 0.5, 0.5, 0.5, 0.5, 0.5])*10\n",
    "# F_ext = np.array([0, 0, -15, 0, 0, 0])\n",
    "F_ext = np.array([0, 0, 0, 0, 0, 0])\n",
    "\n",
    "delta = 0.1\n",
    "\n",
    "t_start = time.time()\n",
    "while time.time() - t_start < T:\n",
    "    t = time.time() - t_start\n",
    "    \n",
    "    q = 0.025*np.ones(9)\n",
    "    dq = np.zeros(9)\n",
    "    robot_info = robot.getStates()\n",
    "    q[0:n_joints] = robot_info['q']\n",
    "    dq[0:n_joints] = robot_info['dq']\n",
    "\n",
    "    pin_info = pin_robot.getInfo(q, dq)\n",
    "    q = q[0:n_joints]\n",
    "    dq = dq[0:n_joints]\n",
    "    P_EE = pin_info[\"P_EE\"]\n",
    "    R_EE = pin_info[\"R_EE\"]\n",
    "    J_EE = pin_info[\"J_EE\"][:,0:n_joints] # shape (6,7)\n",
    "    dJdq_EE = pin_info[\"dJdq_EE\"] # shape (6,)\n",
    "    v_EE = J_EE @ dq # shape (6,)\n",
    "    M = pin_info[\"M\"][0:n_joints,0:n_joints] + delta*np.eye(n_joints) # shape (7,7)\n",
    "    # Minv = pin_info[\"Minv\"][0:n_joints,0:n_joints]   # shape (7,7)\n",
    "    Minv = np.linalg.inv(M)\n",
    "    nle = pin_info[\"nle\"][0:n_joints]  # shape (7,)\n",
    "    G = pin_info[\"G\"][0:n_joints]  # shape (7,)\n",
    "\n",
    "    S, u_task = get_torque_to_track_const_ori(R_EE_desired, Kp_task, Kd_task, Minv, J_EE, dJdq_EE, dq, R_EE)\n",
    "\n",
    "    # Second objective: apply a force on the z axis to press the end-effector against the table\n",
    "    u_press = J_EE.T @ F_ext\n",
    "\n",
    "    # Third objective: encourage the joints to have zero velocity\n",
    "    W = np.diag(1.0/(joint_ub-joint_lb))\n",
    "    deq = W @ dq\n",
    "    u_joint = M @ (-Kd_joint @ deq) \n",
    "\n",
    "    # Compute the input torque\n",
    "    Spinv = S.T @ np.linalg.pinv(S @ S.T + 0.01* np.eye(S.shape[0]))\n",
    "    u_nominal =  Spinv @ u_task + (np.eye(len(q)) - Spinv @ S) @ u_joint + u_press\n",
    "    u = np.clip(u_nominal, -20, 20)\n",
    "    robot.setCommands(u)\n",
    "\n",
    "robot.setCommands(np.zeros_like(u))"
   ]
  },
  {
   "cell_type": "markdown",
   "metadata": {},
   "source": [
    "### Press against the surface while tracking a circular trajectory"
   ]
  },
  {
   "cell_type": "code",
   "execution_count": 53,
   "metadata": {},
   "outputs": [],
   "source": [
    "from cores.utils.trajectory_utils import CircularTrajectory\n",
    "duration = 100\n",
    "P_start_point = np.array([0.42, 0.50, -0.01])\n",
    "P_center = np.array([0.30, 0.50, -0.01])\n",
    "nominal_linear_vel = 0.05\n",
    "R_b_to_w = np.eye(3)\n",
    "traj = CircularTrajectory(P_center, P_start_point, nominal_linear_vel, R_b_to_w, duration)\n"
   ]
  },
  {
   "cell_type": "code",
   "execution_count": 55,
   "metadata": {},
   "outputs": [],
   "source": [
    "T = 60\n",
    "\n",
    "# Kp_task = np.diag([40,40,40,100,100,100])\n",
    "# Kd_task = np.diag([40,40,40,100,100,100])\n",
    "\n",
    "# Kp_joint = np.diag([0.1, 0.1, 0.1, 0.1, 0.1, 0.1, 0.1])*200\n",
    "# Kd_joint = np.diag([0.5, 0.5, 0.5, 0.5, 0.5, 0.5, 0.5])*160\n",
    "\n",
    "# F_ext = np.array([0, 0, -10, 0, 0, 0])\n",
    "\n",
    "Kp_task = np.diag([40,40,40,60,40,100])\n",
    "Kd_task = np.diag([30,30,30,20,20,75])\n",
    "\n",
    "Kp_joint = np.diag([0.1, 0.1, 0.1, 0.1, 0.1, 0.1, 0.1])*200\n",
    "Kd_joint = np.diag([0.5, 0.5, 0.5, 0.5, 0.5, 0.5, 0.5])*160\n",
    "\n",
    "F_ext = np.array([0, 0, -10, 0, 0, 0])\n",
    "\n",
    "delta = 0.1\n",
    "\n",
    "t_start = time.time()\n",
    "while time.time() - t_start < T:\n",
    "    t = time.time() - t_start\n",
    "    traj_pos, traj_vel, traj_acc = traj.get_traj_and_ders(t)\n",
    "\n",
    "    q = 0.025*np.ones(9)\n",
    "    dq = np.zeros(9)\n",
    "    robot_info = robot.getStates()\n",
    "    q[0:n_joints] = robot_info['q']\n",
    "    dq[0:n_joints] = robot_info['dq']\n",
    "\n",
    "    pin_info = pin_robot.getInfo(q, dq)\n",
    "    q = q[0:n_joints]\n",
    "    dq = dq[0:n_joints]\n",
    "    P_EE = pin_info[\"P_EE\"]\n",
    "    R_EE = pin_info[\"R_EE\"]\n",
    "    J_EE = pin_info[\"J_EE\"][:,0:n_joints] # shape (6,7)\n",
    "    dJdq_EE = pin_info[\"dJdq_EE\"] # shape (6,)\n",
    "    v_EE = J_EE @ dq # shape (6,)\n",
    "    M = pin_info[\"M\"][0:n_joints,0:n_joints] + delta*np.eye(n_joints) # shape (7,7)\n",
    "    # Minv = pin_info[\"Minv\"][0:n_joints,0:n_joints]   # shape (7,7)\n",
    "    Minv = np.linalg.inv(M)\n",
    "    nle = pin_info[\"nle\"][0:n_joints]  # shape (7,)\n",
    "    G = pin_info[\"G\"][0:n_joints]  # shape (7,)\n",
    "\n",
    "    S, u_task = get_torque_to_track_traj_const_ori(traj_pos, traj_vel, traj_acc, R_EE_desired, Kp_task, Kd_task, Minv, J_EE, dJdq_EE, dq, P_EE, R_EE)\n",
    "\n",
    "    # Second objective: apply a force on the z axis to press the end-effector against the table\n",
    "    u_press = J_EE.T @ F_ext\n",
    "\n",
    "    # Third objective: encourage the joints to remain close to the initial configuration\n",
    "    W = np.diag(1.0/(joint_ub-joint_lb))\n",
    "    eq = W @ (q - q_bar)\n",
    "    deq = W @ dq\n",
    "    u_joint = M @ (- Kd_joint @ deq - Kp_joint @ eq) \n",
    "\n",
    "    # Compute the input torque\n",
    "    Spinv = S.T @ np.linalg.pinv(S @ S.T + 0.01* np.eye(S.shape[0]))\n",
    "    u_nominal =  Spinv @ u_task + (np.eye(len(q)) - Spinv @ S) @ u_joint + u_press\n",
    "    u = np.clip(u_nominal, -10, 10)\n",
    "    robot.setCommands(u)\n",
    "\n",
    "robot.setCommands(np.zeros_like(u))"
   ]
  },
  {
   "cell_type": "markdown",
   "metadata": {},
   "source": [
    "### Press against the surface while tracking a circular trajectory with friction compensation"
   ]
  },
  {
   "cell_type": "code",
   "execution_count": 73,
   "metadata": {},
   "outputs": [],
   "source": [
    "from cores.utils.trajectory_utils import CircularTrajectory\n",
    "duration = 100\n",
    "P_start_point = np.array([0.42, 0.50, -0.01])\n",
    "P_center = np.array([0.30, 0.50, -0.01])\n",
    "nominal_linear_vel = 0.05\n",
    "R_b_to_w = np.eye(3)\n",
    "traj = CircularTrajectory(P_center, P_start_point, nominal_linear_vel, R_b_to_w, duration)"
   ]
  },
  {
   "cell_type": "code",
   "execution_count": 74,
   "metadata": {},
   "outputs": [
    {
     "ename": "TypeError",
     "evalue": "'NoneType' object is not subscriptable",
     "output_type": "error",
     "traceback": [
      "\u001b[0;31m---------------------------------------------------------------------------\u001b[0m",
      "\u001b[0;31mTypeError\u001b[0m                                 Traceback (most recent call last)",
      "Cell \u001b[0;32mIn[74], line 29\u001b[0m\n\u001b[1;32m     27\u001b[0m dq \u001b[38;5;241m=\u001b[39m np\u001b[38;5;241m.\u001b[39mzeros(\u001b[38;5;241m9\u001b[39m)\n\u001b[1;32m     28\u001b[0m robot_info \u001b[38;5;241m=\u001b[39m robot\u001b[38;5;241m.\u001b[39mgetStates()\n\u001b[0;32m---> 29\u001b[0m q[\u001b[38;5;241m0\u001b[39m:n_joints] \u001b[38;5;241m=\u001b[39m \u001b[43mrobot_info\u001b[49m\u001b[43m[\u001b[49m\u001b[38;5;124;43m'\u001b[39;49m\u001b[38;5;124;43mq\u001b[39;49m\u001b[38;5;124;43m'\u001b[39;49m\u001b[43m]\u001b[49m\n\u001b[1;32m     30\u001b[0m dq[\u001b[38;5;241m0\u001b[39m:n_joints] \u001b[38;5;241m=\u001b[39m robot_info[\u001b[38;5;124m'\u001b[39m\u001b[38;5;124mdq\u001b[39m\u001b[38;5;124m'\u001b[39m]\n\u001b[1;32m     32\u001b[0m pin_info \u001b[38;5;241m=\u001b[39m pin_robot\u001b[38;5;241m.\u001b[39mgetInfo(q, dq)\n",
      "\u001b[0;31mTypeError\u001b[0m: 'NoneType' object is not subscriptable"
     ]
    }
   ],
   "source": [
    "T = 60\n",
    "\n",
    "# Kp_task = np.diag([40,40,40,100,100,100])\n",
    "# Kd_task = np.diag([40,40,40,100,100,100])\n",
    "\n",
    "# Kp_joint = np.diag([0.1, 0.1, 0.1, 0.1, 0.1, 0.1, 0.1])*200\n",
    "# Kd_joint = np.diag([0.5, 0.5, 0.5, 0.5, 0.5, 0.5, 0.5])*160\n",
    "\n",
    "# F_ext = np.array([0, 0, -10, 0, 0, 0])\n",
    "\n",
    "Kp_task = np.diag([40,40,40,60,40,100])\n",
    "Kd_task = np.diag([30,30,30,20,20,75])\n",
    "\n",
    "Kp_joint = np.diag([0.1, 0.1, 0.1, 0.1, 0.1, 0.1, 0.1])*200\n",
    "Kd_joint = np.diag([0.5, 0.5, 0.5, 0.5, 0.5, 0.5, 0.5])*160\n",
    "\n",
    "F_ext = np.array([0, 0, -10, 0, 0, 0])\n",
    "\n",
    "delta = 0.1\n",
    "\n",
    "t_start = time.time()\n",
    "while time.time() - t_start < T:\n",
    "    t = time.time() - t_start\n",
    "    traj_pos, traj_vel, traj_acc = traj.get_traj_and_ders(t)\n",
    "\n",
    "    q = 0.025*np.ones(9)\n",
    "    dq = np.zeros(9)\n",
    "    robot_info = robot.getStates()\n",
    "    q[0:n_joints] = robot_info['q']\n",
    "    dq[0:n_joints] = robot_info['dq']\n",
    "\n",
    "    pin_info = pin_robot.getInfo(q, dq)\n",
    "    q = q[0:n_joints]\n",
    "    dq = dq[0:n_joints]\n",
    "    tau_m = robot_info[\"T\"] # shape (6,)\n",
    "    P_EE = pin_info[\"P_EE\"]\n",
    "    R_EE = pin_info[\"R_EE\"]\n",
    "    J_EE = pin_info[\"J_EE\"][:,0:n_joints] # shape (6,7)\n",
    "    dJdq_EE = pin_info[\"dJdq_EE\"] # shape (6,)\n",
    "    v_EE = J_EE @ dq # shape (6,)\n",
    "    M = pin_info[\"M\"][0:n_joints,0:n_joints] + delta*np.eye(n_joints) # shape (7,7)\n",
    "    # Minv = pin_info[\"Minv\"][0:n_joints,0:n_joints]   # shape (7,7)\n",
    "    Minv = np.linalg.inv(M)\n",
    "    nle = pin_info[\"nle\"][0:n_joints]  # shape (7,)\n",
    "    G = pin_info[\"G\"][0:n_joints]  # shape (7,)\n",
    "    tau_ext = tau_m - nle\n",
    "\n",
    "\n",
    "    S, u_task = get_torque_to_track_traj_const_ori(traj_pos, traj_vel, traj_acc, R_EE_desired, Kp_task, Kd_task, Minv, J_EE, dJdq_EE, dq, P_EE, R_EE)\n",
    "\n",
    "    # Second objective: apply a force on the z axis to press the end-effector against the table\n",
    "    F_ext = np.linalg.pinv(J_EE.T) @ tau_ext\n",
    "    F_ext[2] = -10\n",
    "    F_ext[3:6] = 0\n",
    "    u_press = J_EE.T @ F_ext\n",
    "\n",
    "    # Third objective: encourage the joints to remain close to the initial configuration\n",
    "    W = np.diag(1.0/(joint_ub-joint_lb))\n",
    "    eq = W @ (q - q_bar)\n",
    "    deq = W @ dq\n",
    "    u_joint = M @ (- Kd_joint @ deq - Kp_joint @ eq) \n",
    "\n",
    "    # Compute the input torque\n",
    "    Spinv = S.T @ np.linalg.pinv(S @ S.T + 0.01* np.eye(S.shape[0]))\n",
    "    u_nominal =  Spinv @ u_task + (np.eye(len(q)) - Spinv @ S) @ u_joint + u_press\n",
    "    u = np.clip(u_nominal, -5, 5)\n",
    "    robot.setCommands(u)\n",
    "\n",
    "robot.setCommands(np.zeros_like(u))\n"
   ]
  },
  {
   "cell_type": "code",
   "execution_count": 69,
   "metadata": {},
   "outputs": [
    {
     "name": "stdout",
     "output_type": "stream",
     "text": [
      "[-0.1355927  -4.32183981 -0.9541229  23.27426529  1.10154951  2.18167853\n",
      "  0.1268256 ]\n",
      "[-5.79693362e-07 -4.09602941e+00 -7.08754527e-01  2.21027625e+01\n",
      "  6.27158807e-01  2.23941359e+00  7.31253069e-04]\n"
     ]
    }
   ],
   "source": [
    "q = 0.025*np.ones(9)\n",
    "dq = np.zeros(9)\n",
    "robot_info = robot.getStates()\n",
    "q[0:n_joints] = robot_info['q']\n",
    "dq[0:n_joints] = robot_info['dq']\n",
    "\n",
    "pin_info = pin_robot.getInfo(q, dq)\n",
    "q = q[0:n_joints]\n",
    "dq = dq[0:n_joints]\n",
    "tau_m = robot_info[\"T\"] # shape (6,)\n",
    "P_EE = pin_info[\"P_EE\"]\n",
    "R_EE = pin_info[\"R_EE\"]\n",
    "J_EE = pin_info[\"J_EE\"][:,0:n_joints] # shape (6,7)\n",
    "dJdq_EE = pin_info[\"dJdq_EE\"] # shape (6,)\n",
    "v_EE = J_EE @ dq # shape (6,)\n",
    "M = pin_info[\"M\"][0:n_joints,0:n_joints] + delta*np.eye(n_joints) # shape (7,7)\n",
    "# Minv = pin_info[\"Minv\"][0:n_joints,0:n_joints]   # shape (7,7)\n",
    "Minv = np.linalg.inv(M)\n",
    "nle = pin_info[\"nle\"][0:n_joints]  # shape (7,)\n",
    "G = pin_info[\"G\"][0:n_joints]  # shape (7,)\n",
    "print(tau_m)\n",
    "print(nle)"
   ]
  }
 ],
 "metadata": {
  "kernelspec": {
   "display_name": "base",
   "language": "python",
   "name": "python3"
  },
  "language_info": {
   "codemirror_mode": {
    "name": "ipython",
    "version": 3
   },
   "file_extension": ".py",
   "mimetype": "text/x-python",
   "name": "python",
   "nbconvert_exporter": "python",
   "pygments_lexer": "ipython3",
   "version": "3.11.0"
  }
 },
 "nbformat": 4,
 "nbformat_minor": 2
}
