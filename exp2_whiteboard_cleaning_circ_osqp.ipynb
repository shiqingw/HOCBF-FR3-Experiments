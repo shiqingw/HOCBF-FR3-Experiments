{
 "cells": [
  {
   "cell_type": "markdown",
   "metadata": {},
   "source": [
    "## 1. Set up communication with the FR3"
   ]
  },
  {
   "cell_type": "markdown",
   "metadata": {},
   "source": [
    "### 1.1 Set up communication with the arm"
   ]
  },
  {
   "cell_type": "code",
   "execution_count": 1,
   "metadata": {},
   "outputs": [
    {
     "name": "stdout",
     "output_type": "stream",
     "text": [
      "Interface Running...\n"
     ]
    }
   ],
   "source": [
    "%load_ext autoreload\n",
    "%autoreload 2\n",
    "import time\n",
    "from FR3Py.robot.interface import FR3Real\n",
    "robot = FR3Real(robot_id='fr3')"
   ]
  },
  {
   "cell_type": "code",
   "execution_count": 2,
   "metadata": {},
   "outputs": [
    {
     "data": {
      "text/plain": [
       "{'q': array([ 1.01659286e-03, -7.84574688e-01,  2.65144777e-04, -2.35615414e+00,\n",
       "         6.53570752e-04,  1.57149386e+00,  7.86423481e-01]),\n",
       " 'dq': array([ 1.95893033e-03, -6.45154287e-04, -3.84011903e-04,  1.90886690e-03,\n",
       "         5.86512937e-04, -7.41309238e-04, -4.93530116e-05]),\n",
       " 'T': array([-0.18716741, -4.42498922, -0.72402036, 23.09573746,  0.64744794,\n",
       "         2.08829474, -0.07642147]),\n",
       " 'M': array([[ 4.93314438e-01, -9.12961117e-03,  4.91721044e-01,\n",
       "         -1.18128119e-02,  6.15613762e-02, -3.07054733e-03,\n",
       "          1.29636583e-03],\n",
       "        [-9.12961117e-03,  1.54913274e+00,  4.69062181e-03,\n",
       "         -7.02455575e-01, -1.29744295e-02, -2.25245248e-02,\n",
       "         -1.54223793e-03],\n",
       "        [ 4.91721044e-01,  4.69062181e-03,  9.96043815e-01,\n",
       "         -2.58479077e-02,  7.51007050e-02, -3.85952235e-03,\n",
       "          3.25308727e-03],\n",
       "        [-1.18128119e-02, -7.02455575e-01, -2.58479077e-02,\n",
       "          9.73413903e-01,  2.55986581e-02,  1.11800789e-01,\n",
       "         -1.72255990e-04],\n",
       "        [ 6.15613762e-02, -1.29744295e-02,  7.51007050e-02,\n",
       "          2.55986581e-02,  2.35352311e-02,  2.33075571e-03,\n",
       "          8.06990757e-04],\n",
       "        [-3.07054733e-03, -2.25245248e-02, -3.85952235e-03,\n",
       "          1.11800789e-01,  2.33075571e-03,  3.89414138e-02,\n",
       "         -6.74436677e-04],\n",
       "        [ 1.29636583e-03, -1.54223793e-03,  3.25308727e-03,\n",
       "         -1.72255990e-04,  8.06990757e-04, -6.74436677e-04,\n",
       "          2.17287172e-03]]),\n",
       " 'G': array([-1.08420217e-18, -4.09540724e+00, -6.10547406e-01,  2.29275448e+01,\n",
       "         7.48948307e-01,  2.24352708e+00,  5.67426029e-05]),\n",
       " 'C': array([-1.19555136e-06, -3.71667856e-06, -4.10155387e-06, -6.87632666e-07,\n",
       "        -2.49704498e-07, -7.44203235e-07,  3.41952852e-09])}"
      ]
     },
     "execution_count": 2,
     "metadata": {},
     "output_type": "execute_result"
    }
   ],
   "source": [
    "# Print the arm state\n",
    "robot.getJointStates()"
   ]
  },
  {
   "cell_type": "markdown",
   "metadata": {},
   "source": [
    "### 1.2 Set up communication with the gripper"
   ]
  },
  {
   "cell_type": "code",
   "execution_count": 3,
   "metadata": {},
   "outputs": [],
   "source": [
    "# from fr3_gripper import Gripper, GripperState\n",
    "# gripper = Gripper(\"192.168.123.250\")\n",
    "\n",
    "# Initialize the gripper\n",
    "# gripper.homing()\n",
    "\n",
    "# # Print the gripper state\n",
    "# gripper_state = gripper.readOnce()\n",
    "# print(gripper_state)"
   ]
  },
  {
   "cell_type": "markdown",
   "metadata": {},
   "source": [
    "## 2. Define robot task parameters"
   ]
  },
  {
   "cell_type": "markdown",
   "metadata": {},
   "source": [
    "### 2.1 Load PinocchioModel and define various parameters"
   ]
  },
  {
   "cell_type": "code",
   "execution_count": 3,
   "metadata": {},
   "outputs": [],
   "source": [
    "import numpy as np\n",
    "from FR3Py.robot.model_collision_avoidance import PinocchioModel\n",
    "import time\n",
    "\n",
    "pin_robot = PinocchioModel()\n",
    "joint_lb = np.array([-2.3093, -1.5133, -2.4937, -2.7478, -2.48, 0.8521, -2.6895])\n",
    "joint_ub = np.array([2.3093, 1.5133, 2.4937, -0.4461, 2.48, 4.2094, 2.6895])\n",
    "torque_lb = np.array([-87, -87, -87, -87, -12, -12, -12])\n",
    "torque_ub = np.array([87, 87, 87, 87, 12, 12, 12])\n",
    "joint_acc_lb = np.array([-10, -10, -10, -10, -10, -10, -10])\n",
    "joint_acc_ub = np.array([10, 10, 10, 10, 10, 10, 10])\n",
    "v_EE_lb = np.array([-0.2, -0.2, -0.2])\n",
    "v_EE_ub = np.array([0.2, 0.2, 0.2])\n",
    "static_friction = np.array([0.8, 2.35, 0.5, 2.35, 1.3, 1.0, 0.5])\n",
    "\n",
    "n_joints = 7\n",
    "n_controls = 7\n",
    "q_bar = 0.5*(joint_ub + joint_lb)\n",
    "delta_M = np.diag([0.2, 0.25, 0.25, 0.25, 0.25, 0.25, 0.2])"
   ]
  },
  {
   "cell_type": "markdown",
   "metadata": {},
   "source": [
    "## 3. Load/measure some coordinates"
   ]
  },
  {
   "cell_type": "markdown",
   "metadata": {},
   "source": [
    "### 3.1 Measure the corners"
   ]
  },
  {
   "cell_type": "code",
   "execution_count": 5,
   "metadata": {},
   "outputs": [],
   "source": [
    "# corner_1         corner_2\n",
    "#     -----------------\n",
    "#     |               |\n",
    "#     |               | \n",
    "#     |               |\n",
    "#     |               |\n",
    "#     |               |\n",
    "#     |               |   x Robot base\n",
    "#     -----------------\n",
    "# corner_4         corner_3\n",
    "# *** corner_1 is out of reach of the robot"
   ]
  },
  {
   "cell_type": "code",
   "execution_count": 81,
   "metadata": {},
   "outputs": [
    {
     "name": "stdout",
     "output_type": "stream",
     "text": [
      "corner_2:  [0.62051643 0.26567542]\n"
     ]
    }
   ],
   "source": [
    "# Measure corner_2\n",
    "corner_2_mes = []\n",
    "for i in range(20):\n",
    "    robot_info = robot.getJointStates()\n",
    "    q = robot_info['q'] # shape (7,)\n",
    "    dq = robot_info['dq'] # shape (7,)\n",
    "\n",
    "    q_pin = 0.30*np.ones(9)\n",
    "    dq_pin = np.zeros(9)\n",
    "    q_pin[0:n_joints] = q # shape (9,)\n",
    "    dq_pin[0:n_joints] = dq # shape (9,)\n",
    "\n",
    "    pin_info = pin_robot.getInfo(q_pin, dq_pin)\n",
    "    P_EE = pin_info[\"P_EE\"]\n",
    "\n",
    "    corner_2_mes.append(P_EE.copy())\n",
    "    time.sleep(0.1)\n",
    "\n",
    "corner_2_mes = np.array(corner_2_mes)\n",
    "corner_2 = np.mean(corner_2_mes, axis=0)[:2]\n",
    "print(\"corner_2: \", corner_2)"
   ]
  },
  {
   "cell_type": "code",
   "execution_count": 82,
   "metadata": {},
   "outputs": [
    {
     "name": "stdout",
     "output_type": "stream",
     "text": [
      "corner_3:  [-0.24523318  0.27852508]\n"
     ]
    }
   ],
   "source": [
    "# Measure corner_3\n",
    "corner_3_mes = []\n",
    "for i in range(20):\n",
    "    robot_info = robot.getJointStates()\n",
    "    q = robot_info['q'] # shape (7,)\n",
    "    dq = robot_info['dq'] # shape (7,)\n",
    "\n",
    "    q_pin = 0.30*np.ones(9)\n",
    "    dq_pin = np.zeros(9)\n",
    "    q_pin[0:n_joints] = q # shape (9,)\n",
    "    dq_pin[0:n_joints] = dq # shape (9,)\n",
    "\n",
    "    pin_info = pin_robot.getInfo(q_pin, dq_pin)\n",
    "    P_EE = pin_info[\"P_EE\"]\n",
    "\n",
    "    corner_3_mes.append(P_EE.copy())\n",
    "    time.sleep(0.1)\n",
    "\n",
    "corner_3_mes = np.array(corner_3_mes)\n",
    "corner_3 = np.mean(corner_3_mes, axis=0)[:2]\n",
    "print(\"corner_3: \", corner_3)"
   ]
  },
  {
   "cell_type": "code",
   "execution_count": 83,
   "metadata": {},
   "outputs": [
    {
     "name": "stdout",
     "output_type": "stream",
     "text": [
      "corner_4:  [-0.23456834  0.83318673]\n"
     ]
    }
   ],
   "source": [
    "# Measure corner_4\n",
    "corner_4_mes = []\n",
    "for i in range(20):\n",
    "    robot_info = robot.getJointStates()\n",
    "    q = robot_info['q'] # shape (7,)\n",
    "    dq = robot_info['dq'] # shape (7,)\n",
    "\n",
    "    q_pin = 0.30*np.ones(9)\n",
    "    dq_pin = np.zeros(9)\n",
    "    q_pin[0:n_joints] = q # shape (9,)\n",
    "    dq_pin[0:n_joints] = dq # shape (9,)\n",
    "\n",
    "    pin_info = pin_robot.getInfo(q_pin, dq_pin)\n",
    "    P_EE = pin_info[\"P_EE\"]\n",
    "\n",
    "    corner_4_mes.append(P_EE.copy())\n",
    "    time.sleep(0.1)\n",
    "\n",
    "corner_4_mes = np.array(corner_4_mes)\n",
    "corner_4 = np.mean(corner_4_mes, axis=0)[:2]\n",
    "print(\"corner_4: \", corner_4)"
   ]
  },
  {
   "cell_type": "code",
   "execution_count": 84,
   "metadata": {},
   "outputs": [
    {
     "name": "stdout",
     "output_type": "stream",
     "text": [
      "corner_1:  [0.63118127 0.82033707]\n"
     ]
    }
   ],
   "source": [
    "# Calculate corner_1 (ignore the z coordinate)\n",
    "corner_1 = corner_2 + corner_4 - corner_3\n",
    "print(\"corner_1: \", corner_1)"
   ]
  },
  {
   "cell_type": "markdown",
   "metadata": {},
   "source": [
    "### 3.2 Measure the polygon vertices"
   ]
  },
  {
   "cell_type": "code",
   "execution_count": 85,
   "metadata": {},
   "outputs": [
    {
     "name": "stdout",
     "output_type": "stream",
     "text": [
      "vertex_1:  [0.30817788 0.5827127 ]\n"
     ]
    }
   ],
   "source": [
    "# Measure vertex_1\n",
    "vertex_1_mes = []\n",
    "for i in range(20):\n",
    "    robot_info = robot.getJointStates()\n",
    "    q = robot_info['q'] # shape (7,)\n",
    "    dq = robot_info['dq'] # shape (7,)\n",
    "\n",
    "    q_pin = 0.30*np.ones(9)\n",
    "    dq_pin = np.zeros(9)\n",
    "    q_pin[0:n_joints] = q # shape (9,)\n",
    "    dq_pin[0:n_joints] = dq # shape (9,)\n",
    "\n",
    "    pin_info = pin_robot.getInfo(q_pin, dq_pin)\n",
    "    P_EE = pin_info[\"P_EE\"]\n",
    "\n",
    "    vertex_1_mes.append(P_EE.copy())\n",
    "    time.sleep(0.1)\n",
    "\n",
    "vertex_1_mes = np.array(vertex_1_mes)\n",
    "vertex_1 = np.mean(vertex_1_mes, axis=0)[:2]\n",
    "print(\"vertex_1: \", vertex_1)"
   ]
  },
  {
   "cell_type": "code",
   "execution_count": 86,
   "metadata": {},
   "outputs": [
    {
     "name": "stdout",
     "output_type": "stream",
     "text": [
      "vertex_2:  [0.30392119 0.27496909]\n"
     ]
    }
   ],
   "source": [
    "# Measure vertex_2\n",
    "vertex_2_mes = []\n",
    "for i in range(20):\n",
    "    robot_info = robot.getJointStates()\n",
    "    q = robot_info['q'] # shape (7,)\n",
    "    dq = robot_info['dq'] # shape (7,)\n",
    "\n",
    "    q_pin = 0.30*np.ones(9)\n",
    "    dq_pin = np.zeros(9)\n",
    "    q_pin[0:n_joints] = q # shape (9,)\n",
    "    dq_pin[0:n_joints] = dq # shape (9,)\n",
    "\n",
    "    pin_info = pin_robot.getInfo(q_pin, dq_pin)\n",
    "    P_EE = pin_info[\"P_EE\"]\n",
    "\n",
    "    vertex_2_mes.append(P_EE.copy())\n",
    "    time.sleep(0.1)\n",
    "\n",
    "vertex_2_mes = np.array(vertex_2_mes)\n",
    "vertex_2 = np.mean(vertex_2_mes, axis=0)[:2]\n",
    "print(\"vertex_2: \", vertex_2)"
   ]
  },
  {
   "cell_type": "code",
   "execution_count": 87,
   "metadata": {},
   "outputs": [
    {
     "name": "stdout",
     "output_type": "stream",
     "text": [
      "vertex_3:  [0.0743069  0.27804928]\n"
     ]
    }
   ],
   "source": [
    "# Measure vertex_3\n",
    "vertex_3_mes = []\n",
    "for i in range(20):\n",
    "    robot_info = robot.getJointStates()\n",
    "    q = robot_info['q'] # shape (7,)\n",
    "    dq = robot_info['dq'] # shape (7,)\n",
    "\n",
    "    q_pin = 0.30*np.ones(9)\n",
    "    dq_pin = np.zeros(9)\n",
    "    q_pin[0:n_joints] = q # shape (9,)\n",
    "    dq_pin[0:n_joints] = dq # shape (9,)\n",
    "\n",
    "    pin_info = pin_robot.getInfo(q_pin, dq_pin)\n",
    "    P_EE = pin_info[\"P_EE\"]\n",
    "\n",
    "    vertex_3_mes.append(P_EE.copy())\n",
    "    time.sleep(0.1)\n",
    "\n",
    "vertex_3_mes = np.array(vertex_3_mes)\n",
    "vertex_3 = np.mean(vertex_3_mes, axis=0)[:2]\n",
    "print(\"vertex_3: \", vertex_3)"
   ]
  },
  {
   "cell_type": "code",
   "execution_count": 88,
   "metadata": {},
   "outputs": [
    {
     "name": "stdout",
     "output_type": "stream",
     "text": [
      "vertex_4:  [0.07167329 0.58233797]\n"
     ]
    }
   ],
   "source": [
    "# Measure vertex_4\n",
    "vertex_4_mes = []\n",
    "for i in range(20):\n",
    "    robot_info = robot.getJointStates()\n",
    "    q = robot_info['q'] # shape (7,)\n",
    "    dq = robot_info['dq'] # shape (7,)\n",
    "\n",
    "    q_pin = 0.30*np.ones(9)\n",
    "    dq_pin = np.zeros(9)\n",
    "    q_pin[0:n_joints] = q # shape (9,)\n",
    "    dq_pin[0:n_joints] = dq # shape (9,)\n",
    "\n",
    "    pin_info = pin_robot.getInfo(q_pin, dq_pin)\n",
    "    P_EE = pin_info[\"P_EE\"]\n",
    "\n",
    "    vertex_4_mes.append(P_EE.copy())\n",
    "    time.sleep(0.1)\n",
    "\n",
    "vertex_4_mes = np.array(vertex_4_mes)\n",
    "vertex_4 = np.mean(vertex_4_mes, axis=0)[:2]\n",
    "print(\"vertex_4: \", vertex_4)"
   ]
  },
  {
   "cell_type": "markdown",
   "metadata": {},
   "source": [
    "### 3.3 Save the measured coordinates"
   ]
  },
  {
   "cell_type": "code",
   "execution_count": 89,
   "metadata": {},
   "outputs": [],
   "source": [
    "# Save the corners in a json file\n",
    "import json\n",
    "corners = {\"corner_1\": corner_1.tolist(),\n",
    "           \"corner_2\": corner_2.tolist(),\n",
    "           \"corner_3\": corner_3.tolist(),\n",
    "           \"corner_4\": corner_4.tolist(),\n",
    "           \"vertex_1\": vertex_1.tolist(),\n",
    "           \"vertex_2\": vertex_2.tolist(),\n",
    "           \"vertex_3\": vertex_3.tolist(),\n",
    "           \"vertex_4\": vertex_4.tolist()\n",
    "           }\n",
    "with open(\"exp2_coordinates.json\", \"w\") as f:\n",
    "    json.dump(corners, f, indent=4)"
   ]
  },
  {
   "cell_type": "markdown",
   "metadata": {},
   "source": [
    "### 3.4 Directly load the pre-saved corners"
   ]
  },
  {
   "cell_type": "code",
   "execution_count": 4,
   "metadata": {},
   "outputs": [],
   "source": [
    "import json\n",
    "with open(\"exp2_coordinates.json\", \"r\") as f:\n",
    "    coordinates = json.load(f)\n",
    "    corner_1 = np.array(coordinates[\"corner_1\"])\n",
    "    corner_2 = np.array(coordinates[\"corner_2\"])\n",
    "    corner_3 = np.array(coordinates[\"corner_3\"])\n",
    "    corner_4 = np.array(coordinates[\"corner_4\"])\n",
    "    vertex_1 = np.array(coordinates[\"vertex_1\"])\n",
    "    vertex_2 = np.array(coordinates[\"vertex_2\"])\n",
    "    vertex_3 = np.array(coordinates[\"vertex_3\"])\n",
    "    vertex_4 = np.array(coordinates[\"vertex_4\"])"
   ]
  },
  {
   "cell_type": "markdown",
   "metadata": {},
   "source": [
    "### 3.5 Visualize the coordinates"
   ]
  },
  {
   "cell_type": "code",
   "execution_count": 5,
   "metadata": {},
   "outputs": [
    {
     "data": {
      "text/plain": [
       "(0.8615622955, 0.2372998545, -0.2890539025, 0.6750019925)"
      ]
     },
     "execution_count": 5,
     "metadata": {},
     "output_type": "execute_result"
    },
    {
     "data": {
      "image/png": "[encoded data removed]",
      "text/plain": [
       "<Figure size 640x480 with 1 Axes>"
      ]
     },
     "metadata": {},
     "output_type": "display_data"
    }
   ],
   "source": [
    "import matplotlib.pyplot as plt\n",
    "\n",
    "fig = plt.figure()\n",
    "\n",
    "plt.plot(corner_1[1], corner_1[0], 'o')\n",
    "plt.text(corner_1[1], corner_1[0], 'corner_1')\n",
    "\n",
    "plt.plot(corner_2[1], corner_2[0], 'o')\n",
    "plt.text(corner_2[1], corner_2[0], 'corner_2')\n",
    "\n",
    "plt.plot(corner_3[1], corner_3[0], 'o')\n",
    "plt.text(corner_3[1], corner_3[0], 'corner_3')\n",
    "\n",
    "plt.plot(corner_4[1], corner_4[0], 'o')\n",
    "plt.text(corner_4[1], corner_4[0], 'corner_4')\n",
    "\n",
    "plt.plot(vertex_1[1], vertex_1[0], 'o')\n",
    "plt.text(vertex_1[1], vertex_1[0], 'vertex_1')\n",
    "\n",
    "plt.plot(vertex_2[1], vertex_2[0], 'o')\n",
    "plt.text(vertex_2[1], vertex_2[0], 'vertex_2')\n",
    "\n",
    "plt.plot(vertex_3[1], vertex_3[0], 'o')\n",
    "plt.text(vertex_3[1], vertex_3[0], 'vertex_3')\n",
    "\n",
    "plt.plot(vertex_4[1], vertex_4[0], 'o')\n",
    "plt.text(vertex_4[1], vertex_4[0], 'vertex_4')\n",
    "\n",
    "# Invert the x-axis (make it go left)\n",
    "plt.gca().invert_xaxis()\n",
    "plt.xlabel('y')\n",
    "plt.ylabel('x')\n",
    "plt.axis('equal')\n",
    "\n",
    "# "
   ]
  },
  {
   "cell_type": "markdown",
   "metadata": {},
   "source": [
    "## 3.6 Together with trajectory"
   ]
  },
  {
   "cell_type": "code",
   "execution_count": 6,
   "metadata": {},
   "outputs": [
    {
     "data": {
      "text/plain": [
       "(0.8615622955, 0.2372998545, -0.2890539025, 0.6750019925)"
      ]
     },
     "execution_count": 6,
     "metadata": {},
     "output_type": "execute_result"
    },
    {
     "data": {
      "image/png": "[encoded data removed]",
      "text/plain": [
       "<Figure size 640x480 with 1 Axes>"
      ]
     },
     "metadata": {},
     "output_type": "display_data"
    }
   ],
   "source": [
    "traj = np.array([[0.52, 0.53],\n",
    "                 [0.52, 0.32],\n",
    "                 [0.45, 0.32],\n",
    "                 [0.45, 0.53],\n",
    "                 [-0.05, 0.53],\n",
    "                 [-0.05, 0.32],\n",
    "                 [-0.12, 0.32],\n",
    "                 [-0.12, 0.53]\n",
    "                 ])\n",
    "\n",
    "fig, ax = plt.subplots()\n",
    "\n",
    "ax.plot(corner_1[1], corner_1[0], 'o', color='red')\n",
    "ax.plot(corner_2[1], corner_2[0], 'o', color='red')\n",
    "ax.plot(corner_3[1], corner_3[0], 'o', color='red')\n",
    "ax.plot(corner_4[1], corner_4[0], 'o', color='red')\n",
    "\n",
    "ax.plot(vertex_1[1], vertex_1[0], 'o', color='red')\n",
    "ax.plot(vertex_2[1], vertex_2[0], 'o', color='red')\n",
    "ax.plot(vertex_3[1], vertex_3[0], 'o', color='red')\n",
    "ax.plot(vertex_4[1], vertex_4[0], 'o', color='red')\n",
    "\n",
    "for i in range(traj.shape[0]):\n",
    "    ax.plot(traj[i, 1], traj[i, 0], 'o', color='blue')\n",
    "    plt.text(traj[i, 1], traj[i, 0], 'P_{}'.format(i))\n",
    "\n",
    "# Invert the x-axis (make it go left)\n",
    "ax.invert_xaxis()\n",
    "ax.set_xlabel('y')\n",
    "ax.set_ylabel('x')\n",
    "ax.axis('equal')"
   ]
  },
  {
   "cell_type": "markdown",
   "metadata": {},
   "source": [
    "## 4. Define Obstacles and CBFs"
   ]
  },
  {
   "cell_type": "code",
   "execution_count": 7,
   "metadata": {},
   "outputs": [],
   "source": [
    "# Obstacle parameters\n",
    "obstacle_config = {\n",
    "    \"obs1\":{\n",
    "        \"type\": \"polytope2d\",\n",
    "        \"vertices\": [vertex_1.tolist(), vertex_2.tolist(), vertex_3.tolist(), vertex_4.tolist()],\n",
    "        \"pos\": [0.0, 0.0],\n",
    "        \"theta\": 0.0\n",
    "    }\n",
    "}\n",
    "\n",
    "# corners\n",
    "corners_2d = np.array([corner_1, corner_2, corner_3, corner_4])"
   ]
  },
  {
   "cell_type": "code",
   "execution_count": 8,
   "metadata": {},
   "outputs": [
    {
     "name": "stderr",
     "output_type": "stream",
     "text": [
      "/workspaces/HOCBF-FR3-Experiments/cores/utils/utils.py:101: ClusterWarning: scipy.cluster: The symmetric non-negative hollow observation matrix looks suspiciously like an uncondensed distance matrix\n",
      "  Z = linkage(dist_matrix, method='single')\n",
      "/workspaces/HOCBF-FR3-Experiments/cores/obstacle_collections/polytope_collection.py:13: ClusterWarning: scipy.cluster: The symmetric non-negative hollow observation matrix looks suspiciously like an uncondensed distance matrix\n",
      "  Z = linkage(dist_matrix, method='single')\n"
     ]
    }
   ],
   "source": [
    "from cores.utils.bounding_shape_coef_mj import BoundingShapeCoef\n",
    "from cores.obstacle_collections.polytope_collection import PolytopeCollection\n",
    "import scalingFunctionsHelperPy as sfh\n",
    "import HOCBFHelperPy as hh\n",
    "from scipy.spatial.transform import Rotation\n",
    "import multiprocessing\n",
    "from liegroups import SO3\n",
    "from cores.utils.osqp_utils import init_osqp\n",
    "from cores.utils.rotation_utils import get_quat_from_rot_matrix\n",
    "from cores.utils.utils import get_facial_equations\n",
    "import scipy.sparse as sparse\n",
    "\n",
    "# Robot part\n",
    "robot_SFs = []\n",
    "eraser_bb_size_2d = np.array([0.088, 0.035])\n",
    "ellipsoid_quadratic_coef_2d = np.diag(1/eraser_bb_size_2d**2)\n",
    "SF_rob = sfh.Ellipsoid2d(True, ellipsoid_quadratic_coef_2d, np.zeros(2))\n",
    "robot_SFs.append(SF_rob)\n",
    "\n",
    "# Hyperplane\n",
    "hyperplane_SFs = []\n",
    "A_tmp, b_tmp = get_facial_equations(corners_2d) # need to inverse the sign\n",
    "for i in range(A_tmp.shape[0]):\n",
    "    hyperplane_SFs.append(sfh.Hyperplane2d(False, -A_tmp[i], -b_tmp[i]))\n",
    "n_hyperplane = len(hyperplane_SFs)\n",
    "\n",
    "# Polytopes\n",
    "n_polytope = len(obstacle_config)\n",
    "obs_col = PolytopeCollection(2, n_polytope, obstacle_config)\n",
    "obstacle_kappa = 80.0\n",
    "polytope_SFs = []\n",
    "for (i, obs_key) in enumerate(obs_col.face_equations.keys()):\n",
    "    A_obs_np = obs_col.face_equations[obs_key][\"A\"]\n",
    "    b_obs_np = obs_col.face_equations[obs_key][\"b\"]\n",
    "    obs_kappa = obstacle_kappa\n",
    "    SF_obs = sfh.LogSumExp2d(False, A_obs_np, b_obs_np, obs_kappa)\n",
    "    polytope_SFs.append(SF_obs)\n",
    "\n",
    "# Define problems\n",
    "n_threads = min(max(multiprocessing.cpu_count() -1, 1), 5)\n",
    "probs = hh.Problem2dCollection(n_threads)\n",
    "\n",
    "for i in range(len(robot_SFs)):\n",
    "    SF_rob = robot_SFs[i]\n",
    "    frame_id = i\n",
    "    for (j, obs_key) in enumerate(obs_col.face_equations.keys()):\n",
    "        SF_obs = polytope_SFs[j]\n",
    "        vertices = obs_col.face_equations[obs_key][\"vertices_in_world\"]\n",
    "        prob = hh.EllipsoidAndLogSumExp2dPrb(SF_rob, SF_obs, vertices)\n",
    "        probs.addProblem(prob, frame_id)\n",
    "\n",
    "    for j in range(len(hyperplane_SFs)):\n",
    "        SF_obs = hyperplane_SFs[j]\n",
    "        prob = hh.EllipsoidAndHyperplane2dPrb(SF_rob, SF_obs)\n",
    "        probs.addProblem(prob, frame_id)\n"
   ]
  },
  {
   "cell_type": "markdown",
   "metadata": {},
   "source": [
    "## 5. Control the arm to pre-cleaning pose"
   ]
  },
  {
   "cell_type": "code",
   "execution_count": 96,
   "metadata": {},
   "outputs": [],
   "source": [
    "# Define tracking gains\n",
    "K_p_pos = np.diag([100,100,100])*0.9\n",
    "K_d_pos = np.diag([50,50,50])*0.5\n",
    "\n",
    "K_p_rot = np.diag([200,200,200])*1.8\n",
    "K_d_rot = np.diag([100,100,100])*0.4\n",
    "\n",
    "Kp_joint = 20*np.diag([1, 1, 1, 1, 1, 1, 1])\n",
    "Kd_joint = 10*np.diag([1, 1, 1, 1, 1, 1, 1])"
   ]
  },
  {
   "cell_type": "code",
   "execution_count": 97,
   "metadata": {},
   "outputs": [],
   "source": [
    "from cores.utils.trajectory_utils import PositionTrapezoidalTrajectory, OrientationTrapezoidalTrajectory\n",
    "t_final = 6\n",
    "\n",
    "# Get current pose\n",
    "robot_info = robot.getJointStates()\n",
    "q = robot_info['q'] # shape (7,)\n",
    "dq = robot_info['dq'] # shape (7,)\n",
    "\n",
    "q_pin = 0.30*np.ones(9)\n",
    "dq_pin = np.zeros(9)\n",
    "q_pin[0:n_joints] = q # shape (9,)\n",
    "dq_pin[0:n_joints] = dq # shape (9,)\n",
    "\n",
    "pin_info = pin_robot.getInfo(q_pin, dq_pin)\n",
    "P_EE = pin_info[\"P_EE\"]\n",
    "R_EE = pin_info[\"R_EE\"]\n",
    "\n",
    "# Translational trajectory\n",
    "P_EE_start = P_EE.copy()\n",
    "P_EE_pre_cleaning = np.zeros(3)\n",
    "P_EE_pre_cleaning[:2] = traj[0,:]\n",
    "P_EE_pre_cleaning[2] = 0.02\n",
    "\n",
    "via_points = np.array([P_EE_start, P_EE_pre_cleaning])\n",
    "target_time = np.array([0, t_final])\n",
    "Ts = 0.01\n",
    "traj_position = PositionTrapezoidalTrajectory(via_points, target_time, T_antp=0.2, Ts=Ts)\n",
    "\n",
    "# Rotational trajectory\n",
    "R_EE_start  = R_EE.copy()\n",
    "\n",
    "roll = np.pi\n",
    "pitch = 0\n",
    "yaw = 0\n",
    "R_EE_pre_grasping = Rotation.from_euler('xyz', [roll, pitch, yaw]).as_matrix()\n",
    "\n",
    "orientations = np.array([R_EE_start, R_EE_pre_grasping])\n",
    "target_time = np.array([0, t_final])\n",
    "traj_orientation = OrientationTrapezoidalTrajectory(orientations, target_time, Ts=Ts)\n",
    "\n",
    "t_start = time.time()\n",
    "while time.time() - t_start < t_final + 1:\n",
    "    t_loop_start = time.time()\n",
    "    t = time.time() - t_start\n",
    "    traj_pos, traj_pos_dt, traj_pos_dtdt = traj_position.get_traj_and_ders(t)\n",
    "    traj_ori, traj_ori_dt, traj_ori_dtdt = traj_orientation.get_traj_and_ders(t)\n",
    "\n",
    "    robot_info = robot.getJointStates()\n",
    "    q = robot_info['q'] # shape (7,)\n",
    "    dq = robot_info['dq'] # shape (7,)\n",
    "    M = robot_info['M'] + delta_M # shape (7,7)\n",
    "    G = robot_info['G'] # shape (7,)\n",
    "    Coriolis = robot_info['C'] # shape (7,)\n",
    "\n",
    "    q_pin = 0.025*np.ones(9)\n",
    "    dq_pin = np.zeros(9)\n",
    "    q_pin[0:n_joints] = q # shape (9,)\n",
    "    dq_pin[0:n_joints] = dq # shape (9,)\n",
    "\n",
    "    pin_info = pin_robot.getInfo(q_pin, dq_pin)\n",
    "\n",
    "    P_EE = pin_info[\"P_EE\"]\n",
    "    R_EE = pin_info[\"R_EE\"]\n",
    "    J_EE = pin_info[\"J_EE\"][:,0:n_joints] # shape (6,7)\n",
    "    dJdq_EE = pin_info[\"dJdq_EE\"] # shape (6,)\n",
    "    v_EE = J_EE @ dq # shape (6,)2\n",
    "\n",
    "    # Primary obejctive: tracking control\n",
    "    e_pos = P_EE - traj_pos # shape (3,)\n",
    "    e_pos_dt = v_EE[:3] - traj_pos_dt # shape (3,)\n",
    "    v_dt = traj_pos_dtdt - K_p_pos @ e_pos - K_d_pos @ e_pos_dt\n",
    "\n",
    "    e_rot = SO3(R_EE @ traj_ori.T).log() # shape (3,)\n",
    "    e_rot_dt = v_EE[3:] - traj_ori_dt # shape (3,)\n",
    "    omega_dt = traj_ori_dtdt -K_p_rot @ e_rot - K_d_rot @ e_rot_dt\n",
    "\n",
    "    v_EE_dt_desired = np.concatenate([v_dt, omega_dt])\n",
    "    S = J_EE\n",
    "    S_pinv = S.T @ np.linalg.pinv(S @ S.T + 0.01* np.eye(S.shape[0]))\n",
    "    S_null = (np.eye(len(q)) - S_pinv @ S)\n",
    "    ddq_task = S_pinv @ (v_EE_dt_desired - dJdq_EE)\n",
    "\n",
    "    # Secondary objective: encourage the joints to remain close to the initial configuration\n",
    "    W = np.diag(1.0/(joint_ub-joint_lb))\n",
    "    q_bar = 1/2*(joint_ub+joint_lb)\n",
    "    e_joint = W @ (q - q_bar)\n",
    "    e_joint_dot = W @ dq\n",
    "    ddq = ddq_task + S_null @ (- Kp_joint @ e_joint - Kd_joint @ e_joint_dot)\n",
    "\n",
    "    tau = M @ ddq + Coriolis + static_friction * np.tanh(dq)  \n",
    "\n",
    "    tau = np.clip(tau, -30, 30)\n",
    "    robot.setCommands(tau)\n",
    "\n",
    "\n",
    "robot.setCommands(np.zeros_like(tau))\n"
   ]
  },
  {
   "cell_type": "markdown",
   "metadata": {},
   "source": [
    "## 6. Clean the whiteboard"
   ]
  },
  {
   "cell_type": "code",
   "execution_count": 98,
   "metadata": {},
   "outputs": [],
   "source": [
    "# Define CBF-QP\n",
    "n_vars = 3\n",
    "n_obstacle = n_polytope + n_hyperplane\n",
    "n_robot = len(robot_SFs)\n",
    "n_CBF = n_robot*n_obstacle\n",
    "n_in = 1 + 1 + 2 + 2\n",
    "cbf_qp = init_osqp(n_v=n_vars, n_in=n_in)\n",
    "\n",
    "# Define parameters\n",
    "F_press = np.array([0, 0, -10, 0, 0, 0])\n",
    "z_vel_damping = 1.0\n",
    "mu_coulomb = 0.3 # 0.305\n",
    "mu_static = 1.0\n",
    "alpha0 = 1.03\n",
    "gamma1 = 10\n",
    "gamma2 = 10\n",
    "compensation = 0\n",
    "rho = 5\n",
    "f0 = 0.3\n",
    "circulation_outer_scaling = 200\n",
    "circulation_inner_scaling = 5\n",
    "circulation_threshold = 7e-2\n",
    "relaxation_outer_scaling = 1500\n",
    "relaxation_threshold = 0.75\n",
    "a_EE_lb = np.array([-5.0, -5.0, -5.0])\n",
    "a_EE_ub = np.array([5.0, 5.0, 5.0])\n",
    "\n",
    "# Define tracking gains\n",
    "K_p_pos = np.diag([100,100,100])*0.9\n",
    "K_d_pos = np.diag([50,50,50])*0.5\n",
    "\n",
    "K_p_rot = np.diag([200,200,200])*1.8\n",
    "K_d_rot = np.diag([15,15,40])\n",
    "\n",
    "Kp_joint = 20*np.diag([1, 1, 1, 1, 1, 1, 1])\n",
    "Kd_joint = 10*np.diag([1, 1, 1, 1, 1, 1, 1])\n",
    "\n",
    "# Define the record\n",
    "tau_list = []\n",
    "all_h_list = []\n",
    "smooth_min_list = []\n",
    "time_per_loop_list = []\n",
    "P_EE_list = []\n",
    "P_EE_d_list = []\n",
    "theta_2d_list = []\n",
    "v_EE_list = []\n",
    "v_EE_dt_list = []"
   ]
  },
  {
   "cell_type": "code",
   "execution_count": 99,
   "metadata": {},
   "outputs": [],
   "source": [
    "def fric_fun(Fz_abs, v_2d, a_2d, mu_coulomb, mu_static):\n",
    "    v_norm = np.linalg.norm(v_2d)\n",
    "    v_dir = v_2d/v_norm\n",
    "    a_norm = np.linalg.norm(a_2d)\n",
    "    a_dir = a_2d/a_norm\n",
    "\n",
    "    F_coulomb = mu_coulomb * Fz_abs * v_dir * np.tanh(200*v_norm) \n",
    "    F_static = mu_static * Fz_abs * a_dir * (1-np.tanh(200*v_norm)) * np.tanh(5*a_norm)\n",
    "\n",
    "    return F_coulomb + F_static"
   ]
  },
  {
   "cell_type": "code",
   "execution_count": 100,
   "metadata": {},
   "outputs": [],
   "source": [
    "t_1 = 1\n",
    "t_2 = 3.5\n",
    "t_3 = 4.5\n",
    "t_4 = 7.0\n",
    "t_5 = 15.0\n",
    "t_6 = 17.5\n",
    "t_7 = 18.5\n",
    "t_final = 21.0\n",
    "\n",
    "# Get current pose\n",
    "robot_info = robot.getJointStates()\n",
    "q = robot_info['q'] # shape (7,)\n",
    "dq = robot_info['dq'] # shape (7,)\n",
    "\n",
    "q_pin = 0.30*np.ones(9)\n",
    "dq_pin = np.zeros(9)\n",
    "q_pin[0:n_joints] = q # shape (9,)\n",
    "dq_pin[0:n_joints] = dq # shape (9,)\n",
    "\n",
    "pin_info = pin_robot.getInfo(q_pin, dq_pin)\n",
    "P_EE = pin_info[\"P_EE\"]\n",
    "R_EE = pin_info[\"R_EE\"]\n",
    "\n",
    "# Translational trajectoryt_1\n",
    "P_EE_start = P_EE.copy()\n",
    "via_points = np.zeros([len(traj)+1, 3])\n",
    "via_points[0] = P_EE_start\n",
    "for i in range(len(traj)):\n",
    "    via_points[i+1, :2] = traj[i]\n",
    "    via_points[i+1, 2] = 0.019\n",
    "\n",
    "target_time = np.array([0, t_1, t_2, t_3, t_4, t_5, t_6, t_7, t_final])\n",
    "assert len(via_points) == len(target_time)\n",
    "Ts = 0.01\n",
    "traj_position = PositionTrapezoidalTrajectory(via_points, target_time, T_antp=0.2, Ts=Ts)\n",
    "\n",
    "# Rotational trajectory\n",
    "R_EE_start  = R_EE.copy()\n",
    "\n",
    "roll = np.pi\n",
    "pitch = 0\n",
    "yaw = 0\n",
    "R_EE_cleaning = Rotation.from_euler('xyz', [roll, pitch, yaw]).as_matrix()\n",
    "\n",
    "orientations = np.array([R_EE_start, R_EE_cleaning, R_EE_cleaning])\n",
    "target_time = np.array([0, t_1, t_final])\n",
    "traj_orientation = OrientationTrapezoidalTrajectory(orientations, target_time, Ts=Ts)\n",
    "\n",
    "# Get tau_ext init\n",
    "robot_info = robot.getJointStates()\n",
    "tau_m = robot_info['T']\n",
    "G = robot_info['G']\n",
    "tau_ext_init = tau_m - G\n",
    "\n",
    "t_start = time.time()\n",
    "while time.time() - t_start < t_final + 1:\n",
    "    time_loop_start = time.time()\n",
    "    t = time.time() - t_start\n",
    "    traj_pos, traj_pos_dt, traj_pos_dtdt = traj_position.get_traj_and_ders(t)\n",
    "    traj_ori, traj_ori_dt, traj_ori_dtdt = traj_orientation.get_traj_and_ders(t)\n",
    "\n",
    "    robot_info = robot.getJointStates()\n",
    "    q = robot_info['q'] # shape (7,)\n",
    "    dq = robot_info['dq'] # shape (7,)\n",
    "    M = robot_info['M'] + delta_M # shape (7,7)\n",
    "    G = robot_info['G'] # shape (7,)\n",
    "    Coriolis = robot_info['C'] # shape (7,)\n",
    "    tau_m = robot_info['T'] # shape (7,)\n",
    "    tau_ext = tau_m - G - tau_ext_init\n",
    "\n",
    "    q_pin = 0.025*np.ones(9)\n",
    "    dq_pin = np.zeros(9)\n",
    "    q_pin[0:n_joints] = q # shape (9,)\n",
    "    dq_pin[0:n_joints] = dq # shape (9,)\n",
    "\n",
    "    pin_info = pin_robot.getInfo(q_pin, dq_pin)\n",
    "\n",
    "    P_EE = pin_info[\"P_EE\"]\n",
    "    R_EE = pin_info[\"R_EE\"]\n",
    "    J_EE = pin_info[\"J_EE\"][:,0:n_joints] # shape (6,7)\n",
    "    dJdq_EE = pin_info[\"dJdq_EE\"] # shape (6,)\n",
    "    v_EE = J_EE @ dq # shape (6,)\n",
    "\n",
    "    # Primary obejctive: tracking control\n",
    "    e_pos = P_EE - traj_pos # shape (3,)\n",
    "    e_pos_dt = v_EE[:3] - traj_pos_dt # shape (3,)\n",
    "    v_dt = traj_pos_dtdt - K_p_pos @ e_pos - K_d_pos @ e_pos_dt\n",
    "\n",
    "    e_rot = SO3(R_EE @ traj_ori.T).log() # shape (3,)\n",
    "    e_rot_dt = v_EE[3:] - traj_ori_dt # shape (3,)\n",
    "    omega_dt = traj_ori_dtdt -K_p_rot @ e_rot - K_d_rot @ e_rot_dt\n",
    "\n",
    "    v_EE_dt_desired = np.concatenate([v_dt, omega_dt])\n",
    "\n",
    "    theta_2d = np.arctan2(R_EE[1,0], R_EE[0,0])\n",
    "\n",
    "    # CBF-QP\n",
    "    C = np.zeros((n_in, n_vars))\n",
    "    lb = np.zeros(n_in)\n",
    "    ub = np.zeros(n_in)\n",
    "\n",
    "    CBF_tmp = np.zeros(n_CBF)\n",
    "    phi1_tmp = np.zeros(n_CBF)\n",
    "    phi2_tmp = np.zeros(n_CBF)\n",
    "\n",
    "    all_P_np = np.zeros([1, 3])\n",
    "    all_theta_np = np.zeros([1])\n",
    "    all_dx = np.zeros([1, 3])\n",
    "\n",
    "    all_P_np[0] = P_EE.copy()\n",
    "    all_theta_np[0] = theta_2d\n",
    "    all_dx[0,:] = v_EE[[0,1,5]]\n",
    "\n",
    "    all_h_np, _, _, first_order_all_average_scalar_np, second_order_all_average_scalar_np, second_order_all_average_vector_np = \\\n",
    "        probs.getSmoothMinCBFConstraintsFixedOrientation(all_P_np, all_theta_np, all_dx, alpha0)\n",
    "\n",
    "    min_h = np.min(all_h_np)\n",
    "    indices = np.where(rho*(all_h_np - min_h) < 700)[0]\n",
    "    h_selected = all_h_np[indices]\n",
    "    first_order_all_average_scalar_selected = first_order_all_average_scalar_np[indices]\n",
    "    second_order_all_average_scalar_selected = second_order_all_average_scalar_np[indices]\n",
    "    second_order_all_average_vector_selected = second_order_all_average_vector_np[indices,:]\n",
    "\n",
    "    f, f_dh, f_dhdh = sfh.getSmoothMinimumAndLocalGradientAndHessian(rho, h_selected)\n",
    "\n",
    "    # CBF-QP constraints\n",
    "    CBF = f - f0\n",
    "    dCBF =  f_dh @ first_order_all_average_scalar_selected # scalar\n",
    "    phi1 = dCBF + gamma1 * CBF\n",
    "\n",
    "    C[0,:] = f_dh @ second_order_all_average_vector_selected\n",
    "    lb[0] = - gamma2*phi1 - gamma1*dCBF - first_order_all_average_scalar_selected.T @ f_dhdh @ first_order_all_average_scalar_selected \\\n",
    "            - f_dh @ second_order_all_average_scalar_selected + compensation\n",
    "    ub[0] = np.inf\n",
    "\n",
    "    tmp = np.array([-C[0,1], C[0,0], 0])\n",
    "    C[1,:] = tmp\n",
    "    ueq = np.zeros(3)\n",
    "    lb[1] = C[1,:] @ ueq + circulation_outer_scaling*(1-np.exp(circulation_inner_scaling*(CBF-circulation_threshold))) \\\n",
    "        + relaxation_outer_scaling*(np.exp(-(np.linalg.norm(v_EE[0:2])/relaxation_threshold)**2) - 1)\n",
    "    ub[1] = np.inf\n",
    "\n",
    "    h_v_lb = v_EE[0:2] - v_EE_lb[0:2]\n",
    "    h_v_ub = v_EE_ub[0:2] - v_EE[0:2]\n",
    "    C[2:4, :] = np.eye(2, 3)\n",
    "    lb[2:4] = -40*h_v_lb\n",
    "    ub[2:4] = 40*h_v_ub\n",
    "\n",
    "    C[4:6, :] = np.eye(2, 3)\n",
    "    lb[4:6] = a_EE_lb[0:2]\n",
    "    ub[4:6] = a_EE_ub[0:2]\n",
    "    \n",
    "    g = -v_EE_dt_desired[[0,1,5]]\n",
    "\n",
    "    data = C.flatten()\n",
    "    rows, cols = np.indices(C.shape)\n",
    "    row_indices = rows.flatten()\n",
    "    col_indices = cols.flatten()\n",
    "    Ax = sparse.csc_matrix((data, (row_indices, col_indices)), shape=C.shape)\n",
    "    cbf_qp.update(q=g, l=lb, u=ub, Ax=Ax.data)\n",
    "    results = cbf_qp.solve()\n",
    "    dx_safe = results.x\n",
    "\n",
    "    if (dx_safe == None).any():\n",
    "        print(\"No solution\")\n",
    "        print(C)\n",
    "        print(lb)\n",
    "        print(ub)\n",
    "        break\n",
    "\n",
    "    v_EE_dt = v_EE_dt_desired.copy()\n",
    "    v_EE_dt[[0,1,5]] = dx_safe.copy()\n",
    "    \n",
    "    S = J_EE\n",
    "    S_pinv = S.T @ np.linalg.pinv(S @ S.T + 0.01* np.eye(S.shape[0]))\n",
    "    S_null = (np.eye(len(q)) - S_pinv @ S)\n",
    "    ddq_task = S_pinv @ (v_EE_dt - dJdq_EE)\n",
    "\n",
    "    # Secondary objective: encourage the joints to remain close to the initial configuration\n",
    "    W = np.diag(1.0/(joint_ub-joint_lb))\n",
    "    q_bar = 1/2*(joint_ub+joint_lb)\n",
    "    e_joint = W @ (q - q_bar)\n",
    "    e_joint_dot = W @ dq\n",
    "    ddq = ddq_task + S_null @ (- Kp_joint @ e_joint - Kd_joint @ e_joint_dot)\n",
    "\n",
    "    # Other objective 1: apply a force on the z axis to press the end-effector against the table\n",
    "    F_press_feedback = F_press.copy()\n",
    "    F_press_feedback[2] += -z_vel_damping * v_EE[2]\n",
    "    tau_press = J_EE.T @ F_press\n",
    "\n",
    "    # Other objective 2: apply a force to compensate for the friction\n",
    "    F_ext = np.linalg.pinv(J_EE.T) @ tau_ext\n",
    "    z_force = F_ext[2]\n",
    "    F_friction = np.zeros(6)\n",
    "    if z_force < 0:\n",
    "        F_friction[0:2] = fric_fun(np.abs(z_force), v_EE[0:2], v_EE_dt[0:2], mu_coulomb, mu_static)\n",
    "    tau_friction = J_EE.T @ F_friction\n",
    "\n",
    "    tau = M @ ddq + Coriolis + static_friction * np.tanh(dq) + tau_friction + tau_press\n",
    "    # tau = M @ ddq + Coriolis + static_friction * np.tanh(dq) \n",
    "\n",
    "    tau = np.clip(tau, -30, 30)\n",
    "    robot.setCommands(tau)\n",
    "    time_loop_end = time.time()\n",
    "\n",
    "    tau_list.append(tau.copy())\n",
    "    all_h_list.append(all_h_np.copy())\n",
    "    smooth_min_list.append(CBF)\n",
    "    time_per_loop_list.append(time_loop_end - time_loop_start)\n",
    "    P_EE_list.append(P_EE.copy())\n",
    "    P_EE_d_list.append(traj_pos.copy())\n",
    "    theta_2d_list.append(theta_2d)\n",
    "    v_EE_list.append(v_EE.copy())\n",
    "    v_EE_dt_list.append(v_EE_dt.copy())\n",
    "\n",
    "\n",
    "robot.setCommands(np.zeros_like(tau))"
   ]
  },
  {
   "cell_type": "markdown",
   "metadata": {},
   "source": [
    "## 7. Save the data"
   ]
  },
  {
   "cell_type": "code",
   "execution_count": 104,
   "metadata": {},
   "outputs": [],
   "source": [
    "import pickle\n",
    "from datetime import datetime\n",
    "import os\n",
    "\n",
    "now = datetime.now()\n",
    "formatted_date_time = now.strftime(\"%Y-%m-%d-%H-%M-%S\")\n",
    "\n",
    "directory = f\"exp2_results/with_circ_{formatted_date_time}\"\n",
    "\n",
    "# Create the directory if it doesn't exist\n",
    "if not os.path.exists(directory):\n",
    "    os.makedirs(directory)\n",
    "\n",
    "# Define the file path\n",
    "file_path = os.path.join(directory, \"data.pickle\")\n",
    "\n",
    "# Data to be saved\n",
    "data = {\n",
    "    \"tau\": tau_list,\n",
    "    \"all_h\": all_h_list,\n",
    "    \"smooth_min\": smooth_min_list,\n",
    "    \"time_per_loop\": time_per_loop_list,\n",
    "    \"P_EE\": P_EE_list,\n",
    "    \"P_EE_d\": P_EE_d_list,\n",
    "    \"theta_2d_list\": theta_2d_list,\n",
    "    \"v_EE\": v_EE_list\n",
    "}\n",
    "\n",
    "# Save the data using pickle\n",
    "with open(file_path, \"wb\") as f:\n",
    "    pickle.dump(data, f)\n"
   ]
  },
  {
   "cell_type": "markdown",
   "metadata": {},
   "source": [
    "## 8. Visualize the trajectory"
   ]
  },
  {
   "cell_type": "code",
   "execution_count": 101,
   "metadata": {},
   "outputs": [
    {
     "data": {
      "text/plain": [
       "(0.8615622955, 0.2372998545, -0.2890539025, 0.6750019925)"
      ]
     },
     "execution_count": 101,
     "metadata": {},
     "output_type": "execute_result"
    },
    {
     "data": {
      "image/png": "[encoded data removed]",
      "text/plain": [
       "<Figure size 640x480 with 1 Axes>"
      ]
     },
     "metadata": {},
     "output_type": "display_data"
    }
   ],
   "source": [
    "import matplotlib.pyplot as plt\n",
    "from matplotlib.patches import Ellipse\n",
    "\n",
    "fig, ax = plt.subplots()\n",
    "\n",
    "ax.plot(corner_1[1], corner_1[0], 'o', color='red')\n",
    "ax.plot(corner_2[1], corner_2[0], 'o', color='red')\n",
    "ax.plot(corner_3[1], corner_3[0], 'o', color='red')\n",
    "ax.plot(corner_4[1], corner_4[0], 'o', color='red')\n",
    "\n",
    "ax.plot(vertex_1[1], vertex_1[0], 'o', color='red')\n",
    "ax.plot(vertex_2[1], vertex_2[0], 'o', color='red')\n",
    "ax.plot(vertex_3[1], vertex_3[0], 'o', color='red')\n",
    "ax.plot(vertex_4[1], vertex_4[0], 'o', color='red')\n",
    "\n",
    "P_EE_list = np.array(P_EE_list)\n",
    "P_EE_d_list = np.array(P_EE_d_list)\n",
    "theta_2d_list = np.array(theta_2d_list)\n",
    "\n",
    "ax.plot(P_EE_d_list[:,1], P_EE_d_list[:,0])\n",
    "ax.plot(P_EE_list[:,1], P_EE_list[:,0])\n",
    "\n",
    "threshold = 0.03\n",
    "pos_2d_prev = P_EE_list[0,:2]\n",
    "for i in range(len(P_EE_list)):\n",
    "    pos_2d = P_EE_list[i,0:2]\n",
    "    if np.linalg.norm(pos_2d - pos_2d_prev) >= threshold:\n",
    "        angle = np.rad2deg(theta_2d_list[i] + np.pi/2)\n",
    "        ellipse = Ellipse(xy=(pos_2d[1],pos_2d[0]), width=2*eraser_bb_size_2d[0], height=2*eraser_bb_size_2d[1],\n",
    "                        angle=angle,edgecolor='cornflowerblue', facecolor='none')\n",
    "        ax.add_patch(ellipse)\n",
    "        pos_2d_prev = pos_2d\n",
    "\n",
    "# Invert the x-axis (make it go left)\n",
    "ax.invert_xaxis()\n",
    "ax.set_xlabel('y')\n",
    "ax.set_ylabel('x')\n",
    "ax.axis('equal')"
   ]
  },
  {
   "cell_type": "code",
   "execution_count": 102,
   "metadata": {},
   "outputs": [
    {
     "data": {
      "text/plain": [
       "[<matplotlib.lines.Line2D at 0x742e1e3dee50>]"
      ]
     },
     "execution_count": 102,
     "metadata": {},
     "output_type": "execute_result"
    },
    {
     "data": {
      "image/png": "[encoded data removed]",
      "text/plain": [
       "<Figure size 640x480 with 1 Axes>"
      ]
     },
     "metadata": {},
     "output_type": "display_data"
    }
   ],
   "source": [
    "times = np.cumsum(time_per_loop_list)\n",
    "P_EE_list = np.array(P_EE_list)\n",
    "plt.plot(times, P_EE_list[:,0], label='x')\n",
    "plt.plot(times, P_EE_list[:,1], label='y')"
   ]
  },
  {
   "cell_type": "code",
   "execution_count": 103,
   "metadata": {},
   "outputs": [
    {
     "name": "stdout",
     "output_type": "stream",
     "text": [
      "-0.005979146503608035\n"
     ]
    },
    {
     "data": {
      "image/png": "[encoded data removed]",
      "text/plain": [
       "<Figure size 640x480 with 1 Axes>"
      ]
     },
     "metadata": {},
     "output_type": "display_data"
    }
   ],
   "source": [
    "times = np.cumsum(time_per_loop_list)\n",
    "smooth_min_list = np.array(smooth_min_list)\n",
    "plt.plot(times, smooth_min_list)\n",
    "plt.hlines(0, 0, times[-1], colors='r', linestyles='dashed')\n",
    "plt.hlines(0.07, 0, times[-1], colors='orange', linestyles='dashed')\n",
    "print(np.min(smooth_min_list))"
   ]
  },
  {
   "cell_type": "code",
   "execution_count": 17,
   "metadata": {},
   "outputs": [
    {
     "name": "stdout",
     "output_type": "stream",
     "text": [
      "746.0242986041073\n"
     ]
    },
    {
     "data": {
      "image/png": "[encoded data removed]",
      "text/plain": [
       "<Figure size 640x480 with 1 Axes>"
      ]
     },
     "metadata": {},
     "output_type": "display_data"
    }
   ],
   "source": [
    "times = np.cumsum(time_per_loop_list)\n",
    "time_per_loop_list = np.array(time_per_loop_list)\n",
    "plt.plot(times, 1/time_per_loop_list)\n",
    "plt.hlines(0.1, 0, times[-1], colors='r', linestyles='dashed')\n",
    "print(1/np.mean(time_per_loop_list))"
   ]
  }
 ],
 "metadata": {
  "kernelspec": {
   "display_name": "base",
   "language": "python",
   "name": "python3"
  },
  "language_info": {
   "codemirror_mode": {
    "name": "ipython",
    "version": 3
   },
   "file_extension": ".py",
   "mimetype": "text/x-python",
   "name": "python",
   "nbconvert_exporter": "python",
   "pygments_lexer": "ipython3",
   "version": "3.11.9"
  }
 },
 "nbformat": 4,
 "nbformat_minor": 2
}
