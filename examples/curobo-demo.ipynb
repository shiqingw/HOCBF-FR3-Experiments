{
 "cells": [
  {
   "cell_type": "markdown",
   "metadata": {},
   "source": [
    "# CuRobo Reaching Demo\n",
    "This notebook should be run with a kernel that has the CuRobo installed as instructed [here](). The goal is to compute the jointspace motion required for reaching a target pose in the robot workspace. Then this motion is to be tracked using the FR3 joint velocity interface."
   ]
  },
  {
   "cell_type": "code",
   "execution_count": 1,
   "metadata": {},
   "outputs": [],
   "source": [
    "from FR3Py.robot.interface import FR3Real"
   ]
  },
  {
   "cell_type": "code",
   "execution_count": 2,
   "metadata": {},
   "outputs": [
    {
     "name": "stdout",
     "output_type": "stream",
     "text": [
      "Interface Running...\n"
     ]
    }
   ],
   "source": [
    "robot = FR3Real(robot_id=\"fr3\")"
   ]
  },
  {
   "cell_type": "code",
   "execution_count": 3,
   "metadata": {},
   "outputs": [
    {
     "data": {
      "text/plain": [
       "{'q': array([ 0.06120732, -0.64873199,  0.10074113, -2.19144209,  0.05109697,\n",
       "         1.5524614 ,  0.90973614,  0.        ,  0.        ]),\n",
       " 'dq': array([-6.90158624e-04,  7.51744422e-04, -1.06131301e-03, -6.08870503e-05,\n",
       "        -3.44473922e-04,  1.14973473e-03,  4.08892038e-04,  0.00000000e+00,\n",
       "         0.00000000e+00]),\n",
       " 'T': array([-0.26254582, -7.51947165, -2.67592454, 23.3774147 ,  1.4128288 ,\n",
       "         2.22104621,  0.19915226,  0.        ,  0.        ])}"
      ]
     },
     "execution_count": 3,
     "metadata": {},
     "output_type": "execute_result"
    }
   ],
   "source": [
    "robot.getStates()"
   ]
  },
  {
   "cell_type": "code",
   "execution_count": 28,
   "metadata": {},
   "outputs": [],
   "source": [
    "\n",
    "import numpy as np\n",
    "import threading\n",
    "import time\n",
    "\n",
    "class JointPositionController:\n",
    "    def __init__(self, robot, dT=0.001):\n",
    "        self.dT = dT\n",
    "        self.robot = robot\n",
    "        self.kp = 0.4\n",
    "        self.kv = 0.01\n",
    "        state = self.robot.getStates()\n",
    "        if state is not None:\n",
    "            self.q0 = state['q'][:7]\n",
    "        else:\n",
    "            raise ValueError(\"Failed to get robot state. Check the interface.\")\n",
    "        self.q_des = self.q0[:7]\n",
    "        self.dq_des = np.zeros(7)\n",
    "        self.running = True\n",
    "        self.thread = threading.Thread(target=self.update)\n",
    "        self.thread.start()\n",
    "    \n",
    "    def update(self):\n",
    "        while self.running:\n",
    "            time.sleep(self.dT)\n",
    "            state = self.robot.getStates()\n",
    "            if state is not None:\n",
    "                q = state['q'][:7]\n",
    "                dq = state['dq'][:7]\n",
    "                dq_cmd = self.kp * (self.q_des - q) + self.kv*(self.dq_des-dq) + self.dq_des\n",
    "                self.robot.sendCommands(np.hstack([dq_cmd, 0.0, 0.0]))\n",
    "            else:\n",
    "                print(\"Failed to get robot state. Check the interface.\")\n",
    "\n",
    "    def close(self):\n",
    "        self.running = False\n",
    "        self.thread.join()"
   ]
  },
  {
   "cell_type": "code",
   "execution_count": 29,
   "metadata": {},
   "outputs": [],
   "source": [
    "controller = JointPositionController(robot)"
   ]
  },
  {
   "cell_type": "code",
   "execution_count": 9,
   "metadata": {},
   "outputs": [],
   "source": [
    "# cuRobo\n",
    "from curobo.geom.sdf.world import CollisionCheckerType\n",
    "from curobo.types.base import TensorDeviceType\n",
    "from curobo.types.math import Pose\n",
    "from curobo.types.robot import JointState, RobotConfig\n",
    "from curobo.util_file import (\n",
    "    get_robot_configs_path,\n",
    "    get_world_configs_path,\n",
    "    join_path,\n",
    "    load_yaml,\n",
    "    )\n",
    "from curobo.wrap.reacher.motion_gen import MotionGen, MotionGenConfig, MotionGenPlanConfig"
   ]
  },
  {
   "cell_type": "code",
   "execution_count": 10,
   "metadata": {},
   "outputs": [],
   "source": [
    "from curobo.geom.types import WorldConfig, Cuboid, Mesh, Capsule, Cylinder, Sphere\n",
    "from curobo.util_file import get_assets_path, join_path\n",
    "\n",
    "world_cfg_table = WorldConfig.from_dict(\n",
    "    load_yaml(join_path(get_world_configs_path(), \"collision_table.yml\"))\n",
    ")\n",
    "world_cfg_table.cuboid[0].pose[2] -= 0.02\n",
    "world_cfg1 = WorldConfig.from_dict(\n",
    "    load_yaml(join_path(get_world_configs_path(), \"collision_table.yml\"))\n",
    ").get_mesh_world()\n",
    "world_cfg1.mesh[0].name += \"_mesh\"\n",
    "world_cfg1.mesh[0].pose[2] = -10.5\n",
    "\n",
    "world_cfg = WorldConfig(cuboid=world_cfg_table.cuboid, mesh=world_cfg1.mesh)"
   ]
  },
  {
   "cell_type": "code",
   "execution_count": 11,
   "metadata": {},
   "outputs": [],
   "source": [
    "trajopt_dt = None\n",
    "optimize_dt = True\n",
    "trajopt_tsteps = 32\n",
    "trim_steps = None\n",
    "max_attempts = 4\n",
    "interpolation_dt = 0.05\n",
    "trajopt_tsteps = 40\n",
    "trajopt_dt = 0.05\n",
    "optimize_dt = False\n",
    "max_attempts = 1\n",
    "trim_steps = [1, None]\n",
    "interpolation_dt = trajopt_dt\n",
    "n_obstacle_cuboids = 30\n",
    "n_obstacle_mesh = 100"
   ]
  },
  {
   "cell_type": "code",
   "execution_count": 12,
   "metadata": {},
   "outputs": [
    {
     "name": "stdout",
     "output_type": "stream",
     "text": [
      "warming up...\n"
     ]
    },
    {
     "data": {
      "text/plain": [
       "True"
      ]
     },
     "execution_count": 12,
     "metadata": {},
     "output_type": "execute_result"
    }
   ],
   "source": [
    "tensor_args = TensorDeviceType()\n",
    "world_file = \"collision_table.yml\"\n",
    "robot_file = \"franka.yml\"\n",
    "robot_cfg = load_yaml(join_path(get_robot_configs_path(), robot_file))[\"robot_cfg\"]\n",
    "robot_cfg = RobotConfig.from_dict(robot_cfg, tensor_args)\n",
    "motion_gen_config = MotionGenConfig.load_from_robot_config(\n",
    "        robot_cfg,\n",
    "        world_cfg,\n",
    "        tensor_args,\n",
    "        collision_checker_type=CollisionCheckerType.MESH,\n",
    "        num_trajopt_seeds=12,\n",
    "        num_graph_seeds=12,\n",
    "        interpolation_dt=interpolation_dt,\n",
    "        collision_cache={\"obb\": n_obstacle_cuboids, \"mesh\": n_obstacle_mesh},\n",
    "        optimize_dt=optimize_dt,\n",
    "        trajopt_dt=trajopt_dt,\n",
    "        trajopt_tsteps=trajopt_tsteps,\n",
    "        trim_steps=trim_steps,\n",
    "        # velocity_scale=0.1,\n",
    "        # self_collision_check=False,\n",
    "        # self_collision_opt=False,\n",
    "    )\n",
    "motion_gen = MotionGen(motion_gen_config)\n",
    "print(\"warming up...\")\n",
    "motion_gen.warmup(enable_graph=True, warmup_js_trajopt=False, parallel_finetune=True)"
   ]
  },
  {
   "cell_type": "code",
   "execution_count": 54,
   "metadata": {},
   "outputs": [
    {
     "name": "stdout",
     "output_type": "stream",
     "text": [
      "True\n",
      "torch.Size([39, 7])\n",
      "Trajectory Generated:  tensor([True], device='cuda:0') 0.05000000074505806\n"
     ]
    }
   ],
   "source": [
    "import torch\n",
    "import numpy as np\n",
    "q = robot.getStates()['q'][:7]\n",
    "current_state = motion_gen.rollout_fn.compute_kinematics(\n",
    "    JointState.from_position(torch.from_numpy(q.astype(np.float32)).view(1, -1).cuda()))\n",
    "\n",
    "target_pose = Pose(current_state.ee_pos_seq.squeeze()-0.2, quaternion=current_state.ee_quat_seq.squeeze())\n",
    "\n",
    "\n",
    "start_state = JointState.from_position(torch.from_numpy(q.astype(np.float32)).view(1, -1).cuda())\n",
    "\n",
    "result = motion_gen.plan_single(\n",
    "    start_state, target_pose, MotionGenPlanConfig(max_attempts=1)\n",
    ")\n",
    "print(result.success.item())\n",
    "\n",
    "print(result.optimized_plan.position.shape)\n",
    "traj = result.get_interpolated_plan()\n",
    "print(\"Trajectory Generated: \", result.success, result.optimized_dt.item())"
   ]
  },
  {
   "cell_type": "code",
   "execution_count": 55,
   "metadata": {},
   "outputs": [],
   "source": [
    "dq_des = result.optimized_plan.velocity.detach().cpu().numpy()\n",
    "q_des  = result.optimized_plan.position.detach().cpu().numpy()\n",
    "for i in range(q_des.shape[0]):\n",
    "    controller.q_des = q_des[i]\n",
    "    controller.dq_des = dq_des[i]\n",
    "    time.sleep(result.optimized_dt.item())"
   ]
  },
  {
   "cell_type": "code",
   "execution_count": 51,
   "metadata": {},
   "outputs": [],
   "source": [
    "controller.kp = 0.4\n",
    "controller.kv = 0.01"
   ]
  },
  {
   "cell_type": "code",
   "execution_count": 56,
   "metadata": {},
   "outputs": [],
   "source": [
    "controller.close()"
   ]
  }
 ],
 "metadata": {
  "kernelspec": {
   "display_name": "curobo",
   "language": "python",
   "name": "python3"
  },
  "language_info": {
   "codemirror_mode": {
    "name": "ipython",
    "version": 3
   },
   "file_extension": ".py",
   "mimetype": "text/x-python",
   "name": "python",
   "nbconvert_exporter": "python",
   "pygments_lexer": "ipython3",
   "version": "3.8.19"
  }
 },
 "nbformat": 4,
 "nbformat_minor": 2
}
