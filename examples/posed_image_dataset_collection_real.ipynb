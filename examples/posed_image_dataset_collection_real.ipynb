{
 "cells": [
  {
   "attachments": {},
   "cell_type": "markdown",
   "metadata": {},
   "source": [
    "# Posed Image Dataset Collection"
   ]
  },
  {
   "cell_type": "code",
   "execution_count": 1,
   "metadata": {},
   "outputs": [],
   "source": [
    "import os\n",
    "import shutil\n",
    "dataset_path = 'dataset/dec13'\n",
    "seg_path = os.path.join(dataset_path, 'seg')\n",
    "rgb_path = os.path.join(dataset_path, 'rgb')\n",
    "depth_path = os.path.join(dataset_path, 'depth')"
   ]
  },
  {
   "cell_type": "code",
   "execution_count": 2,
   "metadata": {},
   "outputs": [
    {
     "name": "stdout",
     "output_type": "stream",
     "text": [
      "Interface Running...\n"
     ]
    }
   ],
   "source": [
    "from FR3Py.robot.interface import FR3Real\n",
    "robot = FR3Real()"
   ]
  },
  {
   "cell_type": "markdown",
   "metadata": {},
   "source": [
    "Test the interface by reading the robot joints:"
   ]
  },
  {
   "cell_type": "code",
   "execution_count": 3,
   "metadata": {},
   "outputs": [
    {
     "data": {
      "text/plain": [
       "{'q': array([ 0.03425916, -0.79588279,  0.10933217, -2.24385623,  0.07870369,\n",
       "         1.47826138,  0.9071297 ,  0.        ,  0.        ]),\n",
       " 'dq': array([ 1.08549789e-03,  2.41791477e-04,  1.05473932e-03,  3.48421948e-04,\n",
       "        -7.82151241e-05, -3.58909477e-05, -2.17971407e-04,  0.00000000e+00,\n",
       "         0.00000000e+00]),\n",
       " 'T': array([ 0.23338582, -3.55056119, -2.8945415 , 22.46154976,  0.52067471,\n",
       "         2.49645758, -0.16631913,  0.        ,  0.        ])}"
      ]
     },
     "execution_count": 3,
     "metadata": {},
     "output_type": "execute_result"
    }
   ],
   "source": [
    "robot.getStates()"
   ]
  },
  {
   "cell_type": "code",
   "execution_count": 4,
   "metadata": {},
   "outputs": [
    {
     "name": "stdout",
     "output_type": "stream",
     "text": [
      "pygame 2.5.1 (SDL 2.28.2, Python 3.8.15)\n",
      "Hello from the pygame community. https://www.pygame.org/contribute.html\n",
      "Put your stick at zero location and do not touch it\n"
     ]
    }
   ],
   "source": [
    "from FR3Py.joysticks import PyGameJoyManager\n",
    "import time    \n",
    "joy1  = PyGameJoyManager()\n",
    "joy1.start_daq(joy_idx=0)\n",
    "joy1.offset_calibration()\n",
    "time.sleep(3)"
   ]
  },
  {
   "cell_type": "code",
   "execution_count": 5,
   "metadata": {},
   "outputs": [
    {
     "name": "stdout",
     "output_type": "stream",
     "text": [
      "Enabling streams for camera:  141322250720\n",
      "Warning: HD color fps cannot be higher than 30\n",
      "Warning: HD depth/infrared fps cannot be higher than 30\n"
     ]
    }
   ],
   "source": [
    "from FR3Py.vision.cameras import RealSenseCamera\n",
    "camera = RealSenseCamera(VGA=False, enable_imu=False, enable_ir=True, emitter_enabled=True, align_to_color=False)\n",
    "ext_params = camera.getExtrinsics()\n",
    "int_params = camera.getIntrinsics()"
   ]
  },
  {
   "cell_type": "code",
   "execution_count": 6,
   "metadata": {},
   "outputs": [],
   "source": [
    "import pickle\n",
    "with open(os.path.join(dataset_path,'camera_params.pkl'), 'wb') as f:\n",
    "    pickle.dump({'ext_params':ext_params, 'int_params':int_params}, f)"
   ]
  },
  {
   "cell_type": "code",
   "execution_count": 20,
   "metadata": {},
   "outputs": [
    {
     "name": "stdout",
     "output_type": "stream",
     "text": [
      "Taking a picture\n",
      "Taking a picture\n",
      "Taking a picture\n",
      "Taking a picture\n",
      "Dataset collection procedure ended.\n"
     ]
    }
   ],
   "source": [
    "import time\n",
    "import numpy as np\n",
    "from FR3Py.controllers.jacobianPseudoInv import WaypointController\n",
    "import datetime\n",
    "import os\n",
    "import cv2\n",
    "import pandas as pd\n",
    "from scipy.spatial.transform import Rotation as R\n",
    "shutter_old = 0 \n",
    "\n",
    "if os.path.exists(depth_path):\n",
    "        shutil.rmtree(depth_path)\n",
    "# Create the input_model directory\n",
    "os.makedirs(depth_path, exist_ok=True)\n",
    "\n",
    "if os.path.exists(rgb_path):\n",
    "        shutil.rmtree(rgb_path)\n",
    "# Create the input_model directory\n",
    "os.makedirs(rgb_path, exist_ok=True)\n",
    "\n",
    "if os.path.exists(seg_path):\n",
    "        shutil.rmtree(seg_path)\n",
    "# Create the input_model directory\n",
    "os.makedirs(seg_path, exist_ok=True)\n",
    "\n",
    "def write_depth(depth, filename):\n",
    "    depth = depth.astype(np.uint16)\n",
    "    cv2.imwrite(filename, depth)\n",
    "\n",
    "def write_color(color, filename):\n",
    "    color = color.astype(np.uint8)\n",
    "    cv2.imwrite(filename, color)\n",
    "\n",
    "def write_pose(pose, filename):\n",
    "    np.savetxt(filename, pose)\n",
    "    \n",
    "\n",
    "controller = WaypointController(kp=4)\n",
    "# Read the initila pose of the robot\n",
    "time.sleep(1)\n",
    "state = robot.getStates()\n",
    "\n",
    "q, dq = state['q'], state['dq']\n",
    "p0 = controller.robot.getInfo(q,dq)['P_EE']\n",
    "R0 = controller.robot.getInfo(q,dq)['R_EE']\n",
    "\n",
    "T0 = np.vstack([np.hstack([R0, p0.reshape(3,1)]), np.array([0,0,0,1])])\n",
    "start_time = time.time()\n",
    "\n",
    "x0, y0, z0 = 0.0, 0.0, 0.0 \n",
    "R0 = np.eye(3)\n",
    "ef_poses = []\n",
    "stamps = []\n",
    "pose_dataset = []\n",
    "running = 0\n",
    "while running==0:\n",
    "    trans = controller.robot.getInfo(q,dq)['P_EE']\n",
    "    rot = controller.robot.getInfo(q,dq)['R_EE']\n",
    "    stamps.append(time.time())\n",
    "    pose = np.vstack([np.hstack([rot, trans.reshape(3,1)]), np.array([0,0,0,1])])\n",
    "\n",
    "    analog, digital = joy1.read_values()\n",
    "    running = digital[1]\n",
    "\n",
    "    cmd = np.array([analog[0],analog[1],analog[2]])\n",
    "    for i in range(3):\n",
    "        if np.abs(cmd[i])<0.1:\n",
    "            cmd[i] = 0 \n",
    "\n",
    "    if digital[0]==0:\n",
    "        y0 = y0 - cmd[0]*0.2/100\n",
    "        x0 = x0 - cmd[1]*0.2/100\n",
    "        z0 = z0 + cmd[2]*0.2/100\n",
    "    else:\n",
    "        omega_hat = np.array([[ 0,       -cmd[2],  cmd[1]],\n",
    "                              [ cmd[2],   0,      -cmd[0]],\n",
    "                              [-cmd[1],   cmd[0],      0]])\n",
    "        R0 = R0@(np.eye(3)+omega_hat/100)\n",
    "    \n",
    "    camera.grab_frames()\n",
    "    cv2.imshow('color', camera.color_frame)\n",
    "    cv2.waitKey(10)\n",
    "    # Take a snapshot if required\n",
    "    shutter = digital[2]\n",
    "    if shutter==1 and shutter_old==0:\n",
    "        stamp_ns = int(time.time()*1e9)\n",
    "        shutter_old = shutter\n",
    "        depth = camera.depth_frame\n",
    "        color = camera.color_frame\n",
    "        print('Taking a picture')\n",
    "        write_depth(depth, os.path.join(depth_path, f'{stamp_ns}.png'))\n",
    "        write_color(color, os.path.join(rgb_path, f'{stamp_ns}.png'))\n",
    "        pos = pose[0:3,3].squeeze()\n",
    "        q = R.from_matrix(pose[:3,:3]).as_quat().squeeze()\n",
    "        pose_dataset.append(np.hstack([stamp_ns, pos, q]))\n",
    "    else:\n",
    "        shutter_old = shutter\n",
    "\n",
    "    T= T0@np.vstack([np.hstack([R0, np.array([x0,y0,z0]).reshape(3,1)]), np.array([0,0,0,1])])\n",
    "    state = robot.getStates()\n",
    "    q, dq = state['q'], state['dq']\n",
    "    cmd = controller.compute(q,dq, T_cmd=T)\n",
    "    robot.sendCommands(cmd)\n",
    "\n",
    "pd.DataFrame(data=pose_dataset, columns=['id', 'x', 'y', 'z', 'qx', 'qy', 'qz', 'qw']).to_csv(f'{dataset_path}/pose.csv', index=False)\n",
    "print('Dataset collection procedure ended.')\n",
    "cv2.destroyAllWindows()"
   ]
  }
 ],
 "metadata": {
  "kernelspec": {
   "display_name": "Python 3",
   "language": "python",
   "name": "python3"
  },
  "language_info": {
   "codemirror_mode": {
    "name": "ipython",
    "version": 3
   },
   "file_extension": ".py",
   "mimetype": "text/x-python",
   "name": "python",
   "nbconvert_exporter": "python",
   "pygments_lexer": "ipython3",
   "version": "3.8.15"
  },
  "orig_nbformat": 4,
  "vscode": {
   "interpreter": {
    "hash": "916dbcbb3f70747c44a77c7bcd40155683ae19c65e1c03b4aa3499c5328201f1"
   }
  }
 },
 "nbformat": 4,
 "nbformat_minor": 2
}
