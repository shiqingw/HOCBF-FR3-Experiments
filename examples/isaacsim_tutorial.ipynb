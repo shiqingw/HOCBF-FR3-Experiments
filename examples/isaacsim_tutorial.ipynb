{
 "cells": [
  {
   "cell_type": "markdown",
   "metadata": {},
   "source": [
    "# Isaac Sim Example\n",
    "In this notebook, we simulate the robot with joint velocity interface using the Nvidia Isaac Sim. Before running this notebook, make sure you follow through the installation procedure and then run the following command to start the simulation node:\n",
    "\n",
    "```bash\n",
    "./fr3py.sh --sim\n",
    "```\n",
    "\n",
    "This will launch the Isaac Sim environment. After the environment is fully launched, use the `FR3IsaacSim` interface class to interact with it. The API is fully compatible with the `FR3Real` class."
   ]
  },
  {
   "cell_type": "code",
   "execution_count": 1,
   "metadata": {},
   "outputs": [
    {
     "name": "stdout",
     "output_type": "stream",
     "text": [
      "ef_camera_distance_to_camera\n",
      "ef_camera_rgb\n",
      "perspective_rgb\n"
     ]
    }
   ],
   "source": [
    "from FR3Py.sim.interface import FR3IsaacSim\n",
    "robot = FR3IsaacSim()"
   ]
  },
  {
   "cell_type": "markdown",
   "metadata": {},
   "source": [
    "Note that in addition to the possibility of reading the states, we can also read image data from the cameras placed inside the simulator. Note that the configuration and placement of these cameras alongside the scene configuration, robot stand, and etc may be modified through editing the 'FR3Py/sim/isaac/sim_config.yaml' configuration file.\n",
    "\n",
    "Let's first just send random velocity commands to the robot and see it's movements:"
   ]
  },
  {
   "cell_type": "code",
   "execution_count": 2,
   "metadata": {},
   "outputs": [],
   "source": [
    "import cv2\n",
    "import numpy as np\n",
    "for i in range(1000):\n",
    "    state = robot.getStates()\n",
    "    robot.sendCommands(np.random.randn(9))\n",
    "    imgs =  robot.readCameras()\n",
    "    for stream_name, img in imgs.items():\n",
    "        cv2.imshow(f'{stream_name}', img)\n",
    "    cv2.waitKey(1)\n",
    "\n",
    "cv2.destroyAllWindows()"
   ]
  },
  {
   "cell_type": "markdown",
   "metadata": {},
   "source": [
    "Now that we can command the robot to have random motion, let's control the end-effector pose using the same controller we used for controlling the real robot:"
   ]
  },
  {
   "cell_type": "code",
   "execution_count": 3,
   "metadata": {},
   "outputs": [
    {
     "name": "stdout",
     "output_type": "stream",
     "text": [
      "starting the controller\n",
      "Demo ended.\n"
     ]
    }
   ],
   "source": [
    "import time\n",
    "import numpy as np\n",
    "from FR3Py.controllers.jacobianPseudoInv import WaypointController\n",
    "\n",
    "controller = WaypointController(kp=1.5)\n",
    "\n",
    "# Reset the robot and read its initial state\n",
    "robot.reset()\n",
    "state = robot.getStates()\n",
    "\n",
    "if state is not None:\n",
    "    print('starting the controller')\n",
    "    q, dq = state['q'], state['dq']\n",
    "    p0 = controller.robot.getInfo(q,dq)['P_EE']\n",
    "    R0 = controller.robot.getInfo(q,dq)['R_EE']\n",
    "    T0 = np.vstack([np.hstack([R0, p0.reshape(3,1)]), np.array([0,0,0,1])])\n",
    "    start_time = time.time()\n",
    "    while time.time()-start_time < 20:\n",
    "        time.sleep(0.01)\n",
    "        t = time.time() - start_time\n",
    "        x = 0.1 * np.sin(t)\n",
    "        T= T0 @ np.vstack([np.hstack([np.eye(3), np.array([0,0,x]).reshape(3,1)]), np.array([0,0,0,1])])\n",
    "        state = robot.getStates()\n",
    "        q, dq = state['q'], state['dq']\n",
    "        cmd = controller.compute(q, dq, T_cmd=T)\n",
    "        robot.sendCommands(cmd)\n",
    "\n",
    "    robot.sendCommands(np.zeros(9))\n",
    "    print('Demo ended.')\n",
    "else:\n",
    "    print('State is None. check the connection')"
   ]
  }
 ],
 "metadata": {
  "kernelspec": {
   "display_name": "Python 3 (ipykernel)",
   "language": "python",
   "name": "python3"
  },
  "language_info": {
   "codemirror_mode": {
    "name": "ipython",
    "version": 3
   },
   "file_extension": ".py",
   "mimetype": "text/x-python",
   "name": "python",
   "nbconvert_exporter": "python",
   "pygments_lexer": "ipython3",
   "version": "3.9.16"
  }
 },
 "nbformat": 4,
 "nbformat_minor": 2
}
