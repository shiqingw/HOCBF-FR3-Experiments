{
   "cells": [
      {
         "attachments": {},
         "cell_type": "markdown",
         "metadata": {},
         "source": [
            "# Robot Interface Example\n",
            "\n",
            "## C++ Driver\n",
            "\n",
            "This notebook shows how to connect to the robot and send joint velocity/torque commands to it. Before running the notebook, make sure you enable the FCI interface and run the C++ fr3_bridge as follows:\n",
            "\n",
            "**Joint Velocity Interface**\n",
            "```bash\n",
            "fr3_joint_interface 10.42.0.4 franka velocity\n",
            "```\n",
            "\n",
            "**Joint Torque Interface**\n",
            "```bash\n",
            "fr3_joint_interface 10.42.0.4 franka torque\n",
            "```\n",
            "\n",
            "**Note**: If the robot is connected to another computer, make sure that the two computers are on the same local network. Also use the `tools/multicast_config.py` tool to enable the multicast on both computers:\n",
            "\n",
            "```bash\n",
            "sudo tools/multicast_config.py <interface name>\n",
            "```\n",
            "where interface name is network interface that is on the same local network with the computer connected to the robot. (The computer running the real-time kernel)\n",
            "\n",
            "## Python Bridge\n",
            "\n",
            "Now that the interface is up, we can communicate with the robot through Python. Let's instantiate the communication manager:"
         ]
      },
      {
         "cell_type": "code",
         "execution_count": 1,
         "metadata": {},
         "outputs": [
            {
               "name": "stdout",
               "output_type": "stream",
               "text": [
                  "Interface Running...\n"
               ]
            }
         ],
         "source": [
            "import sys \n",
            "from FR3Py.robot.interface import FR3Real\n",
            "robot = FR3Real()"
         ]
      },
      {
         "attachments": {},
         "cell_type": "markdown",
         "metadata": {},
         "source": [
            "If the interface the successfully exchanging data between the robot and the Python side, we should be able to read the state of the robot. Otherwise, we will get a None."
         ]
      },
      {
         "cell_type": "code",
         "execution_count": 2,
         "metadata": {},
         "outputs": [
            {
               "data": {
                  "text/plain": [
                     "{'q': array([ 3.19840116e-04, -7.84208998e-01, -2.34529158e-04, -2.35632430e+00,\n",
                     "         4.17956734e-04,  1.57000401e+00,  7.85716726e-01,  0.00000000e+00,\n",
                     "         0.00000000e+00]),\n",
                     " 'dq': array([ 7.97927658e-04, -4.55017990e-04,  2.11986707e-04,  9.29398056e-04,\n",
                     "         2.99767555e-04,  2.20032375e-05, -1.20979616e-04,  0.00000000e+00,\n",
                     "         0.00000000e+00]),\n",
                     " 'T': array([ 0.02708699, -5.1136713 , -0.40705362, 23.02490425,  0.56004238,\n",
                     "         2.61639166, -0.13976884,  0.        ,  0.        ])}"
                  ]
               },
               "execution_count": 2,
               "metadata": {},
               "output_type": "execute_result"
            }
         ],
         "source": [
            "robot.getStates()"
         ]
      },
      {
         "cell_type": "markdown",
         "metadata": {},
         "source": [
            "Now that we successfully read the state, let's use a simple Jacobian pseudo inverse controller to command the robot's end-effector along the cartesian Z axis:"
         ]
      },
      {
         "cell_type": "code",
         "execution_count": 6,
         "metadata": {},
         "outputs": [
            {
               "name": "stdout",
               "output_type": "stream",
               "text": [
                  "starting the controller\n"
               ]
            }
         ],
         "source": [
            "import time\n",
            "import numpy as np\n",
            "from FR3Py.controllers.jacobianPseudoInv import WaypointController\n",
            "\n",
            "controller = WaypointController(kp=1.5)\n",
            "# Read the initial state of the robot\n",
            "time.sleep(0.2)\n",
            "state = robot.getStates()\n",
            "if state is not None:\n",
            "    print('starting the controller')\n",
            "    q, dq = state['q'], state['dq']\n",
            "    p0 = controller.robot.getInfo(q,dq)['P_EE']\n",
            "    R0 = controller.robot.getInfo(q,dq)['R_EE']\n",
            "    T0 = np.vstack([np.hstack([R0, p0.reshape(3,1)]), np.array([0,0,0,1])])\n",
            "    \n",
            "    start_time = time.time()\n",
            "    while time.time()-start_time < 10:\n",
            "        time.sleep(0.01)\n",
            "        t = time.time() - start_time\n",
            "        x = 0.1 * np.sin(t)\n",
            "        T= T0 @ np.vstack([np.hstack([np.eye(3), np.array([0,0,x]).reshape(3,1)]), np.array([0,0,0,1])])\n",
            "        state = robot.getStates()\n",
            "        q, dq = state['q'], state['dq']\n",
            "        cmd = controller.compute(q, dq, T_cmd=T)\n",
            "        robot.sendCommands(cmd)\n",
            "\n",
            "    robot.sendCommands(np.zeros(9))\n",
            "    print('Demo ended.')\n",
            "else:\n",
            "    print('State is None. check the connection')"
         ]
      },
      {
         "cell_type": "markdown",
         "metadata": {},
         "source": [
            "## Simple Joystick Control\n",
            "Now that we can control the pose of the end-effector in the task space, let's command the robot using a joystick. For this example, I use a Logitech Extreme 3D Pro joystick and read it using a helper class based on Pygame:"
         ]
      },
      {
         "cell_type": "code",
         "execution_count": 1,
         "metadata": {},
         "outputs": [
            {
               "name": "stdout",
               "output_type": "stream",
               "text": [
                  "pygame 2.5.1 (SDL 2.28.2, Python 3.8.10)\n",
                  "Hello from the pygame community. https://www.pygame.org/contribute.html\n",
                  "Put your stick at zero location and do not touch it\n"
               ]
            }
         ],
         "source": [
            "from FR3Py.joysticks import PyGameJoyManager\n",
            "import time    \n",
            "joy1  = PyGameJoyManager()\n",
            "joy1.start_daq(joy_idx=0)\n",
            "joy1.offset_calibration()\n",
            "time.sleep(3)"
         ]
      },
      {
         "cell_type": "code",
         "execution_count": 9,
         "metadata": {},
         "outputs": [
            {
               "name": "stdout",
               "output_type": "stream",
               "text": [
                  "starting the controller\n",
                  "Demo ended.\n"
               ]
            }
         ],
         "source": [
            "import time\n",
            "import numpy as np\n",
            "import datetime\n",
            "from FR3Py.controllers.jacobianPseudoInv import WaypointController\n",
            "\n",
            "controller = WaypointController(kp=4)\n",
            "# Read the initial state of the robot\n",
            "time.sleep(0.2)\n",
            "state = robot.getStates()\n",
            "if state is not None:\n",
            "    print('starting the controller')\n",
            "    q, dq = state['q'], state['dq']\n",
            "    p0 = controller.robot.getInfo(q,dq)['P_EE']\n",
            "    R0 = controller.robot.getInfo(q,dq)['R_EE']\n",
            "    T0 = np.vstack([np.hstack([R0, p0.reshape(3,1)]), np.array([0,0,0,1])])\n",
            "\n",
            "    # Initialize the desired pose\n",
            "    x0, y0, z0 = 0.0, 0.0, 0.0 \n",
            "    R0 = np.eye(3)\n",
            "    start_time = time.time()\n",
            "    while time.time()-start_time < 10:\n",
            "        trans = controller.robot.getInfo(q,dq)['P_EE']\n",
            "        rot = controller.robot.getInfo(q,dq)['R_EE']\n",
            "        pose = np.vstack([np.hstack([rot, trans.reshape(3,1)]), np.array([0,0,0,1])])\n",
            "        \n",
            "        analog, digital = joy1.read_values()\n",
            "        cmd = np.array([analog[0],analog[1],analog[2]])\n",
            "        for i in range(3):\n",
            "            if np.abs(cmd[i])<0.1:\n",
            "                cmd[i] = 0 \n",
            "\n",
            "        if digital[0]==0:\n",
            "            y0 = y0 - cmd[0]*0.2/100\n",
            "            x0 = x0 - cmd[1]*0.2/100\n",
            "            z0 = z0 + cmd[2]*0.2/100\n",
            "        else:\n",
            "            omega_hat = np.array([[ 0,       -cmd[2],  cmd[1]],\n",
            "                                [ cmd[2],   0,      -cmd[0]],\n",
            "                                [-cmd[1],   cmd[0],      0]])\n",
            "            R0 = R0@(np.eye(3)+omega_hat/100)\n",
            "\n",
            "        time.sleep(0.01)\n",
            "        T= T0@np.vstack([np.hstack([R0, np.array([x0,y0,z0]).reshape(3,1)]), np.array([0,0,0,1])])\n",
            "        state = robot.getStates()\n",
            "        q, dq = state['q'], state['dq']\n",
            "        cmd = controller.compute(q,dq, T_cmd=T)\n",
            "        robot.sendCommands(cmd)\n",
            "    \n",
            "    robot.sendCommands(np.zeros(9))\n",
            "    print('Demo ended.')\n",
            "else:\n",
            "    print('State is None. check the connection')"
         ]
      }
   ],
   "metadata": {
      "kernelspec": {
         "display_name": "Python 3",
         "language": "python",
         "name": "python3"
      },
      "language_info": {
         "codemirror_mode": {
            "name": "ipython",
            "version": 3
         },
         "file_extension": ".py",
         "mimetype": "text/x-python",
         "name": "python",
         "nbconvert_exporter": "python",
         "pygments_lexer": "ipython3",
         "version": "3.8.10"
      }
   },
   "nbformat": 4,
   "nbformat_minor": 2
}
