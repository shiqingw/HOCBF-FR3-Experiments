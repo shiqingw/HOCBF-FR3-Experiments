{
 "cells": [
  {
   "cell_type": "code",
   "execution_count": 1,
   "metadata": {},
   "outputs": [],
   "source": [
    "from FR3Py.robot.model import PinocchioModel\n",
    "from liegroups import SO3\n",
    "import numpy as np"
   ]
  },
  {
   "cell_type": "code",
   "execution_count": 2,
   "metadata": {},
   "outputs": [],
   "source": [
    "from FR3Py.robot.interface import FR3Real"
   ]
  },
  {
   "cell_type": "code",
   "execution_count": 3,
   "metadata": {},
   "outputs": [
    {
     "name": "stdout",
     "output_type": "stream",
     "text": [
      "Interface Running...\n"
     ]
    }
   ],
   "source": [
    "robot = FR3Real(robot_id='fr3')"
   ]
  },
  {
   "cell_type": "code",
   "execution_count": 4,
   "metadata": {},
   "outputs": [],
   "source": [
    "model = PinocchioModel()"
   ]
  },
  {
   "cell_type": "code",
   "execution_count": 5,
   "metadata": {},
   "outputs": [
    {
     "data": {
      "text/plain": [
       "{'q': array([ 8.73126516e-04, -7.84232008e-01,  3.48465278e-04, -2.45623620e+00,\n",
       "        -1.39591939e-03,  1.57099680e+00,  7.86290757e-01,  0.00000000e+00,\n",
       "         0.00000000e+00]),\n",
       " 'dq': array([-5.99765444e-04, -3.67203978e-04,  5.26246868e-04, -4.50767107e-04,\n",
       "        -1.78947893e-04, -8.67564905e-05, -3.34819662e-04,  0.00000000e+00,\n",
       "         0.00000000e+00]),\n",
       " 'T': array([-0.1355927 , -4.52417135, -0.79939878, 23.42898941,  1.05577314,\n",
       "         2.02237678, -0.08283016,  0.        ,  0.        ])}"
      ]
     },
     "execution_count": 5,
     "metadata": {},
     "output_type": "execute_result"
    }
   ],
   "source": [
    "robot.getStates()"
   ]
  },
  {
   "cell_type": "code",
   "execution_count": 8,
   "metadata": {},
   "outputs": [
    {
     "ename": "TypeError",
     "evalue": "'NoneType' object is not subscriptable",
     "output_type": "error",
     "traceback": [
      "\u001b[0;31m---------------------------------------------------------------------------\u001b[0m",
      "\u001b[0;31mTypeError\u001b[0m                                 Traceback (most recent call last)",
      "\u001b[1;32m/home/mocap/Documents/FR3Py/examples/taskspace_force_control.ipynb Cell 6\u001b[0m line \u001b[0;36m1\n\u001b[1;32m     <a href='vscode-notebook-cell:/home/mocap/Documents/FR3Py/examples/taskspace_force_control.ipynb#W5sZmlsZQ%3D%3D?line=9'>10</a>\u001b[0m time\u001b[39m.\u001b[39msleep(\u001b[39m0.002\u001b[39m)\n\u001b[1;32m     <a href='vscode-notebook-cell:/home/mocap/Documents/FR3Py/examples/taskspace_force_control.ipynb#W5sZmlsZQ%3D%3D?line=10'>11</a>\u001b[0m state \u001b[39m=\u001b[39m robot\u001b[39m.\u001b[39mgetStates()\n\u001b[0;32m---> <a href='vscode-notebook-cell:/home/mocap/Documents/FR3Py/examples/taskspace_force_control.ipynb#W5sZmlsZQ%3D%3D?line=11'>12</a>\u001b[0m info \u001b[39m=\u001b[39m model\u001b[39m.\u001b[39mgetInfo(state[\u001b[39m'\u001b[39;49m\u001b[39mq\u001b[39;49m\u001b[39m'\u001b[39;49m], state[\u001b[39m'\u001b[39m\u001b[39mdq\u001b[39m\u001b[39m'\u001b[39m])\n\u001b[1;32m     <a href='vscode-notebook-cell:/home/mocap/Documents/FR3Py/examples/taskspace_force_control.ipynb#W5sZmlsZQ%3D%3D?line=12'>13</a>\u001b[0m J \u001b[39m=\u001b[39m info[\u001b[39m'\u001b[39m\u001b[39mJ_EE\u001b[39m\u001b[39m'\u001b[39m][:, :\u001b[39m7\u001b[39m]\n\u001b[1;32m     <a href='vscode-notebook-cell:/home/mocap/Documents/FR3Py/examples/taskspace_force_control.ipynb#W5sZmlsZQ%3D%3D?line=13'>14</a>\u001b[0m Jr \u001b[39m=\u001b[39m J[\u001b[39m3\u001b[39m:, :] \n",
      "\u001b[0;31mTypeError\u001b[0m: 'NoneType' object is not subscriptable"
     ]
    }
   ],
   "source": [
    "import time\n",
    "state = robot.getStates()\n",
    "info = model.getInfo(state['q'], state['dq'])\n",
    "R0 = info['R_EE']\n",
    "p0 = info['P_EE'].reshape(3,1)\n",
    "\n",
    "Kv = 3*np.eye(3)\n",
    "Kp = 20*np.eye(3)\n",
    "while True:\n",
    "    time.sleep(0.002)\n",
    "    state = robot.getStates()\n",
    "    info = model.getInfo(state['q'], state['dq'])\n",
    "    J = info['J_EE'][:, :7]\n",
    "    Jr = J[3:, :] \n",
    "    Jp = J[:3, :]\n",
    "    vel = (Jp@state['dq'][:7].reshape(7,1))\n",
    "    omega = (Jr@state['dq'][:7]).reshape(3,1)\n",
    "\n",
    "    rot_error = SO3(R0@info['R_EE'].T).log().reshape(3,1)\n",
    "\n",
    "    task_error = 10.*(np.zeros(3).reshape(3,1) - vel)+15*(p0-info['P_EE'].reshape(3,1))\n",
    "    task_error[0:2] = 0.\n",
    "    task_error[2] = -16.\n",
    "    \n",
    "    tau = Jr.T@(Kp@rot_error - Kv@omega) + Jp.T@(task_error)\n",
    "    robot.sendCommands(np.hstack([tau.squeeze(), np.zeros(2)]))\n",
    "    # print(tau.T)"
   ]
  },
  {
   "cell_type": "code",
   "execution_count": 57,
   "metadata": {},
   "outputs": [
    {
     "data": {
      "text/plain": [
       "array([[0.48163057],\n",
       "       [0.00371456],\n",
       "       [0.00278134]])"
      ]
     },
     "execution_count": 57,
     "metadata": {},
     "output_type": "execute_result"
    }
   ],
   "source": [
    "p0.reshape(3,1)"
   ]
  },
  {
   "cell_type": "code",
   "execution_count": null,
   "metadata": {},
   "outputs": [],
   "source": []
  }
 ],
 "metadata": {
  "kernelspec": {
   "display_name": "Python 3",
   "language": "python",
   "name": "python3"
  },
  "language_info": {
   "codemirror_mode": {
    "name": "ipython",
    "version": 3
   },
   "file_extension": ".py",
   "mimetype": "text/x-python",
   "name": "python",
   "nbconvert_exporter": "python",
   "pygments_lexer": "ipython3",
   "version": "3.8.15"
  }
 },
 "nbformat": 4,
 "nbformat_minor": 2
}
