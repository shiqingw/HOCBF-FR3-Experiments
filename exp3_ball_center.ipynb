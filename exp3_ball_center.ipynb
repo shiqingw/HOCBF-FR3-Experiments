{
 "cells": [
  {
   "cell_type": "code",
   "execution_count": 2,
   "metadata": {},
   "outputs": [],
   "source": [
    "import numpy as np"
   ]
  },
  {
   "cell_type": "code",
   "execution_count": 3,
   "metadata": {},
   "outputs": [],
   "source": [
    "def find_sphere_center(points, r):\n",
    "    N = len(points)\n",
    "    A = []\n",
    "    b = []\n",
    "\n",
    "    # Choose the first point as reference\n",
    "    x1, y1, z1 = points[0]\n",
    "\n",
    "    for i in range(1, N):\n",
    "        x, y, z = points[i]\n",
    "        A.append([x - x1, y - y1, z - z1])\n",
    "        b.append(0.5 * (x**2 + y**2 + z**2 - x1**2 - y1**2 - z1**2))\n",
    "\n",
    "    A = np.array(A)\n",
    "    b = np.array(b)\n",
    "\n",
    "    # Solve the linear system A * [x_c, y_c, z_c] = b\n",
    "    center = np.linalg.lstsq(A, b, rcond=None)[0]\n",
    "\n",
    "    return center\n"
   ]
  },
  {
   "cell_type": "code",
   "execution_count": 5,
   "metadata": {},
   "outputs": [],
   "source": [
    "def sample_points_on_sphere(x_c, y_c, z_c, r, N):\n",
    "    points = []\n",
    "    for _ in range(N):\n",
    "        theta = np.random.uniform(0, 2 * np.pi)\n",
    "        phi = np.random.uniform(0, np.pi)\n",
    "        \n",
    "        x = x_c + r * np.sin(phi) * np.cos(theta)\n",
    "        y = y_c + r * np.sin(phi) * np.sin(theta)\n",
    "        z = z_c + r * np.cos(phi)\n",
    "        \n",
    "        points.append((x, y, z))\n",
    "    \n",
    "    return points"
   ]
  },
  {
   "cell_type": "code",
   "execution_count": 11,
   "metadata": {},
   "outputs": [
    {
     "name": "stdout",
     "output_type": "stream",
     "text": [
      "Center of the sphere: [1.  2.  4.1]\n"
     ]
    }
   ],
   "source": [
    "x_c, y_c, z_c = 1, 2, 4.1\n",
    "r = 1.2\n",
    "N = 4\n",
    "points = sample_points_on_sphere(x_c, y_c, z_c, r, N)\n",
    "center = find_sphere_center(points, r)\n",
    "print(\"Center of the sphere:\", center)"
   ]
  }
 ],
 "metadata": {
  "kernelspec": {
   "display_name": "py311",
   "language": "python",
   "name": "python3"
  },
  "language_info": {
   "codemirror_mode": {
    "name": "ipython",
    "version": 3
   },
   "file_extension": ".py",
   "mimetype": "text/x-python",
   "name": "python",
   "nbconvert_exporter": "python",
   "pygments_lexer": "ipython3",
   "version": "3.11.8"
  }
 },
 "nbformat": 4,
 "nbformat_minor": 2
}
