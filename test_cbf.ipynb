{
 "cells": [
  {
   "cell_type": "code",
   "execution_count": 21,
   "metadata": {},
   "outputs": [
    {
     "name": "stdout",
     "output_type": "stream",
     "text": [
      "Interface Running...\n"
     ]
    }
   ],
   "source": [
    "import sys \n",
    "from FR3Py.robot.interface import FR3Real\n",
    "robot = FR3Real(robot_id='fr3')"
   ]
  },
  {
   "cell_type": "code",
   "execution_count": 22,
   "metadata": {},
   "outputs": [
    {
     "data": {
      "text/plain": [
       "{'q': array([-1.05593248e-04, -7.84475965e-01,  3.56295220e-03, -2.50966895e+00,\n",
       "        -1.06560871e-03,  1.57109323e+00,  7.86168736e-01]),\n",
       " 'dq': array([ 2.44816006e-03,  1.46172725e-03, -4.95307038e-04,  6.44718811e-05,\n",
       "        -6.61234049e-04, -6.89224474e-04,  7.10209487e-04]),\n",
       " 'T': array([-8.63957033e-03, -4.55194235e+00, -9.02548194e-01,  2.34527931e+01,\n",
       "         1.03654706e+00,  1.92899299e+00, -7.64214694e-02])}"
      ]
     },
     "execution_count": 22,
     "metadata": {},
     "output_type": "execute_result"
    }
   ],
   "source": [
    "robot.getStates()"
   ]
  },
  {
   "cell_type": "code",
   "execution_count": 23,
   "metadata": {},
   "outputs": [],
   "source": [
    "import numpy as np\n",
    "from FR3Py.robot.model_collision_avoidance import PinocchioModel\n",
    "import time\n",
    "\n",
    "pin_robot = PinocchioModel()\n",
    "joint_lb = np.array([-2.3093, -1.5133, -2.4937, -2.7478, -2.48, 0.8521, -2.6895])\n",
    "joint_ub = np.array([2.3093, 1.5133, 2.4937, -0.4461, 2.48, 4.2094, 2.6895])\n",
    "n_joints = 7\n",
    "q_bar = 0.5*(joint_ub + joint_lb)\n",
    "P_EE_desired = np.array([0.42, 0.50, 0.00])\n",
    "R_EE_desired = np.array([[1, 0, 0],\n",
    "                        [0, -1, 0],\n",
    "                        [0, 0, -1]])\n",
    "P_EE_initial = np.array([0.30, 0.0, 0.47])"
   ]
  },
  {
   "cell_type": "markdown",
   "metadata": {},
   "source": [
    "### Inverse dynamic control (initial pose to pre-cleaning pose)"
   ]
  },
  {
   "cell_type": "code",
   "execution_count": 24,
   "metadata": {},
   "outputs": [],
   "source": [
    "from cores.utils.trajectory_utils import TrapezoidalTrajectory\n",
    "\n",
    "via_points = np.array([P_EE_initial, P_EE_desired])\n",
    "target_time = np.array([0, 10])\n",
    "traj = TrapezoidalTrajectory(via_points, target_time, T_antp=0.2, Ts=0.01)"
   ]
  },
  {
   "cell_type": "code",
   "execution_count": 25,
   "metadata": {},
   "outputs": [],
   "source": [
    "from cores.utils.control_utils import get_torque_to_track_traj_const_ori\n",
    "\n",
    "T = 12\n",
    "\n",
    "Kp_task = np.diag([40,40,40,100,100,100])\n",
    "Kd_task = np.diag([40,40,40,100,100,100])\n",
    "\n",
    "Kp_joint = np.diag([0.1, 0.1, 0.1, 0.1, 0.1, 0.1, 0.1])*10\n",
    "Kd_joint = np.diag([0.5, 0.5, 0.5, 0.5, 0.5, 0.5, 0.5])*10\n",
    "\n",
    "delta = 0.1\n",
    "\n",
    "t_start = time.time()\n",
    "while time.time() - t_start < T:\n",
    "    t = time.time() - t_start\n",
    "    traj_pos, traj_vel, traj_acc = traj.get_traj_and_ders(t)\n",
    "\n",
    "    q = 0.025*np.ones(9)\n",
    "    dq = np.zeros(9)\n",
    "    robot_info = robot.getStates()\n",
    "    q[0:n_joints] = robot_info['q']\n",
    "    dq[0:n_joints] = robot_info['dq']\n",
    "\n",
    "    pin_info = pin_robot.getInfo(q, dq)\n",
    "    q = q[0:n_joints]\n",
    "    dq = dq[0:n_joints]\n",
    "    P_EE = pin_info[\"P_EE\"]\n",
    "    R_EE = pin_info[\"R_EE\"]\n",
    "    J_EE = pin_info[\"J_EE\"][:,0:n_joints] # shape (6,7)\n",
    "    dJdq_EE = pin_info[\"dJdq_EE\"] # shape (6,)\n",
    "    v_EE = J_EE @ dq # shape (6,)\n",
    "    M = pin_info[\"M\"][0:n_joints,0:n_joints] + delta*np.eye(n_joints) # shape (7,7)\n",
    "    # Minv = pin_info[\"Minv\"][0:n_joints,0:n_joints]   # shape (7,7)\n",
    "    Minv = np.linalg.inv(M)\n",
    "    nle = pin_info[\"nle\"][0:n_joints]  # shape (7,)\n",
    "    G = pin_info[\"G\"][0:n_joints]  # shape (7,)\n",
    "\n",
    "    S, u_task = get_torque_to_track_traj_const_ori(traj_pos, traj_vel, traj_acc, R_EE_desired, Kp_task, Kd_task, Minv, J_EE, dJdq_EE, dq, P_EE, R_EE)\n",
    "\n",
    "    # Secondary objective: encourage the joints to remain close to the initial configuration\n",
    "    W = np.diag(1.0/(joint_ub-joint_lb))\n",
    "    eq = W @ (q - q_bar)\n",
    "    deq = W @ dq\n",
    "    u_joint = M @ (- Kd_joint @ deq - Kp_joint @ eq) \n",
    "\n",
    "    # Compute the input torque\n",
    "    Spinv = S.T @ np.linalg.pinv(S @ S.T + 0.01* np.eye(S.shape[0]))\n",
    "    u_nominal =  Spinv @ u_task + (np.eye(len(q)) - Spinv @ S) @ u_joint\n",
    "    u = np.clip(u_nominal, -20, 20)\n",
    "    robot.setCommands(u)\n",
    "\n",
    "robot.setCommands(np.zeros_like(u))\n"
   ]
  },
  {
   "cell_type": "markdown",
   "metadata": {},
   "source": [
    "### Setup the CBF"
   ]
  },
  {
   "cell_type": "code",
   "execution_count": 40,
   "metadata": {},
   "outputs": [
    {
     "name": "stdout",
     "output_type": "stream",
     "text": [
      "==> Define proxuite problem\n"
     ]
    }
   ],
   "source": [
    "from cores.utils.proxsuite_utils import init_proxsuite_qp\n",
    "import diffOptHelper as doh\n",
    "from FR3Py.robot.model_collision_avoidance import BoundingShapeCoef\n",
    "from scipy.spatial.transform import Rotation\n",
    "from cores.utils.rotation_utils import get_quat_from_rot_matrix, get_Q_matrix_from_quat, get_dQ_matrix\n",
    "\n",
    "# Load the obstacle\n",
    "obs_pos_np = np.array([0.22, 0.5, 0.0])\n",
    "obs_quat_np = np.array([0.0, 0.0, 0.0, 1.0]) # (qx, qy, qz, qw)\n",
    "obs_size_np = np.array([0.05, 0.05, 0.05])\n",
    "obs_coef_np = np.diag(1/obs_size_np**2)\n",
    "obs_R_np = Rotation.from_quat(obs_quat_np).as_matrix()\n",
    "obs_coef_np = obs_R_np @ obs_coef_np @ obs_R_np.T\n",
    "\n",
    "# Load the bounding shape coefficients\n",
    "BB_coefs = BoundingShapeCoef()\n",
    "\n",
    "# CBF parameters\n",
    "alpha0 = [1.3, 1.3, 1.3]\n",
    "gamma1 = [3.0, 3.0, 3.0]\n",
    "gamma2 = [10.0, 10.0, 10.0]\n",
    "compensation = [0, 0, 0]\n",
    "selected_BBs = [\"HAND_BB\", \"LINK7_BB\", \"LINK6_BB\"]\n",
    "\n",
    "# Define proxuite problem\n",
    "print(\"==> Define proxuite problem\")\n",
    "n_CBF = len(selected_BBs)\n",
    "cbf_qp = init_proxsuite_qp(n_v=n_joints, n_eq=0, n_in=n_joints+n_CBF)\n"
   ]
  },
  {
   "cell_type": "markdown",
   "metadata": {},
   "source": [
    "### Press against the surface while tracking a circular trajectory"
   ]
  },
  {
   "cell_type": "code",
   "execution_count": 41,
   "metadata": {},
   "outputs": [],
   "source": [
    "from cores.utils.trajectory_utils import CircularTrajectory\n",
    "duration = 100\n",
    "P_start_point = np.array([0.42, 0.50, 0.0])\n",
    "P_center = np.array([0.32, 0.50, 0.0])\n",
    "nominal_linear_vel = 0.05\n",
    "R_b_to_w = np.eye(3)\n",
    "traj = CircularTrajectory(P_center, P_start_point, nominal_linear_vel, R_b_to_w, duration)\n"
   ]
  },
  {
   "cell_type": "code",
   "execution_count": 42,
   "metadata": {},
   "outputs": [],
   "source": [
    "T = 60\n",
    "input_torque_lb = np.array([-87, -87, -87, -87, -87, -87, -87])\n",
    "input_torque_ub = np.array([87, 87, 87, 87, 87, 87, 87])\n",
    "\n",
    "cbf_active = True\n",
    "\n",
    "Kp_task = np.diag([40,40,40,60,60,100])\n",
    "Kd_task = np.diag([30,30,30,20,20,75])\n",
    "\n",
    "Kp_joint = np.diag([0.1, 0.1, 0.1, 0.1, 0.1, 0.1, 0.1])*200\n",
    "Kd_joint = np.diag([0.5, 0.5, 0.5, 0.5, 0.5, 0.5, 0.5])*160\n",
    "\n",
    "F_ext = np.array([0, 0, -10, 0, 0, 0])\n",
    "\n",
    "delta = 0.1\n",
    "\n",
    "t_start = time.time()\n",
    "while time.time() - t_start < T:\n",
    "    t = time.time() - t_start\n",
    "    traj_pos, traj_vel, traj_acc = traj.get_traj_and_ders(t)\n",
    "\n",
    "    q = 0.025*np.ones(9)\n",
    "    dq = np.zeros(9)\n",
    "    robot_info = robot.getStates()\n",
    "    q[0:n_joints] = robot_info['q']\n",
    "    dq[0:n_joints] = robot_info['dq']\n",
    "\n",
    "    pin_info = pin_robot.getInfo(q, dq)\n",
    "    q = q[0:n_joints]\n",
    "    dq = dq[0:n_joints]\n",
    "    P_EE = pin_info[\"P_EE\"]\n",
    "    R_EE = pin_info[\"R_EE\"]\n",
    "    J_EE = pin_info[\"J_EE\"][:,0:n_joints] # shape (6,7)\n",
    "    dJdq_EE = pin_info[\"dJdq_EE\"] # shape (6,)\n",
    "    v_EE = J_EE @ dq # shape (6,)\n",
    "    M = pin_info[\"M\"][0:n_joints,0:n_joints] + delta*np.eye(n_joints) # shape (7,7)\n",
    "    # Minv = pin_info[\"Minv\"][0:n_joints,0:n_joints]   # shape (7,7)\n",
    "    Minv = np.linalg.inv(M)\n",
    "    nle = pin_info[\"nle\"][0:n_joints]  # shape (7,)\n",
    "    G = pin_info[\"G\"][0:n_joints]  # shape (7,)\n",
    "\n",
    "    S, u_task = get_torque_to_track_traj_const_ori(traj_pos, traj_vel, traj_acc, R_EE_desired, Kp_task, Kd_task, Minv, J_EE, dJdq_EE, dq, P_EE, R_EE)\n",
    "\n",
    "    # Second objective: apply a force on the z axis to press the end-effector against the table\n",
    "    u_press = J_EE.T @ F_ext\n",
    "\n",
    "    # Third objective: encourage the joints to remain close to the initial configuration\n",
    "    W = np.diag(1.0/(joint_ub-joint_lb))\n",
    "    eq = W @ (q - q_bar)\n",
    "    deq = W @ dq\n",
    "    u_joint = M @ (- Kd_joint @ deq - Kp_joint @ eq) \n",
    "\n",
    "    # Compute the input torque\n",
    "    Spinv = S.T @ np.linalg.pinv(S @ S.T + 0.01* np.eye(S.shape[0]))\n",
    "    u_nominal =  nle + Spinv @ u_task + (np.eye(len(q)) - Spinv @ S) @ u_joint + u_press\n",
    "\n",
    "    if cbf_active:\n",
    "        # Matrices for the CBF-QP constraints\n",
    "        C = np.zeros([n_joints+n_CBF, n_joints])\n",
    "        lb = np.zeros(n_joints+n_CBF)\n",
    "        ub = np.zeros(n_joints+n_CBF)\n",
    "        CBF_tmp = np.zeros(n_CBF)\n",
    "        phi1_tmp = np.zeros(n_CBF)\n",
    "        phi2_tmp = np.zeros(n_CBF)\n",
    "\n",
    "        for kk in range(len(selected_BBs)):\n",
    "            name_BB = selected_BBs[kk]\n",
    "            P_BB = pin_info[\"P_\"+name_BB]\n",
    "            R_BB = pin_info[\"R_\"+name_BB]\n",
    "            J_BB = pin_info[\"J_\"+name_BB][:,0:n_joints]\n",
    "            dJdq_BB = pin_info[\"dJdq_\"+name_BB]\n",
    "            v_BB = J_BB @ dq\n",
    "            D_BB = BB_coefs.coefs[name_BB]\n",
    "            quat_BB = get_quat_from_rot_matrix(R_BB)\n",
    "            alpha, _, alpha_dx_tmp, alpha_dxdx_tmp = doh.getGradientAndHessianEllipsoids(P_BB, quat_BB, D_BB, \n",
    "                            R_BB, obs_coef_np, obs_pos_np)\n",
    "            \n",
    "            # Order of parameters in alpha_dx_tmp and alpha_dxdx_tmp: [qx, qy, qz, qw, x, y, z]\n",
    "            # Convert to the order of [x, y, z, qx, qy, qz, qw]\n",
    "            alpha_dx = np.zeros(7)\n",
    "            alpha_dx[0:3] = alpha_dx_tmp[4:7]\n",
    "            alpha_dx[3:7] = alpha_dx_tmp[0:4]\n",
    "\n",
    "            alpha_dxdx = np.zeros((7, 7))\n",
    "            alpha_dxdx[0:3,0:3] = alpha_dxdx_tmp[4:7,4:7]\n",
    "            alpha_dxdx[3:7,3:7] = alpha_dxdx_tmp[0:4,0:4]\n",
    "            alpha_dxdx[0:3,3:7] = alpha_dxdx_tmp[4:7,0:4]\n",
    "            alpha_dxdx[3:7,0:3] = alpha_dxdx_tmp[0:4,4:7]\n",
    "\n",
    "            # CBF-QP constraints\n",
    "            dx = np.zeros(7)\n",
    "            dx[0:3] = v_BB[0:3]\n",
    "            Q = get_Q_matrix_from_quat(quat_BB) # shape (4,3)\n",
    "            dquat = 0.5 * Q @ v_BB[3:6] # shape (4,)\n",
    "            dx[3:7] = dquat \n",
    "            dCBF =  alpha_dx @ dx # scalar\n",
    "            CBF = alpha - alpha0[kk]\n",
    "            phi1 = dCBF + gamma1[kk] * CBF\n",
    "\n",
    "            dQ = get_dQ_matrix(dquat) # shape (4,3)\n",
    "            tmp_vec = np.zeros(7)\n",
    "            tmp_vec[3:7] = 0.5 * dQ @ v_BB[3:6] # shape (4,)\n",
    "            tmp_mat = np.zeros((7,6))\n",
    "            tmp_mat[0:3,0:3] = np.eye(3)\n",
    "            tmp_mat[3:7,3:6] = 0.5 * Q\n",
    "\n",
    "            C[kk,:] = alpha_dx @ tmp_mat @ J_BB @ Minv\n",
    "            lb[kk] = - gamma2[kk]*phi1 - gamma1[kk]*dCBF - dx.T @ alpha_dxdx @ dx - alpha_dx @ tmp_vec \\\n",
    "                    - alpha_dx @ tmp_mat @ dJdq_BB + alpha_dx @ tmp_mat @ J_BB @ Minv @ (nle) + compensation[kk]\n",
    "            ub[kk] = np.inf\n",
    "\n",
    "            CBF_tmp[kk] = CBF\n",
    "            phi1_tmp[kk] = phi1\n",
    "\n",
    "        # CBF-QP constraints\n",
    "        g = -u_nominal\n",
    "        C[n_CBF:n_CBF+n_joints,:] = np.eye(n_joints)\n",
    "        lb[n_CBF:] = input_torque_lb\n",
    "        ub[n_CBF:] = input_torque_ub\n",
    "        cbf_qp.update(g=g, C=C, l=lb, u=ub)\n",
    "        cbf_qp.solve()\n",
    "        u = cbf_qp.results.x\n",
    "        for kk in range(n_CBF):\n",
    "            phi2_tmp[kk] = C[kk,:] @ u - lb[kk]\n",
    "\n",
    "    else:\n",
    "        u = u_nominal\n",
    "    \n",
    "    u = u - nle\n",
    "    u = np.clip(u, -10, 10)\n",
    "    robot.setCommands(u)\n",
    "\n",
    "robot.setCommands(np.zeros_like(u))"
   ]
  },
  {
   "cell_type": "markdown",
   "metadata": {},
   "source": [
    "### Lift from the whiteboard"
   ]
  },
  {
   "cell_type": "code",
   "execution_count": 106,
   "metadata": {},
   "outputs": [],
   "source": [
    "via_points = np.array([P_EE, np.array([P_EE[0], P_EE[1], P_EE[2]+0.2])])\n",
    "target_time = np.array([0, 5])\n",
    "traj = TrapezoidalTrajectory(via_points, target_time, T_antp=0.2, Ts=0.01)"
   ]
  },
  {
   "cell_type": "code",
   "execution_count": 107,
   "metadata": {},
   "outputs": [
    {
     "ename": "TypeError",
     "evalue": "'NoneType' object is not subscriptable",
     "output_type": "error",
     "traceback": [
      "\u001b[0;31m---------------------------------------------------------------------------\u001b[0m",
      "\u001b[0;31mTypeError\u001b[0m                                 Traceback (most recent call last)",
      "Cell \u001b[0;32mIn[107], line 19\u001b[0m\n\u001b[1;32m     17\u001b[0m dq \u001b[38;5;241m=\u001b[39m np\u001b[38;5;241m.\u001b[39mzeros(\u001b[38;5;241m9\u001b[39m)\n\u001b[1;32m     18\u001b[0m robot_info \u001b[38;5;241m=\u001b[39m robot\u001b[38;5;241m.\u001b[39mgetStates()\n\u001b[0;32m---> 19\u001b[0m q[\u001b[38;5;241m0\u001b[39m:n_joints] \u001b[38;5;241m=\u001b[39m \u001b[43mrobot_info\u001b[49m\u001b[43m[\u001b[49m\u001b[38;5;124;43m'\u001b[39;49m\u001b[38;5;124;43mq\u001b[39;49m\u001b[38;5;124;43m'\u001b[39;49m\u001b[43m]\u001b[49m\n\u001b[1;32m     20\u001b[0m dq[\u001b[38;5;241m0\u001b[39m:n_joints] \u001b[38;5;241m=\u001b[39m robot_info[\u001b[38;5;124m'\u001b[39m\u001b[38;5;124mdq\u001b[39m\u001b[38;5;124m'\u001b[39m]\n\u001b[1;32m     22\u001b[0m pin_info \u001b[38;5;241m=\u001b[39m pin_robot\u001b[38;5;241m.\u001b[39mgetInfo(q, dq)\n",
      "\u001b[0;31mTypeError\u001b[0m: 'NoneType' object is not subscriptable"
     ]
    }
   ],
   "source": [
    "T = 7\n",
    "\n",
    "Kp_task = np.diag([40,40,40,100,100,100])\n",
    "Kd_task = np.diag([40,40,40,100,100,100])\n",
    "\n",
    "Kp_joint = np.diag([0.1, 0.1, 0.1, 0.1, 0.1, 0.1, 0.1])*10\n",
    "Kd_joint = np.diag([0.5, 0.5, 0.5, 0.5, 0.5, 0.5, 0.5])*10\n",
    "\n",
    "delta = 0.1\n",
    "\n",
    "t_start = time.time()\n",
    "while time.time() - t_start < T:\n",
    "    t = time.time() - t_start\n",
    "    traj_pos, traj_vel, traj_acc = traj.get_traj_and_ders(t)\n",
    "\n",
    "    q = 0.025*np.ones(9)\n",
    "    dq = np.zeros(9)\n",
    "    robot_info = robot.getStates()\n",
    "    q[0:n_joints] = robot_info['q']\n",
    "    dq[0:n_joints] = robot_info['dq']\n",
    "\n",
    "    pin_info = pin_robot.getInfo(q, dq)\n",
    "    q = q[0:n_joints]\n",
    "    dq = dq[0:n_joints]\n",
    "    P_EE = pin_info[\"P_EE\"]\n",
    "    R_EE = pin_info[\"R_EE\"]\n",
    "    J_EE = pin_info[\"J_EE\"][:,0:n_joints] # shape (6,7)\n",
    "    dJdq_EE = pin_info[\"dJdq_EE\"] # shape (6,)\n",
    "    v_EE = J_EE @ dq # shape (6,)\n",
    "    M = pin_info[\"M\"][0:n_joints,0:n_joints] + delta*np.eye(n_joints) # shape (7,7)\n",
    "    # Minv = pin_info[\"Minv\"][0:n_joints,0:n_joints]   # shape (7,7)\n",
    "    Minv = np.linalg.inv(M)\n",
    "    nle = pin_info[\"nle\"][0:n_joints]  # shape (7,)\n",
    "    G = pin_info[\"G\"][0:n_joints]  # shape (7,)\n",
    "\n",
    "    S, u_task = get_torque_to_track_traj_const_ori(traj_pos, traj_vel, traj_acc, R_EE_desired, Kp_task, Kd_task, Minv, J_EE, dJdq_EE, dq, P_EE, R_EE)\n",
    "\n",
    "    # Secondary objective: encourage the joints to remain close to the initial configuration\n",
    "    W = np.diag(1.0/(joint_ub-joint_lb))\n",
    "    eq = W @ (q - q_bar)\n",
    "    deq = W @ dq\n",
    "    u_joint = M @ (- Kd_joint @ deq - Kp_joint @ eq) \n",
    "\n",
    "    # Compute the input torque\n",
    "    Spinv = S.T @ np.linalg.pinv(S @ S.T + 0.01* np.eye(S.shape[0]))\n",
    "    u_nominal =  Spinv @ u_task + (np.eye(len(q)) - Spinv @ S) @ u_joint\n",
    "    u = np.clip(u_nominal, -20, 20)\n",
    "    robot.setCommands(u)\n",
    "\n",
    "robot.setCommands(np.zeros_like(u))"
   ]
  }
 ],
 "metadata": {
  "kernelspec": {
   "display_name": "base",
   "language": "python",
   "name": "python3"
  },
  "language_info": {
   "codemirror_mode": {
    "name": "ipython",
    "version": 3
   },
   "file_extension": ".py",
   "mimetype": "text/x-python",
   "name": "python",
   "nbconvert_exporter": "python",
   "pygments_lexer": "ipython3",
   "version": "3.11.0"
  }
 },
 "nbformat": 4,
 "nbformat_minor": 2
}
