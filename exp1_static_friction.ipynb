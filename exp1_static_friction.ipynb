{
 "cells": [
  {
   "cell_type": "code",
   "execution_count": 1,
   "metadata": {},
   "outputs": [
    {
     "name": "stdout",
     "output_type": "stream",
     "text": [
      "Interface Running...\n"
     ]
    }
   ],
   "source": [
    "%load_ext autoreload\n",
    "%autoreload 2\n",
    "import sys \n",
    "from FR3Py.robot.interface import FR3Real\n",
    "robot = FR3Real(robot_id='fr3')"
   ]
  },
  {
   "cell_type": "code",
   "execution_count": 2,
   "metadata": {},
   "outputs": [
    {
     "data": {
      "text/plain": [
       "{'q': array([ 9.69113370e-04, -7.84731326e-01, -2.55507584e-06, -2.38915525e+00,\n",
       "         9.01109104e-05,  1.57101440e+00,  7.86523983e-01]),\n",
       " 'dq': array([ 1.51213469e-03, -1.18833623e-03,  8.34295386e-04,  9.25195677e-04,\n",
       "         2.49131064e-05, -8.76247010e-05,  1.11746836e-03]),\n",
       " 'T': array([-0.18716741, -4.14727926, -0.64864194, 23.07193375,  0.90013349,\n",
       "         2.06174445, -0.11578915])}"
      ]
     },
     "execution_count": 2,
     "metadata": {},
     "output_type": "execute_result"
    }
   ],
   "source": [
    "robot.getJointStates()"
   ]
  },
  {
   "cell_type": "code",
   "execution_count": 43,
   "metadata": {},
   "outputs": [
    {
     "name": "stdout",
     "output_type": "stream",
     "text": [
      "[ 0.8 -1.1 -0.5  1.7  1.8 -1.  -0.6]\n"
     ]
    }
   ],
   "source": [
    "import numpy as np\n",
    "import time\n",
    "\n",
    "static_friction = np.array([0.8, 1.1, 0.5, 1.7, 1.8, 1.0, 0.6])\n",
    "signs = np.array([1,-1,-1,1,1,-1,-1])"
   ]
  },
  {
   "cell_type": "code",
   "execution_count": 42,
   "metadata": {},
   "outputs": [
    {
     "name": "stdout",
     "output_type": "stream",
     "text": [
      "[0.  0.  0.  0.  0.  0.  0.1]\n",
      "[0.  0.  0.  0.  0.  0.  0.2]\n",
      "[0.  0.  0.  0.  0.  0.  0.3]\n",
      "[0.  0.  0.  0.  0.  0.  0.4]\n",
      "[0.  0.  0.  0.  0.  0.  0.5]\n",
      "[0.  0.  0.  0.  0.  0.  0.6]\n",
      "[0.  0.  0.  0.  0.  0.  0.6]\n"
     ]
    }
   ],
   "source": [
    "\n",
    "tau = np.array([0., 0., 0., 0., 0., 0., 0.])\n",
    "info = robot.getJointStates()\n",
    "dq_prev = info['dq']\n",
    "q_prev = info['q']\n",
    "joint_id = 6\n",
    "\n",
    "for i in range(30):\n",
    "    info = robot.getJointStates()\n",
    "    q = info['q']\n",
    "    dq = info['dq']\n",
    "    if np.abs(q[joint_id] - q_prev[joint_id]) > 1e-2:\n",
    "        break\n",
    "    \n",
    "    tau[joint_id] += 0.1\n",
    "    robot.setCommands(tau)\n",
    "    time.sleep(1)\n",
    "    print(tau)\n",
    "robot.setCommands(np.zeros(7))\n",
    "print(tau)"
   ]
  },
  {
   "cell_type": "code",
   "execution_count": null,
   "metadata": {},
   "outputs": [],
   "source": []
  }
 ],
 "metadata": {
  "kernelspec": {
   "display_name": "base",
   "language": "python",
   "name": "python3"
  },
  "language_info": {
   "codemirror_mode": {
    "name": "ipython",
    "version": 3
   },
   "file_extension": ".py",
   "mimetype": "text/x-python",
   "name": "python",
   "nbconvert_exporter": "python",
   "pygments_lexer": "ipython3",
   "version": "3.11.0"
  }
 },
 "nbformat": 4,
 "nbformat_minor": 2
}
