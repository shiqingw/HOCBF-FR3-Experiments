{
 "cells": [
  {
   "cell_type": "code",
   "execution_count": 1,
   "metadata": {},
   "outputs": [
    {
     "name": "stdout",
     "output_type": "stream",
     "text": [
      "Interface Running...\n"
     ]
    }
   ],
   "source": [
    "%load_ext autoreload\n",
    "%autoreload 2\n",
    "import sys \n",
    "from FR3Py.robot.interface import FR3Real\n",
    "robot = FR3Real(robot_id='fr3')"
   ]
  },
  {
   "cell_type": "code",
   "execution_count": 2,
   "metadata": {},
   "outputs": [
    {
     "data": {
      "text/plain": [
       "{'q': array([ 7.97622967e-04, -7.84783699e-01,  1.40470825e-04, -2.35834433e+00,\n",
       "         5.17115632e-04,  1.57123112e+00,  7.86902855e-01]),\n",
       " 'dq': array([-4.83298170e-04, -3.05536135e-04,  1.30129210e-03,  6.59455255e-04,\n",
       "        -8.18993450e-04,  2.68265687e-04,  5.19932380e-05]),\n",
       " 'T': array([-0.15939641, -4.32183981, -0.72402036, 23.19888687,  0.65385664,\n",
       "         2.12125373, -0.07642147]),\n",
       " 'M': array([[ 4.93341874e-01, -8.95682441e-03,  4.90972166e-01,\n",
       "         -1.19238455e-02,  6.15481633e-02, -3.06599302e-03,\n",
       "          1.29639081e-03],\n",
       "        [-8.95682441e-03,  1.54588109e+00,  4.74714223e-03,\n",
       "         -7.00805061e-01, -1.29214957e-02, -2.24156724e-02,\n",
       "         -1.53844326e-03],\n",
       "        [ 4.90972166e-01,  4.74714223e-03,  9.93514327e-01,\n",
       "         -2.58602116e-02,  7.49685918e-02, -3.84236815e-03,\n",
       "          3.24953975e-03],\n",
       "        [-1.19238455e-02, -7.00805061e-01, -2.58602116e-02,\n",
       "          9.73363824e-01,  2.55880571e-02,  1.11775517e-01,\n",
       "         -1.72131526e-04],\n",
       "        [ 6.15481633e-02, -1.29214957e-02,  7.49685918e-02,\n",
       "          2.55880571e-02,  2.35426176e-02,  2.33067936e-03,\n",
       "          8.07004100e-04],\n",
       "        [-3.06599302e-03, -2.24156724e-02, -3.84236815e-03,\n",
       "          1.11775517e-01,  2.33067936e-03,  3.89402293e-02,\n",
       "         -6.74050143e-04],\n",
       "        [ 1.29639081e-03, -1.53844326e-03,  3.24953975e-03,\n",
       "         -1.72131526e-04,  8.07004100e-04, -6.74050143e-04,\n",
       "          2.17287172e-03]]),\n",
       " 'G': array([ 5.42101086e-19, -4.09666129e+00, -6.08179924e-01,  2.29349038e+01,\n",
       "         7.48910147e-01,  2.23947080e+00,  1.85147764e-04]),\n",
       " 'C': array([ 7.56870238e-07, -1.60198304e-07,  1.36163467e-06, -9.24615530e-07,\n",
       "         1.08127530e-07, -1.67863221e-07,  1.12015161e-08])}"
      ]
     },
     "execution_count": 2,
     "metadata": {},
     "output_type": "execute_result"
    }
   ],
   "source": [
    "robot.getJointStates()"
   ]
  },
  {
   "cell_type": "code",
   "execution_count": 4,
   "metadata": {},
   "outputs": [],
   "source": [
    "import numpy as np\n",
    "import time\n",
    "\n",
    "static_friction = np.array([0.8, 1.1, 0.5, 1.2, 1.3, 1.0, 0.5])"
   ]
  },
  {
   "cell_type": "code",
   "execution_count": 11,
   "metadata": {},
   "outputs": [
    {
     "name": "stdout",
     "output_type": "stream",
     "text": [
      "[0.  0.  0.  0.  0.  0.  0.1]\n",
      "[0.  0.  0.  0.  0.  0.  0.2]\n",
      "[0.  0.  0.  0.  0.  0.  0.3]\n",
      "[0.  0.  0.  0.  0.  0.  0.4]\n",
      "[0.  0.  0.  0.  0.  0.  0.5]\n",
      "[0.  0.  0.  0.  0.  0.  0.5]\n"
     ]
    }
   ],
   "source": [
    "\n",
    "tau = np.array([0., 0., 0., 0., 0., 0., 0.])\n",
    "info = robot.getJointStates()\n",
    "dq_prev = info['dq']\n",
    "q_prev = info['q']\n",
    "joint_id = 6\n",
    "\n",
    "for i in range(30):\n",
    "    info = robot.getJointStates()\n",
    "    q = info['q']\n",
    "    dq = info['dq']\n",
    "    if np.abs(q[joint_id] - q_prev[joint_id]) > 1e-2:\n",
    "        break\n",
    "    \n",
    "    tau[joint_id] += 0.1\n",
    "    robot.setCommands(tau)\n",
    "    time.sleep(1)\n",
    "    print(tau)\n",
    "robot.setCommands(np.zeros(7))\n",
    "print(tau)"
   ]
  },
  {
   "cell_type": "code",
   "execution_count": null,
   "metadata": {},
   "outputs": [],
   "source": []
  }
 ],
 "metadata": {
  "kernelspec": {
   "display_name": "base",
   "language": "python",
   "name": "python3"
  },
  "language_info": {
   "codemirror_mode": {
    "name": "ipython",
    "version": 3
   },
   "file_extension": ".py",
   "mimetype": "text/x-python",
   "name": "python",
   "nbconvert_exporter": "python",
   "pygments_lexer": "ipython3",
   "version": "3.11.0"
  }
 },
 "nbformat": 4,
 "nbformat_minor": 2
}
