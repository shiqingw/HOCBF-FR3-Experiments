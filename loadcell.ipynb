{
 "cells": [
  {
   "cell_type": "code",
   "execution_count": 1,
   "metadata": {},
   "outputs": [],
   "source": [
    "import serial\n",
    "from threading import Thread\n",
    "import struct\n",
    "import time\n",
    "import numpy as np"
   ]
  },
  {
   "cell_type": "code",
   "execution_count": 3,
   "metadata": {},
   "outputs": [
    {
     "name": "stderr",
     "output_type": "stream",
     "text": [
      "Exception in thread Thread-4:\n",
      "Traceback (most recent call last):\n",
      "  File \"/usr/lib/python3.8/threading.py\", line 932, in _bootstrap_inner\n",
      "    self.run()\n",
      "  File \"/home/rstaion/.local/lib/python3.8/site-packages/ipykernel/ipkernel.py\", line 766, in run_closure\n",
      "    _threading_Thread_run(self)\n",
      "  File \"/usr/lib/python3.8/threading.py\", line 870, in run\n",
      "    self._target(*self._args, **self._kwargs)\n",
      "  File \"/tmp/ipykernel_600004/1194936489.py\", line 13, in update\n",
      "  File \"/home/rstaion/.local/lib/python3.8/site-packages/serial/serialutil.py\", line 663, in read_until\n",
      "    c = self.read(1)\n",
      "  File \"/home/rstaion/.local/lib/python3.8/site-packages/serial/serialposix.py\", line 595, in read\n",
      "    raise SerialException(\n",
      "serial.serialutil.SerialException: device reports readiness to read but returned no data (device disconnected or multiple access on port?)\n"
     ]
    }
   ],
   "source": [
    "class LoadCell:\n",
    "    def __init__(self, port = '/dev/ttyACM0'):\n",
    "        self.port = port\n",
    "        self.serial = serial.Serial(port, baudrate=115200, timeout=1)\n",
    "        self.running = True\n",
    "        self.state = None\n",
    "        self.offset = 0.\n",
    "        self.thread = Thread(target=self.update)\n",
    "        self.thread.start()\n",
    "\n",
    "    def update(self):\n",
    "        while self.running:\n",
    "            data = self.serial.read_until(b'abc\\n')\n",
    "            # print(len(data))\n",
    "            data = struct.unpack('1f',data[:-4])\n",
    "            self.state = {'loadcell':data[0]-self.offset}\n",
    "            \n",
    "    def read(self):\n",
    "        return self.state\n",
    "    \n",
    "    def close(self):\n",
    "        self.running=False\n",
    "        self.serial.close()\n",
    "    \n",
    "    def zeroReset(self):\n",
    "        print('Calibrating, wait for 5 seconds ...')\n",
    "        self.offset = 0.\n",
    "        offset = [] \n",
    "        for i in range(500):\n",
    "            time.sleep(0.01)\n",
    "            offset.append(loadcell.read()['loadcell'])\n",
    "            self.offset = np.array(offset).mean()\n",
    "\n",
    "loadcell = LoadCell()\n",
    "\n"
   ]
  },
  {
   "cell_type": "code",
   "execution_count": 4,
   "metadata": {},
   "outputs": [
    {
     "name": "stdout",
     "output_type": "stream",
     "text": [
      "Calibrating, wait for 5 seconds ...\n"
     ]
    }
   ],
   "source": [
    "loadcell.zeroReset()"
   ]
  },
  {
   "cell_type": "code",
   "execution_count": 28,
   "metadata": {},
   "outputs": [
    {
     "data": {
      "text/plain": [
       "14.136511153316379"
      ]
     },
     "execution_count": 28,
     "metadata": {},
     "output_type": "execute_result"
    }
   ],
   "source": [
    "loadcell.read()['loadcell']"
   ]
  },
  {
   "cell_type": "code",
   "execution_count": 35,
   "metadata": {},
   "outputs": [
    {
     "ename": "KeyboardInterrupt",
     "evalue": "",
     "output_type": "error",
     "traceback": [
      "\u001b[0;31m---------------------------------------------------------------------------\u001b[0m",
      "\u001b[0;31mKeyboardInterrupt\u001b[0m                         Traceback (most recent call last)",
      "Cell \u001b[0;32mIn[35], line 5\u001b[0m\n\u001b[1;32m      3\u001b[0m \u001b[38;5;28;01mfor\u001b[39;00m i \u001b[38;5;129;01min\u001b[39;00m \u001b[38;5;28mrange\u001b[39m(\u001b[38;5;241m10000\u001b[39m):\n\u001b[1;32m      4\u001b[0m     forces\u001b[38;5;241m.\u001b[39mappend(loadcell\u001b[38;5;241m.\u001b[39mread()[\u001b[38;5;124m'\u001b[39m\u001b[38;5;124mloadcell\u001b[39m\u001b[38;5;124m'\u001b[39m])\n\u001b[0;32m----> 5\u001b[0m     \u001b[43mtime\u001b[49m\u001b[38;5;241;43m.\u001b[39;49m\u001b[43msleep\u001b[49m\u001b[43m(\u001b[49m\u001b[38;5;241;43m0.01\u001b[39;49m\u001b[43m)\u001b[49m\n",
      "\u001b[0;31mKeyboardInterrupt\u001b[0m: "
     ]
    }
   ],
   "source": [
    "import time\n",
    "forces = []\n",
    "for i in range(10000):\n",
    "    forces.append(loadcell.read()['loadcell'])\n",
    "    time.sleep(0.01)"
   ]
  },
  {
   "cell_type": "code",
   "execution_count": 38,
   "metadata": {},
   "outputs": [
    {
     "data": {
      "text/plain": [
       "[<matplotlib.lines.Line2D at 0x7f4cdcbc8e80>]"
      ]
     },
     "execution_count": 38,
     "metadata": {},
     "output_type": "execute_result"
    }
   ],
   "source": [
    "%matplotlib\n",
    "import matplotlib.pyplot as plt\n",
    "plt.plot(forces)\n",
    "plt.grid(True)"
   ]
  },
  {
   "cell_type": "markdown",
   "metadata": {},
   "source": [
    "# Calibration if Needed"
   ]
  },
  {
   "cell_type": "code",
   "execution_count": null,
   "metadata": {},
   "outputs": [],
   "source": [
    "g = 9.81\n",
    "mapping = np.array([\n",
    "    [1*g, 30450.002791155868],\n",
    "    [0.5*g, 14531.296401515152],\n",
    "    [0.2*g, 6252.21525],\n",
    "    [0.1*g, 2535.88125],\n",
    "    [0.4*g, 11333.59525],\n",
    "])"
   ]
  },
  {
   "cell_type": "code",
   "execution_count": null,
   "metadata": {},
   "outputs": [],
   "source": [
    "p = np.polyfit(mapping[:,1], mapping[:,0],1)\n",
    "p"
   ]
  },
  {
   "cell_type": "code",
   "execution_count": null,
   "metadata": {},
   "outputs": [],
   "source": [
    "mapping[0,1]*p[0]+p[1]"
   ]
  }
 ],
 "metadata": {
  "kernelspec": {
   "display_name": "Python 3",
   "language": "python",
   "name": "python3"
  },
  "language_info": {
   "codemirror_mode": {
    "name": "ipython",
    "version": 3
   },
   "file_extension": ".py",
   "mimetype": "text/x-python",
   "name": "python",
   "nbconvert_exporter": "python",
   "pygments_lexer": "ipython3",
   "version": "3.8.10"
  }
 },
 "nbformat": 4,
 "nbformat_minor": 2
}
