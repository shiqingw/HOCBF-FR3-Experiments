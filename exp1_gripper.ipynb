{
 "cells": [
  {
   "cell_type": "code",
   "execution_count": 1,
   "metadata": {},
   "outputs": [
    {
     "name": "stdout",
     "output_type": "stream",
     "text": [
      "Interface Running...\n"
     ]
    }
   ],
   "source": [
    "%load_ext autoreload\n",
    "%autoreload 2\n",
    "import sys \n",
    "from FR3Py.robot.interface import FR3Real\n",
    "robot = FR3Real(robot_id='fr3')"
   ]
  },
  {
   "cell_type": "code",
   "execution_count": 2,
   "metadata": {},
   "outputs": [
    {
     "data": {
      "text/plain": [
       "{'q': array([ 4.07986881e-04, -7.84696648e-01,  2.78832877e-03, -2.40316764e+00,\n",
       "        -7.42151590e-04,  1.57108430e+00,  7.85215099e-01]),\n",
       " 'dq': array([ 0.00105764, -0.00015227, -0.00078275, -0.00087853, -0.00100532,\n",
       "         0.0005334 , -0.00095237]),\n",
       " 'T': array([-0.15939641, -4.32183981, -0.8747772 , 23.19888687,  0.92668378,\n",
       "         2.02237678,  0.10119084]),\n",
       " 'M': array([[ 4.86199834e-01, -1.07559171e-02,  4.69842209e-01,\n",
       "         -1.23797547e-02,  5.51352120e-02, -3.92082168e-03,\n",
       "          1.57539052e-03],\n",
       "        [-1.07559171e-02,  1.47155905e+00,  4.88168152e-03,\n",
       "         -6.57659103e-01, -1.32654179e-02, -2.22923886e-02,\n",
       "         -6.73915080e-04],\n",
       "        [ 4.69842209e-01,  4.88168152e-03,  9.33307346e-01,\n",
       "         -2.81468415e-02,  6.52139958e-02, -4.57208642e-03,\n",
       "          3.37942430e-03],\n",
       "        [-1.23797547e-02, -6.57659103e-01, -2.81468415e-02,\n",
       "          9.51046786e-01,  2.77296882e-02,  1.06074292e-01,\n",
       "          3.14725151e-04],\n",
       "        [ 5.51352120e-02, -1.32654179e-02,  6.52139958e-02,\n",
       "          2.77296882e-02,  1.99362566e-02,  2.74448935e-03,\n",
       "          7.42970361e-04],\n",
       "        [-3.92082168e-03, -2.22923886e-02, -4.57208642e-03,\n",
       "          1.06074292e-01,  2.74448935e-03,  3.48694668e-02,\n",
       "          2.10647018e-04],\n",
       "        [ 1.57539052e-03, -6.73915080e-04,  3.37942430e-03,\n",
       "          3.14725151e-04,  7.42970361e-04,  2.10647018e-04,\n",
       "          1.89682822e-03]]),\n",
       " 'G': array([ 9.32413868e-18, -3.96499745e+00, -6.87851591e-01,  2.26453328e+01,\n",
       "         7.89703159e-01,  2.08200346e+00,  3.01276571e-04]),\n",
       " 'C': array([ 5.45585741e-07,  7.42434383e-07,  7.59167583e-07, -5.34682695e-07,\n",
       "         5.99702285e-08, -4.64031743e-08,  1.96414499e-09])}"
      ]
     },
     "execution_count": 2,
     "metadata": {},
     "output_type": "execute_result"
    }
   ],
   "source": [
    "robot.getJointStates()"
   ]
  },
  {
   "cell_type": "code",
   "execution_count": 3,
   "metadata": {},
   "outputs": [],
   "source": [
    "from fr3_gripper import Gripper, GripperState"
   ]
  },
  {
   "cell_type": "code",
   "execution_count": 4,
   "metadata": {},
   "outputs": [],
   "source": [
    "gripper = Gripper(\"192.168.123.250\")\n",
    "gripper.homing()"
   ]
  },
  {
   "cell_type": "code",
   "execution_count": 9,
   "metadata": {},
   "outputs": [
    {
     "name": "stdout",
     "output_type": "stream",
     "text": [
      "{'width': 0.04927889257669449, 'max_width': 0.08007130771875381, 'is_grasped': True, 'temperature': 48, 'time (ms)': 3302}\n"
     ]
    },
    {
     "data": {
      "text/plain": [
       "True"
      ]
     },
     "execution_count": 9,
     "metadata": {},
     "output_type": "execute_result"
    }
   ],
   "source": [
    "\n",
    "# # reads the gripper state\n",
    "gripper_state = gripper.readOnce()\n",
    "print(gripper_state)\n",
    "\n",
    "# moves the gripper to a specific width \n",
    "# with a specified speed\n",
    "gripper_width = 0.08\n",
    "speed = 0.05\n",
    "gripper.move(gripper_width, speed)"
   ]
  },
  {
   "cell_type": "code",
   "execution_count": 8,
   "metadata": {},
   "outputs": [
    {
     "data": {
      "text/plain": [
       "True"
      ]
     },
     "execution_count": 8,
     "metadata": {},
     "output_type": "execute_result"
    }
   ],
   "source": [
    "gripper_width = 0.04  # m\n",
    "speed = 0.05  # m / s\n",
    "force = 10  # N\n",
    "epsilon_inner = 0.01  # m\n",
    "epsilon_outer = 0.01  # m\n",
    "gripper.grasp(gripper_width, speed, force, epsilon_inner, epsilon_outer)"
   ]
  }
 ],
 "metadata": {
  "kernelspec": {
   "display_name": "base",
   "language": "python",
   "name": "python3"
  },
  "language_info": {
   "codemirror_mode": {
    "name": "ipython",
    "version": 3
   },
   "file_extension": ".py",
   "mimetype": "text/x-python",
   "name": "python",
   "nbconvert_exporter": "python",
   "pygments_lexer": "ipython3",
   "version": "3.11.0"
  }
 },
 "nbformat": 4,
 "nbformat_minor": 2
}
