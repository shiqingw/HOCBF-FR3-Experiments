{
 "cells": [
  {
   "cell_type": "markdown",
   "metadata": {},
   "source": [
    "## 1. Set up communication with the FR3"
   ]
  },
  {
   "cell_type": "markdown",
   "metadata": {},
   "source": [
    "### 1.1 Set up communication with the arm"
   ]
  },
  {
   "cell_type": "code",
   "execution_count": 1,
   "metadata": {},
   "outputs": [
    {
     "name": "stdout",
     "output_type": "stream",
     "text": [
      "Interface Running...\n"
     ]
    }
   ],
   "source": [
    "%load_ext autoreload\n",
    "%autoreload 2\n",
    "import time\n",
    "from FR3Py.robot.interface import FR3Real\n",
    "robot = FR3Real(robot_id='fr3')"
   ]
  },
  {
   "cell_type": "code",
   "execution_count": 2,
   "metadata": {},
   "outputs": [],
   "source": [
    "# Print the arm state\n",
    "robot.getJointStates()"
   ]
  },
  {
   "cell_type": "markdown",
   "metadata": {},
   "source": [
    "### 1.2 Set up communication with the gripper"
   ]
  },
  {
   "cell_type": "code",
   "execution_count": null,
   "metadata": {},
   "outputs": [],
   "source": [
    "# from fr3_gripper import Gripper, GripperState\n",
    "# gripper = Gripper(\"192.168.123.250\")\n",
    "\n",
    "# Initialize the gripper\n",
    "# gripper.homing()\n",
    "\n",
    "# # Print the gripper state\n",
    "# gripper_state = gripper.readOnce()\n",
    "# print(gripper_state)"
   ]
  },
  {
   "cell_type": "markdown",
   "metadata": {},
   "source": [
    "## 2. Define robot task parameters"
   ]
  },
  {
   "cell_type": "markdown",
   "metadata": {},
   "source": [
    "### 2.1 Load PinocchioModel and define various parameters"
   ]
  },
  {
   "cell_type": "code",
   "execution_count": 3,
   "metadata": {},
   "outputs": [],
   "source": [
    "import numpy as np\n",
    "from FR3Py.robot.model_collision_avoidance import PinocchioModel\n",
    "import time\n",
    "\n",
    "pin_robot = PinocchioModel()\n",
    "joint_lb = np.array([-2.3093, -1.5133, -2.4937, -2.7478, -2.48, 0.8521, -2.6895])\n",
    "joint_ub = np.array([2.3093, 1.5133, 2.4937, -0.4461, 2.48, 4.2094, 2.6895])\n",
    "torque_lb = np.array([-87, -87, -87, -87, -12, -12, -12])\n",
    "torque_ub = np.array([87, 87, 87, 87, 12, 12, 12])\n",
    "joint_acc_lb = np.array([-10, -10, -10, -10, -10, -10, -10])\n",
    "joint_acc_ub = np.array([10, 10, 10, 10, 10, 10, 10])\n",
    "v_EE_lb = np.array([-0.1, -0.1, -0.1])\n",
    "v_EE_ub = np.array([0.1, 0.1, 0.1])\n",
    "static_friction = np.array([0.8, 2.35, 0.5, 2.35, 1.3, 1.0, 0.5])\n",
    "\n",
    "n_joints = 7\n",
    "n_controls = 7\n",
    "q_bar = 0.5*(joint_ub + joint_lb)\n",
    "delta_M = np.diag([0.2, 0.25, 0.25, 0.25, 0.25, 0.25, 0.2])"
   ]
  },
  {
   "cell_type": "markdown",
   "metadata": {},
   "source": [
    "## 3. Load/measure some coordinates"
   ]
  },
  {
   "cell_type": "markdown",
   "metadata": {},
   "source": [
    "### 3.1 Measure the corners"
   ]
  },
  {
   "cell_type": "code",
   "execution_count": 5,
   "metadata": {},
   "outputs": [],
   "source": [
    "# corner_1         corner_2\n",
    "#     -----------------\n",
    "#     |               |\n",
    "#     |               | \n",
    "#     |               |\n",
    "#     |               |\n",
    "#     |               |\n",
    "#     |               |   x Robot base\n",
    "#     -----------------\n",
    "# corner_4         corner_3\n",
    "# *** corner_1 is out of reach of the robot"
   ]
  },
  {
   "cell_type": "code",
   "execution_count": 42,
   "metadata": {},
   "outputs": [
    {
     "name": "stdout",
     "output_type": "stream",
     "text": [
      "corner_2:  [0.61486314 0.26944065]\n"
     ]
    }
   ],
   "source": [
    "# Measure corner_2\n",
    "corner_2_mes = []\n",
    "for i in range(20):\n",
    "    robot_info = robot.getJointStates()\n",
    "    q = robot_info['q'] # shape (7,)\n",
    "    dq = robot_info['dq'] # shape (7,)\n",
    "\n",
    "    q_pin = 0.30*np.ones(9)\n",
    "    dq_pin = np.zeros(9)\n",
    "    q_pin[0:n_joints] = q # shape (9,)\n",
    "    dq_pin[0:n_joints] = dq # shape (9,)\n",
    "\n",
    "    pin_info = pin_robot.getInfo(q_pin, dq_pin)\n",
    "    P_EE = pin_info[\"P_EE\"]\n",
    "\n",
    "    corner_2_mes.append(P_EE.copy())\n",
    "    time.sleep(0.1)\n",
    "\n",
    "corner_2_mes = np.array(corner_2_mes)\n",
    "corner_2 = np.mean(corner_2_mes, axis=0)[:2]\n",
    "print(\"corner_2: \", corner_2)"
   ]
  },
  {
   "cell_type": "code",
   "execution_count": 44,
   "metadata": {},
   "outputs": [
    {
     "name": "stdout",
     "output_type": "stream",
     "text": [
      "corner_3:  [-0.24312932  0.28365992]\n"
     ]
    }
   ],
   "source": [
    "# Measure corner_3\n",
    "corner_3_mes = []\n",
    "for i in range(20):\n",
    "    robot_info = robot.getJointStates()\n",
    "    q = robot_info['q'] # shape (7,)\n",
    "    dq = robot_info['dq'] # shape (7,)\n",
    "\n",
    "    q_pin = 0.30*np.ones(9)\n",
    "    dq_pin = np.zeros(9)\n",
    "    q_pin[0:n_joints] = q # shape (9,)\n",
    "    dq_pin[0:n_joints] = dq # shape (9,)\n",
    "\n",
    "    pin_info = pin_robot.getInfo(q_pin, dq_pin)\n",
    "    P_EE = pin_info[\"P_EE\"]\n",
    "\n",
    "    corner_3_mes.append(P_EE.copy())\n",
    "    time.sleep(0.1)\n",
    "\n",
    "corner_3_mes = np.array(corner_3_mes)\n",
    "corner_3 = np.mean(corner_3_mes, axis=0)[:2]\n",
    "print(\"corner_3: \", corner_3)"
   ]
  },
  {
   "cell_type": "code",
   "execution_count": 45,
   "metadata": {},
   "outputs": [
    {
     "name": "stdout",
     "output_type": "stream",
     "text": [
      "corner_4:  [-0.23795498  0.82884581]\n"
     ]
    }
   ],
   "source": [
    "# Measure corner_4\n",
    "corner_4_mes = []\n",
    "for i in range(20):\n",
    "    robot_info = robot.getJointStates()\n",
    "    q = robot_info['q'] # shape (7,)\n",
    "    dq = robot_info['dq'] # shape (7,)\n",
    "\n",
    "    q_pin = 0.30*np.ones(9)\n",
    "    dq_pin = np.zeros(9)\n",
    "    q_pin[0:n_joints] = q # shape (9,)\n",
    "    dq_pin[0:n_joints] = dq # shape (9,)\n",
    "\n",
    "    pin_info = pin_robot.getInfo(q_pin, dq_pin)\n",
    "    P_EE = pin_info[\"P_EE\"]\n",
    "\n",
    "    corner_4_mes.append(P_EE.copy())\n",
    "    time.sleep(0.1)\n",
    "\n",
    "corner_4_mes = np.array(corner_4_mes)\n",
    "corner_4 = np.mean(corner_4_mes, axis=0)[:2]\n",
    "print(\"corner_4: \", corner_4)"
   ]
  },
  {
   "cell_type": "code",
   "execution_count": 58,
   "metadata": {},
   "outputs": [
    {
     "name": "stdout",
     "output_type": "stream",
     "text": [
      "corner_1:  [0.62003748 0.81462653]\n"
     ]
    }
   ],
   "source": [
    "# Calculate corner_1 (ignore the z coordinate)\n",
    "corner_1 = corner_2 + corner_4 - corner_3\n",
    "print(\"corner_1: \", corner_1)"
   ]
  },
  {
   "cell_type": "markdown",
   "metadata": {},
   "source": [
    "### 3.2 Measure the polygon vertices"
   ]
  },
  {
   "cell_type": "code",
   "execution_count": 88,
   "metadata": {},
   "outputs": [
    {
     "name": "stdout",
     "output_type": "stream",
     "text": [
      "vertex_1:  [0.30743286 0.59065426]\n"
     ]
    }
   ],
   "source": [
    "# Measure vertex_1\n",
    "vertex_1_mes = []\n",
    "for i in range(20):\n",
    "    robot_info = robot.getJointStates()\n",
    "    q = robot_info['q'] # shape (7,)\n",
    "    dq = robot_info['dq'] # shape (7,)\n",
    "\n",
    "    q_pin = 0.30*np.ones(9)\n",
    "    dq_pin = np.zeros(9)\n",
    "    q_pin[0:n_joints] = q # shape (9,)\n",
    "    dq_pin[0:n_joints] = dq # shape (9,)\n",
    "\n",
    "    pin_info = pin_robot.getInfo(q_pin, dq_pin)\n",
    "    P_EE = pin_info[\"P_EE\"]\n",
    "\n",
    "    vertex_1_mes.append(P_EE.copy())\n",
    "    time.sleep(0.1)\n",
    "\n",
    "vertex_1_mes = np.array(vertex_1_mes)\n",
    "vertex_1 = np.mean(vertex_1_mes, axis=0)[:2]\n",
    "print(\"vertex_1: \", vertex_1)"
   ]
  },
  {
   "cell_type": "code",
   "execution_count": 84,
   "metadata": {},
   "outputs": [
    {
     "name": "stdout",
     "output_type": "stream",
     "text": [
      "vertex_2:  [0.31173321 0.27875121]\n"
     ]
    }
   ],
   "source": [
    "# Measure vertex_2\n",
    "vertex_2_mes = []\n",
    "for i in range(20):\n",
    "    robot_info = robot.getJointStates()\n",
    "    q = robot_info['q'] # shape (7,)\n",
    "    dq = robot_info['dq'] # shape (7,)\n",
    "\n",
    "    q_pin = 0.30*np.ones(9)\n",
    "    dq_pin = np.zeros(9)\n",
    "    q_pin[0:n_joints] = q # shape (9,)\n",
    "    dq_pin[0:n_joints] = dq # shape (9,)\n",
    "\n",
    "    pin_info = pin_robot.getInfo(q_pin, dq_pin)\n",
    "    P_EE = pin_info[\"P_EE\"]\n",
    "\n",
    "    vertex_2_mes.append(P_EE.copy())\n",
    "    time.sleep(0.1)\n",
    "\n",
    "vertex_2_mes = np.array(vertex_2_mes)\n",
    "vertex_2 = np.mean(vertex_2_mes, axis=0)[:2]\n",
    "print(\"vertex_2: \", vertex_2)"
   ]
  },
  {
   "cell_type": "code",
   "execution_count": 85,
   "metadata": {},
   "outputs": [
    {
     "name": "stdout",
     "output_type": "stream",
     "text": [
      "vertex_3:  [0.08136865 0.27995354]\n"
     ]
    }
   ],
   "source": [
    "# Measure vertex_3\n",
    "vertex_3_mes = []\n",
    "for i in range(20):\n",
    "    robot_info = robot.getJointStates()\n",
    "    q = robot_info['q'] # shape (7,)\n",
    "    dq = robot_info['dq'] # shape (7,)\n",
    "\n",
    "    q_pin = 0.30*np.ones(9)\n",
    "    dq_pin = np.zeros(9)\n",
    "    q_pin[0:n_joints] = q # shape (9,)\n",
    "    dq_pin[0:n_joints] = dq # shape (9,)\n",
    "\n",
    "    pin_info = pin_robot.getInfo(q_pin, dq_pin)\n",
    "    P_EE = pin_info[\"P_EE\"]\n",
    "\n",
    "    vertex_3_mes.append(P_EE.copy())\n",
    "    time.sleep(0.1)\n",
    "\n",
    "vertex_3_mes = np.array(vertex_3_mes)\n",
    "vertex_3 = np.mean(vertex_3_mes, axis=0)[:2]\n",
    "print(\"vertex_3: \", vertex_3)"
   ]
  },
  {
   "cell_type": "code",
   "execution_count": 86,
   "metadata": {},
   "outputs": [
    {
     "name": "stdout",
     "output_type": "stream",
     "text": [
      "vertex_4:  [0.07530274 0.5910794 ]\n"
     ]
    }
   ],
   "source": [
    "# Measure vertex_4\n",
    "vertex_4_mes = []\n",
    "for i in range(20):\n",
    "    robot_info = robot.getJointStates()\n",
    "    q = robot_info['q'] # shape (7,)\n",
    "    dq = robot_info['dq'] # shape (7,)\n",
    "\n",
    "    q_pin = 0.30*np.ones(9)\n",
    "    dq_pin = np.zeros(9)\n",
    "    q_pin[0:n_joints] = q # shape (9,)\n",
    "    dq_pin[0:n_joints] = dq # shape (9,)\n",
    "\n",
    "    pin_info = pin_robot.getInfo(q_pin, dq_pin)\n",
    "    P_EE = pin_info[\"P_EE\"]\n",
    "\n",
    "    vertex_4_mes.append(P_EE.copy())\n",
    "    time.sleep(0.1)\n",
    "\n",
    "vertex_4_mes = np.array(vertex_4_mes)\n",
    "vertex_4 = np.mean(vertex_4_mes, axis=0)[:2]\n",
    "print(\"vertex_4: \", vertex_4)"
   ]
  },
  {
   "cell_type": "markdown",
   "metadata": {},
   "source": [
    "### 3.3 Save the measured coordinates"
   ]
  },
  {
   "cell_type": "code",
   "execution_count": 13,
   "metadata": {},
   "outputs": [],
   "source": [
    "# Save the corners in a json file\n",
    "import json\n",
    "corners = {\"corner_1\": corner_1.tolist(),\n",
    "           \"corner_2\": corner_2.tolist(),\n",
    "           \"corner_3\": corner_3.tolist(),\n",
    "           \"corner_4\": corner_4.tolist(),\n",
    "           \"vertex_1\": vertex_1.tolist(),\n",
    "           \"vertex_2\": vertex_2.tolist(),\n",
    "           \"vertex_3\": vertex_3.tolist(),\n",
    "           \"vertex_4\": vertex_4.tolist()\n",
    "           }\n",
    "with open(\"exp2_coordinates.json\", \"w\") as f:\n",
    "    json.dump(corners, f, indent=4)"
   ]
  },
  {
   "cell_type": "markdown",
   "metadata": {},
   "source": [
    "### 3.4 Directly load the pre-saved corners"
   ]
  },
  {
   "cell_type": "code",
   "execution_count": 4,
   "metadata": {},
   "outputs": [],
   "source": [
    "import json\n",
    "with open(\"exp2_coordinates.json\", \"r\") as f:\n",
    "    coordinates = json.load(f)\n",
    "    corner_1 = np.array(coordinates[\"corner_1\"])\n",
    "    corner_2 = np.array(coordinates[\"corner_2\"])\n",
    "    corner_3 = np.array(coordinates[\"corner_3\"])\n",
    "    corner_4 = np.array(coordinates[\"corner_4\"])\n",
    "    vertex_1 = np.array(coordinates[\"vertex_1\"])\n",
    "    vertex_2 = np.array(coordinates[\"vertex_2\"])\n",
    "    vertex_3 = np.array(coordinates[\"vertex_3\"])\n",
    "    vertex_4 = np.array(coordinates[\"vertex_4\"])"
   ]
  },
  {
   "cell_type": "markdown",
   "metadata": {},
   "source": [
    "### 3.5 Visualize the coordinates"
   ]
  },
  {
   "cell_type": "code",
   "execution_count": 5,
   "metadata": {},
   "outputs": [
    {
     "data": {
      "text/plain": [
       "(0.856816067701903,\n",
       " 0.24147038763965387,\n",
       " -0.2862876548138651,\n",
       " 0.6631958200080065)"
      ]
     },
     "execution_count": 5,
     "metadata": {},
     "output_type": "execute_result"
    },
    {
     "data": {
      "image/png": "[encoded data removed]",
      "text/plain": [
       "<Figure size 640x480 with 1 Axes>"
      ]
     },
     "metadata": {},
     "output_type": "display_data"
    }
   ],
   "source": [
    "import matplotlib.pyplot as plt\n",
    "\n",
    "fig = plt.figure()\n",
    "\n",
    "plt.plot(corner_1[1], corner_1[0], 'o')\n",
    "plt.text(corner_1[1], corner_1[0], 'corner_1')\n",
    "\n",
    "plt.plot(corner_2[1], corner_2[0], 'o')\n",
    "plt.text(corner_2[1], corner_2[0], 'corner_2')\n",
    "\n",
    "plt.plot(corner_3[1], corner_3[0], 'o')\n",
    "plt.text(corner_3[1], corner_3[0], 'corner_3')\n",
    "\n",
    "plt.plot(corner_4[1], corner_4[0], 'o')\n",
    "plt.text(corner_4[1], corner_4[0], 'corner_4')\n",
    "\n",
    "plt.plot(vertex_1[1], vertex_1[0], 'o')\n",
    "plt.text(vertex_1[1], vertex_1[0], 'vertex_1')\n",
    "\n",
    "plt.plot(vertex_2[1], vertex_2[0], 'o')\n",
    "plt.text(vertex_2[1], vertex_2[0], 'vertex_2')\n",
    "\n",
    "plt.plot(vertex_3[1], vertex_3[0], 'o')\n",
    "plt.text(vertex_3[1], vertex_3[0], 'vertex_3')\n",
    "\n",
    "plt.plot(vertex_4[1], vertex_4[0], 'o')\n",
    "plt.text(vertex_4[1], vertex_4[0], 'vertex_4')\n",
    "\n",
    "# Invert the x-axis (make it go left)\n",
    "plt.gca().invert_xaxis()\n",
    "plt.xlabel('y')\n",
    "plt.ylabel('x')\n",
    "plt.axis('equal')\n",
    "\n",
    "# "
   ]
  },
  {
   "cell_type": "markdown",
   "metadata": {},
   "source": [
    "## 4. Define Obstacles and CBFs"
   ]
  },
  {
   "cell_type": "code",
   "execution_count": 6,
   "metadata": {},
   "outputs": [],
   "source": [
    "# Obstacle parameters\n",
    "obstacle_config = {\n",
    "    \"obs1\":{\n",
    "        \"type\": \"polytope2d\",\n",
    "        \"vertices\": [vertex_1.tolist(), vertex_2.tolist(), vertex_3.tolist(), vertex_4.tolist()],\n",
    "        \"pos\": [0.0, 0.0],\n",
    "        \"theta\": 0.0\n",
    "    }\n",
    "}\n",
    "\n",
    "# corners\n",
    "corners_2d = np.array([corner_1, corner_2, corner_3, corner_4])"
   ]
  },
  {
   "cell_type": "code",
   "execution_count": 7,
   "metadata": {},
   "outputs": [
    {
     "name": "stderr",
     "output_type": "stream",
     "text": [
      "/workspaces/HOCBF-FR3-Experiments/cores/utils/utils.py:101: ClusterWarning: scipy.cluster: The symmetric non-negative hollow observation matrix looks suspiciously like an uncondensed distance matrix\n",
      "  Z = linkage(dist_matrix, method='single')\n",
      "/workspaces/HOCBF-FR3-Experiments/cores/obstacle_collections/polytope_collection.py:13: ClusterWarning: scipy.cluster: The symmetric non-negative hollow observation matrix looks suspiciously like an uncondensed distance matrix\n",
      "  Z = linkage(dist_matrix, method='single')\n"
     ]
    }
   ],
   "source": [
    "from cores.utils.bounding_shape_coef_mj import BoundingShapeCoef\n",
    "from cores.obstacle_collections.polytope_collection import PolytopeCollection\n",
    "import scalingFunctionsHelperPy as sfh\n",
    "import HOCBFHelperPy as hh\n",
    "from scipy.spatial.transform import Rotation\n",
    "import multiprocessing\n",
    "from liegroups import SO3\n",
    "from cores.utils.proxsuite_utils import init_proxsuite_qp\n",
    "from cores.utils.rotation_utils import get_quat_from_rot_matrix\n",
    "from cores.utils.utils import get_facial_equations\n",
    "\n",
    "# Robot part\n",
    "robot_SFs = []\n",
    "eraser_bb_size_2d = np.array([0.088, 0.035])\n",
    "ellipsoid_quadratic_coef_2d = np.diag(1/eraser_bb_size_2d**2)\n",
    "SF_rob = sfh.Ellipsoid2d(True, ellipsoid_quadratic_coef_2d, np.zeros(2))\n",
    "robot_SFs.append(SF_rob)\n",
    "\n",
    "# Hyperplane\n",
    "hyperplane_SFs = []\n",
    "A_tmp, b_tmp = get_facial_equations(corners_2d) # need to inverse the sign\n",
    "for i in range(A_tmp.shape[0]):\n",
    "    hyperplane_SFs.append(sfh.Hyperplane2d(False, -A_tmp[i], -b_tmp[i]))\n",
    "n_hyperplane = len(hyperplane_SFs)\n",
    "\n",
    "# Polytopes\n",
    "n_polytope = len(obstacle_config)\n",
    "obs_col = PolytopeCollection(2, n_polytope, obstacle_config)\n",
    "obstacle_kappa = 80.0\n",
    "polytope_SFs = []\n",
    "for (i, obs_key) in enumerate(obs_col.face_equations.keys()):\n",
    "    A_obs_np = obs_col.face_equations[obs_key][\"A\"]\n",
    "    b_obs_np = obs_col.face_equations[obs_key][\"b\"]\n",
    "    obs_kappa = obstacle_kappa\n",
    "    SF_obs = sfh.LogSumExp2d(False, A_obs_np, b_obs_np, obs_kappa)\n",
    "    polytope_SFs.append(SF_obs)\n",
    "\n",
    "# Define problems\n",
    "n_threads = max(multiprocessing.cpu_count() -1, 1)\n",
    "probs = hh.Problem2dCollection(n_threads)\n",
    "\n",
    "for i in range(len(robot_SFs)):\n",
    "    SF_rob = robot_SFs[i]\n",
    "    frame_id = i\n",
    "    for (j, obs_key) in enumerate(obs_col.face_equations.keys()):\n",
    "        SF_obs = polytope_SFs[j]\n",
    "        vertices = obs_col.face_equations[obs_key][\"vertices_in_world\"]\n",
    "        prob = hh.EllipsoidAndLogSumExp2dPrb(SF_rob, SF_obs, vertices)\n",
    "        probs.addProblem(prob, frame_id)\n",
    "\n",
    "    for j in range(len(hyperplane_SFs)):\n",
    "        SF_obs = hyperplane_SFs[j]\n",
    "        prob = hh.EllipsoidAndHyperplane2dPrb(SF_rob, SF_obs)\n",
    "        probs.addProblem(prob, frame_id)\n"
   ]
  },
  {
   "cell_type": "markdown",
   "metadata": {},
   "source": [
    "## 5. Control the arm to pre-cleaning pose"
   ]
  },
  {
   "cell_type": "code",
   "execution_count": 45,
   "metadata": {},
   "outputs": [],
   "source": [
    "# Define tracking gains\n",
    "K_p_pos = np.diag([100,100,100])*0.9\n",
    "K_d_pos = np.diag([50,50,50])*0.5\n",
    "\n",
    "K_p_rot = np.diag([200,200,200])*1.8\n",
    "K_d_rot = np.diag([100,100,100])*0.4\n",
    "\n",
    "Kp_joint = 20*np.diag([1, 1, 1, 1, 1, 1, 1])\n",
    "Kd_joint = 10*np.diag([1, 1, 1, 1, 1, 1, 1])"
   ]
  },
  {
   "cell_type": "code",
   "execution_count": 8,
   "metadata": {},
   "outputs": [
    {
     "ename": "TypeError",
     "evalue": "'NoneType' object is not subscriptable",
     "output_type": "error",
     "traceback": [
      "\u001b[0;31m---------------------------------------------------------------------------\u001b[0m",
      "\u001b[0;31mTypeError\u001b[0m                                 Traceback (most recent call last)",
      "Cell \u001b[0;32mIn[8], line 6\u001b[0m\n\u001b[1;32m      4\u001b[0m \u001b[38;5;66;03m# Get current pose\u001b[39;00m\n\u001b[1;32m      5\u001b[0m robot_info \u001b[38;5;241m=\u001b[39m robot\u001b[38;5;241m.\u001b[39mgetJointStates()\n\u001b[0;32m----> 6\u001b[0m q \u001b[38;5;241m=\u001b[39m \u001b[43mrobot_info\u001b[49m\u001b[43m[\u001b[49m\u001b[38;5;124;43m'\u001b[39;49m\u001b[38;5;124;43mq\u001b[39;49m\u001b[38;5;124;43m'\u001b[39;49m\u001b[43m]\u001b[49m \u001b[38;5;66;03m# shape (7,)\u001b[39;00m\n\u001b[1;32m      7\u001b[0m dq \u001b[38;5;241m=\u001b[39m robot_info[\u001b[38;5;124m'\u001b[39m\u001b[38;5;124mdq\u001b[39m\u001b[38;5;124m'\u001b[39m] \u001b[38;5;66;03m# shape (7,)\u001b[39;00m\n\u001b[1;32m      9\u001b[0m q_pin \u001b[38;5;241m=\u001b[39m \u001b[38;5;241m0.30\u001b[39m\u001b[38;5;241m*\u001b[39mnp\u001b[38;5;241m.\u001b[39mones(\u001b[38;5;241m9\u001b[39m)\n",
      "\u001b[0;31mTypeError\u001b[0m: 'NoneType' object is not subscriptable"
     ]
    }
   ],
   "source": [
    "from cores.utils.trajectory_utils import PositionTrapezoidalTrajectory, OrientationTrapezoidalTrajectory\n",
    "t_final = 6\n",
    "\n",
    "# Get current pose\n",
    "robot_info = robot.getJointStates()\n",
    "q = robot_info['q'] # shape (7,)\n",
    "dq = robot_info['dq'] # shape (7,)\n",
    "\n",
    "q_pin = 0.30*np.ones(9)\n",
    "dq_pin = np.zeros(9)\n",
    "q_pin[0:n_joints] = q # shape (9,)\n",
    "dq_pin[0:n_joints] = dq # shape (9,)\n",
    "\n",
    "pin_info = pin_robot.getInfo(q_pin, dq_pin)\n",
    "P_EE = pin_info[\"P_EE\"]\n",
    "R_EE = pin_info[\"R_EE\"]\n",
    "\n",
    "# Translational trajectory\n",
    "P_EE_start = P_EE.copy()\n",
    "P_EE_pre_cleaning = np.array([0.50, 0.5, 0.02])\n",
    "\n",
    "via_points = np.array([P_EE_start, P_EE_pre_cleaning])\n",
    "target_time = np.array([0, t_final])\n",
    "Ts = 0.01\n",
    "traj_position = PositionTrapezoidalTrajectory(via_points, target_time, T_antp=0.2, Ts=Ts)\n",
    "\n",
    "# Rotational trajectory\n",
    "R_EE_start  = R_EE.copy()\n",
    "\n",
    "roll = np.pi\n",
    "pitch = 0\n",
    "yaw = 0\n",
    "R_EE_pre_grasping = Rotation.from_euler('xyz', [roll, pitch, yaw]).as_matrix()\n",
    "\n",
    "orientations = np.array([R_EE_start, R_EE_pre_grasping])\n",
    "target_time = np.array([0, t_final])\n",
    "traj_orientation = OrientationTrapezoidalTrajectory(orientations, target_time, Ts=Ts)\n",
    "\n",
    "t_start = time.time()\n",
    "while time.time() - t_start < t_final + 1:\n",
    "    t_loop_start = time.time()\n",
    "    t = time.time() - t_start\n",
    "    traj_pos, traj_pos_dt, traj_pos_dtdt = traj_position.get_traj_and_ders(t)\n",
    "    traj_ori, traj_ori_dt, traj_ori_dtdt = traj_orientation.get_traj_and_ders(t)\n",
    "\n",
    "    robot_info = robot.getJointStates()\n",
    "    q = robot_info['q'] # shape (7,)\n",
    "    dq = robot_info['dq'] # shape (7,)\n",
    "    M = robot_info['M'] + delta_M # shape (7,7)\n",
    "    G = robot_info['G'] # shape (7,)\n",
    "    Coriolis = robot_info['C'] # shape (7,)\n",
    "\n",
    "    q_pin = 0.025*np.ones(9)\n",
    "    dq_pin = np.zeros(9)\n",
    "    q_pin[0:n_joints] = q # shape (9,)\n",
    "    dq_pin[0:n_joints] = dq # shape (9,)\n",
    "\n",
    "    pin_info = pin_robot.getInfo(q_pin, dq_pin)\n",
    "\n",
    "    P_EE = pin_info[\"P_EE\"]\n",
    "    R_EE = pin_info[\"R_EE\"]\n",
    "    J_EE = pin_info[\"J_EE\"][:,0:n_joints] # shape (6,7)\n",
    "    dJdq_EE = pin_info[\"dJdq_EE\"] # shape (6,)\n",
    "    v_EE = J_EE @ dq # shape (6,)2\n",
    "\n",
    "    # Primary obejctive: tracking control\n",
    "    e_pos = P_EE - traj_pos # shape (3,)\n",
    "    e_pos_dt = v_EE[:3] - traj_pos_dt # shape (3,)\n",
    "    v_dt = traj_pos_dtdt - K_p_pos @ e_pos - K_d_pos @ e_pos_dt\n",
    "\n",
    "    e_rot = SO3(R_EE @ traj_ori.T).log() # shape (3,)\n",
    "    e_rot_dt = v_EE[3:] - traj_ori_dt # shape (3,)\n",
    "    omega_dt = traj_ori_dtdt -K_p_rot @ e_rot - K_d_rot @ e_rot_dt\n",
    "\n",
    "    v_EE_dt_desired = np.concatenate([v_dt, omega_dt])\n",
    "    S = J_EE\n",
    "    S_pinv = S.T @ np.linalg.pinv(S @ S.T + 0.01* np.eye(S.shape[0]))\n",
    "    S_null = (np.eye(len(q)) - S_pinv @ S)\n",
    "    ddq_task = S_pinv @ (v_EE_dt_desired - dJdq_EE)\n",
    "\n",
    "    # Secondary objective: encourage the joints to remain close to the initial configuration\n",
    "    W = np.diag(1.0/(joint_ub-joint_lb))\n",
    "    q_bar = 1/2*(joint_ub+joint_lb)\n",
    "    e_joint = W @ (q - q_bar)\n",
    "    e_joint_dot = W @ dq\n",
    "    ddq = ddq_task + S_null @ (- Kp_joint @ e_joint - Kd_joint @ e_joint_dot)\n",
    "\n",
    "    # tau = M_pin @ ddq + nle_pin - G_pin + static_friction * np.tanh(dq_moving_avg)\n",
    "    tau = M @ ddq + Coriolis + static_friction * np.tanh(dq)\n",
    "\n",
    "    tau = np.clip(tau, -30, 30)\n",
    "    robot.setCommands(tau)\n",
    "\n",
    "\n",
    "robot.setCommands(np.zeros_like(tau))\n"
   ]
  },
  {
   "cell_type": "markdown",
   "metadata": {},
   "source": [
    "## 6. Clean the whiteboard"
   ]
  },
  {
   "cell_type": "code",
   "execution_count": 47,
   "metadata": {},
   "outputs": [],
   "source": [
    "# Define CBF-QP\n",
    "n_vars = 3\n",
    "n_obstacle = n_polytope + n_hyperplane\n",
    "n_robot = len(robot_SFs)\n",
    "n_CBF = n_robot*n_obstacle\n",
    "n_in = 1 + 1 + 2 + 2\n",
    "cbf_qp = init_proxsuite_qp(n_v=n_vars, n_eq=0, n_in=n_in)\n",
    "\n",
    "# Define parameters\n",
    "F_press = np.array([0, 0, 0, 0, 0, 0])\n",
    "mu_friction = 0.305 # 0.305\n",
    "alpha0 = 1.03\n",
    "gamma1 = 20\n",
    "gamma2 = 20\n",
    "compensation = 0\n",
    "rho = 5\n",
    "threshold = 1e-2\n",
    "f0 = 0.3\n",
    "circulation_outer_scaling = 40\n",
    "circulation_inner_scaling = 2\n",
    "circulation_threshold = 1e-2\n",
    "relaxation_outer_scaling = 1000\n",
    "relaxation_threshold = 0.75\n",
    "a_EE_lb = np.array([-0.5, -0.5, -0.5])\n",
    "a_EE_ub = np.array([0.5, 0.5, 0.5])\n",
    "\n",
    "# Define tracking gains\n",
    "K_p_pos = np.diag([100,100,100])*0.9\n",
    "K_d_pos = np.diag([50,50,50])*0.5\n",
    "\n",
    "K_p_rot = np.diag([200,200,200])*1.8\n",
    "K_d_rot = np.diag([100,100,100])*0.4\n",
    "\n",
    "Kp_joint = 20*np.diag([1, 1, 1, 1, 1, 1, 1])\n",
    "Kd_joint = 10*np.diag([1, 1, 1, 1, 1, 1, 1])\n",
    "\n",
    "# Define the record\n",
    "q_list = []\n",
    "dq_list = []\n",
    "ddq_list = []\n",
    "tau_list = []\n",
    "all_h_list = []\n",
    "time_per_loop_list = []\n",
    "P_EE_list = []\n",
    "P_EE_d_list = []\n",
    "theta_2d_list = []"
   ]
  },
  {
   "cell_type": "code",
   "execution_count": 48,
   "metadata": {},
   "outputs": [
    {
     "ename": "TypeError",
     "evalue": "'NoneType' object is not subscriptable",
     "output_type": "error",
     "traceback": [
      "\u001b[0;31m---------------------------------------------------------------------------\u001b[0m",
      "\u001b[0;31mTypeError\u001b[0m                                 Traceback (most recent call last)",
      "Cell \u001b[0;32mIn[48], line 58\u001b[0m\n\u001b[1;32m     55\u001b[0m traj_ori, traj_ori_dt, traj_ori_dtdt \u001b[38;5;241m=\u001b[39m traj_orientation\u001b[38;5;241m.\u001b[39mget_traj_and_ders(t)\n\u001b[1;32m     57\u001b[0m robot_info \u001b[38;5;241m=\u001b[39m robot\u001b[38;5;241m.\u001b[39mgetJointStates()\n\u001b[0;32m---> 58\u001b[0m q \u001b[38;5;241m=\u001b[39m \u001b[43mrobot_info\u001b[49m\u001b[43m[\u001b[49m\u001b[38;5;124;43m'\u001b[39;49m\u001b[38;5;124;43mq\u001b[39;49m\u001b[38;5;124;43m'\u001b[39;49m\u001b[43m]\u001b[49m \u001b[38;5;66;03m# shape (7,)\u001b[39;00m\n\u001b[1;32m     59\u001b[0m dq \u001b[38;5;241m=\u001b[39m robot_info[\u001b[38;5;124m'\u001b[39m\u001b[38;5;124mdq\u001b[39m\u001b[38;5;124m'\u001b[39m] \u001b[38;5;66;03m# shape (7,)\u001b[39;00m\n\u001b[1;32m     60\u001b[0m M \u001b[38;5;241m=\u001b[39m robot_info[\u001b[38;5;124m'\u001b[39m\u001b[38;5;124mM\u001b[39m\u001b[38;5;124m'\u001b[39m] \u001b[38;5;241m+\u001b[39m delta_M \u001b[38;5;66;03m# shape (7,7)\u001b[39;00m\n",
      "\u001b[0;31mTypeError\u001b[0m: 'NoneType' object is not subscriptable"
     ]
    }
   ],
   "source": [
    "t_1 = 1\n",
    "t_2 = 5\n",
    "t_final = 15\n",
    "\n",
    "# Get current pose\n",
    "robot_info = robot.getJointStates()\n",
    "q = robot_info['q'] # shape (7,)\n",
    "dq = robot_info['dq'] # shape (7,)\n",
    "\n",
    "q_pin = 0.30*np.ones(9)\n",
    "dq_pin = np.zeros(9)\n",
    "q_pin[0:n_joints] = q # shape (9,)\n",
    "dq_pin[0:n_joints] = dq # shape (9,)\n",
    "\n",
    "pin_info = pin_robot.getInfo(q_pin, dq_pin)\n",
    "P_EE = pin_info[\"P_EE\"]\n",
    "R_EE = pin_info[\"R_EE\"]\n",
    "\n",
    "# Translational trajectory\n",
    "P_EE_start = P_EE.copy()\n",
    "P_EE_start_cleaning = np.array([0.5, 0.5, 0.02])\n",
    "P_EE_end_cleaning = np.array([-0.1, 0.5, 0.02])\n",
    "# P_EE_start_cleaning = np.array([0.5, 0.5, 0.019])\n",
    "# P_EE_end_cleaning = np.array([-0.1, 0.5, 0.019])\n",
    "\n",
    "via_points = np.array([P_EE_start, P_EE_start_cleaning, P_EE_end_cleaning, P_EE_end_cleaning])\n",
    "# via_points = np.array([P_EE_start, P_EE_start_cleaning, P_EE_end_cleaning, P_EE_start_cleaning])\n",
    "target_time = np.array([0, t_1, t_2, t_final])\n",
    "Ts = 0.01\n",
    "traj_position = PositionTrapezoidalTrajectory(via_points, target_time, T_antp=0.2, Ts=Ts)\n",
    "\n",
    "# Rotational trajectory\n",
    "R_EE_start  = R_EE.copy()\n",
    "\n",
    "roll = np.pi\n",
    "pitch = 0\n",
    "yaw = 0\n",
    "R_EE_cleaning = Rotation.from_euler('xyz', [roll, pitch, yaw]).as_matrix()\n",
    "\n",
    "orientations = np.array([R_EE_start, R_EE_cleaning, R_EE_cleaning])\n",
    "target_time = np.array([0, t_1, t_final])\n",
    "traj_orientation = OrientationTrapezoidalTrajectory(orientations, target_time, Ts=Ts)\n",
    "\n",
    "# Get tau_ext init\n",
    "robot_info = robot.getJointStates()\n",
    "tau_m = robot_info['T']\n",
    "G = robot_info['G']\n",
    "tau_ext_init = tau_m - G\n",
    "\n",
    "t_start = time.time()\n",
    "while time.time() - t_start < t_final + 1:\n",
    "    time_loop_start = time.time()\n",
    "    t = time.time() - t_start\n",
    "    traj_pos, traj_pos_dt, traj_pos_dtdt = traj_position.get_traj_and_ders(t)\n",
    "    traj_ori, traj_ori_dt, traj_ori_dtdt = traj_orientation.get_traj_and_ders(t)\n",
    "\n",
    "    robot_info = robot.getJointStates()\n",
    "    q = robot_info['q'] # shape (7,)\n",
    "    dq = robot_info['dq'] # shape (7,)\n",
    "    M = robot_info['M'] + delta_M # shape (7,7)\n",
    "    G = robot_info['G'] # shape (7,)\n",
    "    Coriolis = robot_info['C'] # shape (7,)\n",
    "    tau_m = robot_info['T'] # shape (7,)\n",
    "    tau_ext = tau_m - G - tau_ext_init\n",
    "\n",
    "    q_pin = 0.025*np.ones(9)\n",
    "    dq_pin = np.zeros(9)\n",
    "    q_pin[0:n_joints] = q # shape (9,)\n",
    "    dq_pin[0:n_joints] = dq # shape (9,)\n",
    "\n",
    "    pin_info = pin_robot.getInfo(q_pin, dq_pin)\n",
    "\n",
    "    P_EE = pin_info[\"P_EE\"]\n",
    "    R_EE = pin_info[\"R_EE\"]\n",
    "    J_EE = pin_info[\"J_EE\"][:,0:n_joints] # shape (6,7)\n",
    "    dJdq_EE = pin_info[\"dJdq_EE\"] # shape (6,)\n",
    "    v_EE = J_EE @ dq # shape (6,)\n",
    "\n",
    "    # Primary obejctive: tracking control\n",
    "    e_pos = P_EE - traj_pos # shape (3,)\n",
    "    e_pos_dt = v_EE[:3] - traj_pos_dt # shape (3,)\n",
    "    v_dt = traj_pos_dtdt - K_p_pos @ e_pos - K_d_pos @ e_pos_dt\n",
    "\n",
    "    e_rot = SO3(R_EE @ traj_ori.T).log() # shape (3,)\n",
    "    e_rot_dt = v_EE[3:] - traj_ori_dt # shape (3,)\n",
    "    omega_dt = traj_ori_dtdt -K_p_rot @ e_rot - K_d_rot @ e_rot_dt\n",
    "\n",
    "    v_EE_dt_desired = np.concatenate([v_dt, omega_dt])\n",
    "\n",
    "    theta_2d = np.arctan2(R_EE[1,0], R_EE[0,0])\n",
    "\n",
    "    # CBF-QP\n",
    "    C = np.zeros((n_in, n_vars))\n",
    "    lb = np.zeros(n_in)\n",
    "    ub = np.zeros(n_in)\n",
    "\n",
    "    CBF_tmp = np.zeros(n_CBF)\n",
    "    phi1_tmp = np.zeros(n_CBF)\n",
    "    phi2_tmp = np.zeros(n_CBF)\n",
    "\n",
    "    all_P_np = np.zeros([1, 3])\n",
    "    all_theta_np = np.zeros([1])\n",
    "    all_dx = np.zeros([1, 3])\n",
    "\n",
    "    all_P_np[0] = P_EE.copy()\n",
    "    all_theta_np[0] = theta_2d\n",
    "    all_dx[0,:] = v_EE[[0,1,5]]\n",
    "\n",
    "    all_h_np, _, _, first_order_all_average_scalar_np, second_order_all_average_scalar_np, second_order_all_average_vector_np = \\\n",
    "        probs.getSmoothMinCBFConstraintsFixedOrientation(all_P_np, all_theta_np, all_dx, alpha0)\n",
    "\n",
    "    min_h = np.min(all_h_np)\n",
    "    indices = np.where(rho*(all_h_np - min_h) < 700)[0]\n",
    "    h_selected = all_h_np[indices]\n",
    "    first_order_all_average_scalar_selected = first_order_all_average_scalar_np[indices]\n",
    "    second_order_all_average_scalar_selected = second_order_all_average_scalar_np[indices]\n",
    "    second_order_all_average_vector_selected = second_order_all_average_vector_np[indices,:]\n",
    "\n",
    "    f, f_dh, f_dhdh = sfh.getSmoothMinimumAndLocalGradientAndHessian(rho, h_selected)\n",
    "\n",
    "    # CBF-QP constraints\n",
    "    CBF = f - f0\n",
    "    dCBF =  f_dh @ first_order_all_average_scalar_selected # scalar\n",
    "    phi1 = dCBF + gamma1 * CBF\n",
    "\n",
    "    C[0,:] = f_dh @ second_order_all_average_vector_selected\n",
    "    lb[0] = - gamma2*phi1 - gamma1*dCBF - first_order_all_average_scalar_selected.T @ f_dhdh @ first_order_all_average_scalar_selected \\\n",
    "            - f_dh @ second_order_all_average_scalar_selected + compensation\n",
    "    ub[0] = np.inf\n",
    "\n",
    "    # tmp = np.array([-C[0,1], C[0,0], 0])\n",
    "    # C[1,:] = tmp\n",
    "    # ueq = np.zeros(3)\n",
    "    # lb[1] = C[1,:] @ ueq + circulation_outer_scaling*(1-np.exp(circulation_inner_scaling*(CBF-circulation_threshold))) \\\n",
    "    #     + relaxation_outer_scaling*(np.exp(-(np.linalg.norm(v_EE[0:2])/relaxation_threshold)**2) - 1)\n",
    "    # ub[1] = np.inf\n",
    "\n",
    "    h_v_lb = v_EE[0:2] - v_EE_lb[0:2]\n",
    "    h_v_ub = v_EE_ub[0:2] - v_EE[0:2]\n",
    "    C[2:4, :] = np.eye(2, 3)\n",
    "    lb[2:4] = -20*h_v_lb\n",
    "    ub[2:4] = 20*h_v_ub\n",
    "\n",
    "    C[4:6, :] = np.eye(2, 3)\n",
    "    lb[4:6] = a_EE_lb[0:2]\n",
    "    ub[4:6] = a_EE_ub[0:2]\n",
    "    \n",
    "    g = -v_EE_dt_desired[[0,1,5]]\n",
    "\n",
    "    cbf_qp.update(g=g, C=C, l=lb, u=ub)\n",
    "    cbf_qp.solve()\n",
    "    dx_safe = cbf_qp.results.x\n",
    "\n",
    "    v_EE_dt = v_EE_dt_desired.copy()\n",
    "    v_EE_dt[[0,1,5]] = dx_safe.copy()\n",
    "    \n",
    "    S = J_EE\n",
    "    S_pinv = S.T @ np.linalg.pinv(S @ S.T + 0.01* np.eye(S.shape[0]))\n",
    "    S_null = (np.eye(len(q)) - S_pinv @ S)\n",
    "    ddq_task = S_pinv @ (v_EE_dt - dJdq_EE)\n",
    "\n",
    "    # Secondary objective: encourage the joints to remain close to the initial configuration\n",
    "    W = np.diag(1.0/(joint_ub-joint_lb))\n",
    "    q_bar = 1/2*(joint_ub+joint_lb)\n",
    "    e_joint = W @ (q - q_bar)\n",
    "    e_joint_dot = W @ dq\n",
    "    ddq = ddq_task + S_null @ (- Kp_joint @ e_joint - Kd_joint @ e_joint_dot)\n",
    "\n",
    "    # Other objective 1: apply a force on the z axis to press the end-effector against the table\n",
    "    tau_press = J_EE.T @ F_press\n",
    "\n",
    "    # Other objective 2: apply a force to compensate for the friction\n",
    "    # F_ext = np.linalg.pinv(J_EE.T) @ tau_ext\n",
    "    # z_force = F_ext[2]\n",
    "    # F_friction = np.zeros(6)\n",
    "    # if z_force < 0 and np.linalg.norm(v_EE[0:2]) > 0.01:\n",
    "    #     friction = mu_friction * np.abs(z_force)\n",
    "    #     direction = v_EE[0:2]/np.linalg.norm(v_EE[0:2])\n",
    "    #     F_friction[0:2] = direction * friction\n",
    "    # if z_force < 0 and abs(v_EE[5]) > 0.01:\n",
    "    #     F_friction[5] = np.sign(v_EE[5]) * mu_friction * abs(z_force) * 0.03534\n",
    "    # tau_friction = J_EE.T @ F_friction\n",
    "\n",
    "    # tau = M @ ddq + Coriolis + static_friction * np.tanh(dq) + tau_friction + tau_press\n",
    "    tau = M @ ddq + Coriolis + static_friction * np.tanh(dq) \n",
    "\n",
    "    tau = np.clip(tau, -30, 30)\n",
    "    robot.setCommands(tau)\n",
    "    time_loop_end = time.time()\n",
    "\n",
    "    q_list.append(q.copy())\n",
    "    dq_list.append(dq.copy())\n",
    "    ddq_list.append(ddq.copy())\n",
    "    tau_list.append(tau.copy())\n",
    "    all_h_list.append(all_h_np.copy())\n",
    "    time_per_loop_list.append(time_loop_end - time_loop_start)\n",
    "    P_EE_list.append(P_EE.copy())\n",
    "    P_EE_d_list.append(traj_pos.copy())\n",
    "    theta_2d_list.append(theta_2d)\n",
    "\n",
    "\n",
    "robot.setCommands(np.zeros_like(tau))"
   ]
  },
  {
   "cell_type": "markdown",
   "metadata": {},
   "source": [
    "## 7. Save the data"
   ]
  },
  {
   "cell_type": "code",
   "execution_count": 50,
   "metadata": {},
   "outputs": [],
   "source": [
    "import pickle\n",
    "from datetime import datetime\n",
    "import os\n",
    "\n",
    "now = datetime.now()\n",
    "formatted_date_time = now.strftime(\"%Y-%m-%d-%H-%M-%S\")\n",
    "\n",
    "directory = f\"exp2_results/no_circ_{formatted_date_time}\"\n",
    "\n",
    "# Create the directory if it doesn't exist\n",
    "if not os.path.exists(directory):\n",
    "    os.makedirs(directory)\n",
    "\n",
    "# Define the file path\n",
    "file_path = os.path.join(directory, \"data.pickle\")\n",
    "\n",
    "# Data to be saved\n",
    "data = {\n",
    "    \"q\": q_list,\n",
    "    \"dq\": dq_list,\n",
    "    \"ddq\": ddq_list,\n",
    "    \"tau\": tau_list,\n",
    "    \"all_h\": all_h_list,\n",
    "    \"time_per_loop\": time_per_loop_list,\n",
    "    \"P_EE\": P_EE_list,\n",
    "    \"P_EE_d\": P_EE_d_list,\n",
    "    \"theta_2d_list\": theta_2d_list\n",
    "}\n",
    "\n",
    "# Save the data using pickle\n",
    "with open(file_path, \"wb\") as f:\n",
    "    pickle.dump(data, f)\n"
   ]
  },
  {
   "cell_type": "markdown",
   "metadata": {},
   "source": [
    "## 8. Visualize the trajectory"
   ]
  },
  {
   "cell_type": "code",
   "execution_count": 66,
   "metadata": {},
   "outputs": [
    {
     "data": {
      "text/plain": [
       "(0.856816067701903,\n",
       " 0.24147038763965387,\n",
       " -0.2862876548138651,\n",
       " 0.6631958200080065)"
      ]
     },
     "execution_count": 66,
     "metadata": {},
     "output_type": "execute_result"
    },
    {
     "data": {
      "image/png": "[encoded data removed]",
      "text/plain": [
       "<Figure size 640x480 with 1 Axes>"
      ]
     },
     "metadata": {},
     "output_type": "display_data"
    }
   ],
   "source": [
    "import matplotlib.pyplot as plt\n",
    "from matplotlib.patches import Ellipse\n",
    "\n",
    "fig, ax = plt.subplots()\n",
    "\n",
    "ax.plot(corner_1[1], corner_1[0], 'o', color='red')\n",
    "ax.plot(corner_2[1], corner_2[0], 'o', color='red')\n",
    "ax.plot(corner_3[1], corner_3[0], 'o', color='red')\n",
    "ax.plot(corner_4[1], corner_4[0], 'o', color='red')\n",
    "\n",
    "ax.plot(vertex_1[1], vertex_1[0], 'o', color='red')\n",
    "ax.plot(vertex_2[1], vertex_2[0], 'o', color='red')\n",
    "ax.plot(vertex_3[1], vertex_3[0], 'o', color='red')\n",
    "ax.plot(vertex_4[1], vertex_4[0], 'o', color='red')\n",
    "\n",
    "P_EE_list = np.array(P_EE_list)\n",
    "P_EE_d_list = np.array(P_EE_d_list)\n",
    "theta_2d_list = np.array(theta_2d_list)\n",
    "\n",
    "ax.plot(P_EE_d_list[:,1], P_EE_d_list[:,0])\n",
    "ax.plot(P_EE_list[:,1], P_EE_list[:,0])\n",
    "\n",
    "threshold = 0.03\n",
    "pos_2d_prev = P_EE_list[0,:2]\n",
    "for i in range(len(P_EE_list)):\n",
    "    pos_2d = P_EE_list[i,0:2]\n",
    "    if np.linalg.norm(pos_2d - pos_2d_prev) >= threshold:\n",
    "        angle = np.rad2deg(theta_2d_list[i] + np.pi/2)\n",
    "        ellipse = Ellipse(xy=(pos_2d[1],pos_2d[0]), width=2*eraser_bb_size_2d[0], height=2*eraser_bb_size_2d[1],\n",
    "                        angle=angle,edgecolor='cornflowerblue', facecolor='none')\n",
    "        ax.add_patch(ellipse)\n",
    "        pos_2d_prev = pos_2d\n",
    "\n",
    "# Invert the x-axis (make it go left)\n",
    "ax.invert_xaxis()\n",
    "ax.set_xlabel('y')\n",
    "ax.set_ylabel('x')\n",
    "ax.axis('equal')"
   ]
  },
  {
   "cell_type": "code",
   "execution_count": 44,
   "metadata": {},
   "outputs": [
    {
     "data": {
      "text/plain": [
       "<matplotlib.legend.Legend at 0x7236e9031c90>"
      ]
     },
     "execution_count": 44,
     "metadata": {},
     "output_type": "execute_result"
    },
    {
     "data": {
      "image/png": "[encoded data removed]",
      "text/plain": [
       "<Figure size 640x480 with 1 Axes>"
      ]
     },
     "metadata": {},
     "output_type": "display_data"
    },
    {
     "data": {
      "image/png": "[encoded data removed]",
      "text/plain": [
       "<Figure size 640x480 with 1 Axes>"
      ]
     },
     "metadata": {},
     "output_type": "display_data"
    },
    {
     "data": {
      "image/png": "[encoded data removed]",
      "text/plain": [
       "<Figure size 640x480 with 1 Axes>"
      ]
     },
     "metadata": {},
     "output_type": "display_data"
    }
   ],
   "source": [
    "import matplotlib.pyplot as plt\n",
    "P_EE_list = np.array(P_EE_list)\n",
    "P_EE_d_list = np.array(P_EE_d_list)\n",
    "plt.figure(0)\n",
    "plt.plot(P_EE_list[:,0], label='tracked x')\n",
    "plt.plot(P_EE_d_list[:,0], label='desired x')\n",
    "plt.legend()\n",
    "\n",
    "plt.figure(1)\n",
    "plt.plot(P_EE_list[:,1], label='tracked y')\n",
    "plt.plot(P_EE_d_list[:,1], label='desired y')\n",
    "plt.legend()\n",
    "\n",
    "plt.figure(2)\n",
    "plt.plot(P_EE_list[:,2], label='tracked z')\n",
    "plt.plot(P_EE_d_list[:,2], label='desired z')\n",
    "plt.legend()"
   ]
  }
 ],
 "metadata": {
  "kernelspec": {
   "display_name": "base",
   "language": "python",
   "name": "python3"
  },
  "language_info": {
   "codemirror_mode": {
    "name": "ipython",
    "version": 3
   },
   "file_extension": ".py",
   "mimetype": "text/x-python",
   "name": "python",
   "nbconvert_exporter": "python",
   "pygments_lexer": "ipython3",
   "version": "3.11.9"
  }
 },
 "nbformat": 4,
 "nbformat_minor": 2
}
